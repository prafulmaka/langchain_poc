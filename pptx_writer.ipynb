{
 "cells": [
  {
   "cell_type": "code",
   "execution_count": 2,
   "id": "b17363e0-8393-4735-a15f-1025a8234c7e",
   "metadata": {},
   "outputs": [],
   "source": [
    "from pptx import Presentation\n",
    "from pptx.util import Inches, Pt\n",
    "\n",
    "prs = Presentation()\n",
    "title_slide_layout = prs.slide_layouts[5]\n",
    "slide = prs.slides.add_slide(title_slide_layout)\n",
    "\n",
    "title = slide.shapes.title\n",
    "title.text = \"Adding an AutoShape\"\n",
    "\n",
    "left = top = width = height = Inches(1)\n",
    "txBox = slide.shapes.add_textbox(left, top, width, height)\n",
    "tf = txBox.text_frame\n",
    "\n",
    "tf.text = \"This is text inside a textbox\"\n",
    "\n",
    "p = tf.add_paragraph()\n",
    "p.text = \"This is a second paragraph that's bold\"\n",
    "\n",
    "p = tf.add_paragraph()\n",
    "p.text = \"This is a third paragraph that's big\"\n",
    "\n",
    "prs.save('test.pptx')"
   ]
  },
  {
   "cell_type": "code",
   "execution_count": null,
   "id": "470f68a2-d209-4ed9-83cd-fc6b62d9acbf",
   "metadata": {},
   "outputs": [],
   "source": []
  }
 ],
 "metadata": {
  "kernelspec": {
   "display_name": "Python 3 (ipykernel)",
   "language": "python",
   "name": "python3"
  },
  "language_info": {
   "codemirror_mode": {
    "name": "ipython",
    "version": 3
   },
   "file_extension": ".py",
   "mimetype": "text/x-python",
   "name": "python",
   "nbconvert_exporter": "python",
   "pygments_lexer": "ipython3",
   "version": "3.12.4"
  }
 },
 "nbformat": 4,
 "nbformat_minor": 5
}
