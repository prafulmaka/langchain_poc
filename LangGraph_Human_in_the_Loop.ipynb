{
 "cells": [
  {
   "cell_type": "code",
   "execution_count": 2,
   "id": "86e89246-b09a-4f1c-9c0c-c71df54d9d39",
   "metadata": {},
   "outputs": [],
   "source": [
    "from langgraph.graph import StateGraph, END\n",
    "from typing import TypedDict, Annotated\n",
    "import operator\n",
    "from langchain_core.messages import AnyMessage, SystemMessage, HumanMessage, ToolMessage\n",
    "from langchain_openai import ChatOpenAI\n",
    "from langchain_community.tools.tavily_search import TavilySearchResults\n",
    "from langgraph.checkpoint.sqlite import SqliteSaver\n",
    "from dotenv import dotenv_values\n",
    "import os\n",
    "\n",
    "memory = SqliteSaver.from_conn_string(\":memory:\")"
   ]
  },
  {
   "cell_type": "code",
   "execution_count": 3,
   "id": "29825808-0514-4902-a00a-458b6b08d532",
   "metadata": {},
   "outputs": [],
   "source": [
    "config = dotenv_values(\".env\")"
   ]
  },
  {
   "cell_type": "code",
   "execution_count": 6,
   "id": "c9e30397-7ab3-4e3f-8c6b-33cb75db3dcf",
   "metadata": {},
   "outputs": [],
   "source": [
    "from uuid import uuid4\n",
    "from langchain_core.messages import AnyMessage, SystemMessage, HumanMessage, AIMessage\n",
    "\n",
    "\"\"\"\n",
    "In previous examples we've annotated the `messages` state key\n",
    "with the default `operator.add` or `+` reducer, which always\n",
    "appends new messages to the end of the existing messages array.\n",
    "\n",
    "Now, to support replacing existing messages, we annotate the\n",
    "`messages` key with a customer reducer function, which replaces\n",
    "messages with the same `id`, and appends them otherwise.\n",
    "\"\"\"\n",
    "def reduce_messages(left: list[AnyMessage], right: list[AnyMessage]) -> list[AnyMessage]:\n",
    "    # assign ids to messages that don't have them\n",
    "    for message in right:\n",
    "        if not message.id:\n",
    "            message.id = str(uuid4())\n",
    "    # merge the new messages with the existing messages\n",
    "    merged = left.copy()\n",
    "    for message in right:\n",
    "        for i, existing in enumerate(merged):\n",
    "            # replace any existing messages with the same id\n",
    "            if existing.id == message.id:\n",
    "                merged[i] = message\n",
    "                break\n",
    "        else:\n",
    "            # append any new messages to the end\n",
    "            merged.append(message)\n",
    "    return merged\n",
    "\n",
    "class AgentState(TypedDict):\n",
    "    messages: Annotated[list[AnyMessage], reduce_messages]"
   ]
  },
  {
   "cell_type": "code",
   "execution_count": 7,
   "id": "7d0df564-2568-46d4-ac8d-102057a766cd",
   "metadata": {},
   "outputs": [],
   "source": [
    "tool = TavilySearchResults(max_results=2)"
   ]
  },
  {
   "cell_type": "code",
   "execution_count": 8,
   "id": "3438779a-d77f-49ac-b6b1-63abf29484c1",
   "metadata": {},
   "outputs": [],
   "source": [
    "class Agent:\n",
    "    def __init__(self, model, tools, system=\"\", checkpointer=None):\n",
    "        self.system = system\n",
    "        graph = StateGraph(AgentState)\n",
    "        graph.add_node(\"llm\", self.call_openai)\n",
    "        graph.add_node(\"action\", self.take_action)\n",
    "        graph.add_conditional_edges(\"llm\", self.exists_action, {True: \"action\", False: END})\n",
    "        graph.add_edge(\"action\", \"llm\")\n",
    "        graph.set_entry_point(\"llm\")\n",
    "        self.graph = graph.compile(\n",
    "            checkpointer=checkpointer,\n",
    "            interrupt_before=[\"action\"]\n",
    "        )\n",
    "        self.tools = {t.name: t for t in tools}\n",
    "        self.model = model.bind_tools(tools)\n",
    "\n",
    "    def call_openai(self, state: AgentState):\n",
    "        messages = state['messages']\n",
    "        if self.system:\n",
    "            messages = [SystemMessage(content=self.system)] + messages\n",
    "        message = self.model.invoke(messages)\n",
    "        return {'messages': [message]}\n",
    "\n",
    "    def exists_action(self, state: AgentState):\n",
    "        print(state)\n",
    "        result = state['messages'][-1]\n",
    "        return len(result.tool_calls) > 0\n",
    "\n",
    "    def take_action(self, state: AgentState):\n",
    "        tool_calls = state['messages'][-1].tool_calls\n",
    "        results = []\n",
    "        for t in tool_calls:\n",
    "            print(f\"Calling: {t}\")\n",
    "            result = self.tools[t['name']].invoke(t['args'])\n",
    "            results.append(ToolMessage(tool_call_id=t['id'], name=t['name'], content=str(result)))\n",
    "        print(\"Back to the model!\")\n",
    "        return {'messages': results}"
   ]
  },
  {
   "cell_type": "code",
   "execution_count": 10,
   "id": "8b5f3637-5aff-4182-a62f-ef76701a4ae2",
   "metadata": {},
   "outputs": [],
   "source": [
    "prompt = \"\"\"You are a smart research assistant. Use the search engine to look up information. \\\n",
    "You are allowed to make multiple calls (either together or in sequence). \\\n",
    "Only look up information when you are sure of what you want. \\\n",
    "If you need to look up some information before asking a follow up question, you are allowed to do that!\n",
    "\"\"\"\n",
    "model = ChatOpenAI(model=\"gpt-3.5-turbo\", openai_api_key=config[\"OPEN_AI_KEY\"])\n",
    "abot = Agent(model, [tool], system=prompt, checkpointer=memory)"
   ]
  },
  {
   "cell_type": "code",
   "execution_count": 11,
   "id": "d7bbfcf5-8d02-4e07-9a72-90b7220080c0",
   "metadata": {},
   "outputs": [
    {
     "name": "stdout",
     "output_type": "stream",
     "text": [
      "{'messages': [HumanMessage(content='Whats the weather in SF?', id='849bcd3e-a675-40ee-b3cd-35cec480df07'), AIMessage(content='', additional_kwargs={'tool_calls': [{'id': 'call_g5Irfsbd43deADe6Uwfu30pj', 'function': {'arguments': '{\"query\":\"current weather in San Francisco\"}', 'name': 'tavily_search_results_json'}, 'type': 'function'}]}, response_metadata={'token_usage': {'completion_tokens': 22, 'prompt_tokens': 152, 'total_tokens': 174}, 'model_name': 'gpt-3.5-turbo', 'system_fingerprint': None, 'finish_reason': 'tool_calls', 'logprobs': None}, id='run-7387b42a-7c86-4c6f-8ab7-d06289075330-0', tool_calls=[{'name': 'tavily_search_results_json', 'args': {'query': 'current weather in San Francisco'}, 'id': 'call_g5Irfsbd43deADe6Uwfu30pj'}])]}\n",
      "{'messages': [AIMessage(content='', additional_kwargs={'tool_calls': [{'id': 'call_g5Irfsbd43deADe6Uwfu30pj', 'function': {'arguments': '{\"query\":\"current weather in San Francisco\"}', 'name': 'tavily_search_results_json'}, 'type': 'function'}]}, response_metadata={'token_usage': {'completion_tokens': 22, 'prompt_tokens': 152, 'total_tokens': 174}, 'model_name': 'gpt-3.5-turbo', 'system_fingerprint': None, 'finish_reason': 'tool_calls', 'logprobs': None}, id='run-7387b42a-7c86-4c6f-8ab7-d06289075330-0', tool_calls=[{'name': 'tavily_search_results_json', 'args': {'query': 'current weather in San Francisco'}, 'id': 'call_g5Irfsbd43deADe6Uwfu30pj'}])]}\n"
     ]
    }
   ],
   "source": [
    "messages = [HumanMessage(content=\"Whats the weather in SF?\")]\n",
    "thread = {\"configurable\": {\"thread_id\": \"1\"}}\n",
    "for event in abot.graph.stream({\"messages\": messages}, thread):\n",
    "    for v in event.values():\n",
    "        print(v)"
   ]
  },
  {
   "cell_type": "code",
   "execution_count": 12,
   "id": "f6723e44-ab25-42d0-a10e-9da42820bbbe",
   "metadata": {},
   "outputs": [
    {
     "data": {
      "text/plain": [
       "StateSnapshot(values={'messages': [HumanMessage(content='Whats the weather in SF?', id='849bcd3e-a675-40ee-b3cd-35cec480df07'), AIMessage(content='', additional_kwargs={'tool_calls': [{'function': {'arguments': '{\"query\":\"current weather in San Francisco\"}', 'name': 'tavily_search_results_json'}, 'id': 'call_g5Irfsbd43deADe6Uwfu30pj', 'type': 'function'}]}, response_metadata={'finish_reason': 'tool_calls', 'logprobs': None, 'model_name': 'gpt-3.5-turbo', 'system_fingerprint': None, 'token_usage': {'completion_tokens': 22, 'prompt_tokens': 152, 'total_tokens': 174}}, id='run-7387b42a-7c86-4c6f-8ab7-d06289075330-0', tool_calls=[{'name': 'tavily_search_results_json', 'args': {'query': 'current weather in San Francisco'}, 'id': 'call_g5Irfsbd43deADe6Uwfu30pj'}])]}, next=('action',), config={'configurable': {'thread_id': '1', 'thread_ts': '2024-07-01T06:44:13.560122+00:00'}}, parent_config=None)"
      ]
     },
     "execution_count": 12,
     "metadata": {},
     "output_type": "execute_result"
    }
   ],
   "source": [
    "abot.graph.get_state(thread)"
   ]
  },
  {
   "cell_type": "code",
   "execution_count": 13,
   "id": "c24de848-ca44-40c9-ad51-c02c8aaec0ad",
   "metadata": {},
   "outputs": [
    {
     "data": {
      "text/plain": [
       "('action',)"
      ]
     },
     "execution_count": 13,
     "metadata": {},
     "output_type": "execute_result"
    }
   ],
   "source": [
    "abot.graph.get_state(thread).next"
   ]
  },
  {
   "cell_type": "code",
   "execution_count": 18,
   "id": "89ecd0a2-3e5f-4cf4-b204-7d3f0d179e22",
   "metadata": {},
   "outputs": [],
   "source": [
    "# Continue after Interrupt"
   ]
  },
  {
   "cell_type": "code",
   "execution_count": 14,
   "id": "a441731a-4c79-467a-bd96-01742105930b",
   "metadata": {},
   "outputs": [
    {
     "name": "stdout",
     "output_type": "stream",
     "text": [
      "Calling: {'name': 'tavily_search_results_json', 'args': {'query': 'current weather in San Francisco'}, 'id': 'call_g5Irfsbd43deADe6Uwfu30pj'}\n",
      "Back to the model!\n",
      "{'messages': [ToolMessage(content='[{\\'url\\': \\'https://weatherspark.com/h/y/557/2024/Historical-Weather-during-2024-in-San-Francisco-California-United-States\\', \\'content\\': \\'San Francisco Temperature History 2024\\\\nHourly Temperature in 2024 in San Francisco\\\\nCompare San Francisco to another city:\\\\nCloud Cover in 2024 in San Francisco\\\\nDaily Precipitation in 2024 in San Francisco\\\\nObserved Weather in 2024 in San Francisco\\\\nHours of Daylight and Twilight in 2024 in San Francisco\\\\nSunrise & Sunset with Twilight and Daylight Saving Time in 2024 in San Francisco\\\\nSolar Elevation and Azimuth in 2024 in San Francisco\\\\nMoon Rise, Set & Phases in 2024 in San Francisco\\\\nHumidity Comfort Levels in 2024 in San Francisco\\\\nWind Speed in 2024 in San Francisco\\\\nHourly Wind Speed in 2024 in San Francisco\\\\nHourly Wind Direction in 2024 in San Francisco\\\\nAtmospheric Pressure in 2024 in San Francisco\\\\nData Sources\\\\n See all nearby weather stations\\\\nLatest Report — 3:56 PM\\\\nWed, Jan 24, 2024\\\\xa0\\\\xa0\\\\xa0\\\\xa013 min ago\\\\xa0\\\\xa0\\\\xa0\\\\xa0UTC 23:56\\\\nCall Sign KSFO\\\\nTemp.\\\\n60.1°F\\\\nPrecipitation\\\\nNo Report\\\\nWind\\\\n6.9 mph\\\\nCloud Cover\\\\nMostly Cloudy\\\\n1,800 ft\\\\nRaw: KSFO 242356Z 18006G19KT 10SM FEW015 BKN018 BKN039 16/12 A3004 RMK AO2 SLP171 T01560122 10156 20122 55001\\\\n While having the tremendous advantages of temporal and spatial completeness, these reconstructions: (1) are based on computer models that may have model-based errors, (2) are coarsely sampled on a 50 km grid and are therefore unable to reconstruct the local variations of many microclimates, and (3) have particular difficulty with the weather in some coastal areas, especially small islands.\\\\n We further caution that our travel scores are only as good as the data that underpin them, that weather conditions at any given location and time are unpredictable and variable, and that the definition of the scores reflects a particular set of preferences that may not agree with those of any particular reader.\\\\n 2024 Weather History in San Francisco California, United States\\\\nThe data for this report comes from the San Francisco International Airport.\\'}, {\\'url\\': \\'https://www.weatherapi.com/\\', \\'content\\': \"{\\'location\\': {\\'name\\': \\'San Francisco\\', \\'region\\': \\'California\\', \\'country\\': \\'United States of America\\', \\'lat\\': 37.78, \\'lon\\': -122.42, \\'tz_id\\': \\'America/Los_Angeles\\', \\'localtime_epoch\\': 1719816209, \\'localtime\\': \\'2024-06-30 23:43\\'}, \\'current\\': {\\'last_updated_epoch\\': 1719815400, \\'last_updated\\': \\'2024-06-30 23:30\\', \\'temp_c\\': 15.6, \\'temp_f\\': 60.1, \\'is_day\\': 0, \\'condition\\': {\\'text\\': \\'Partly cloudy\\', \\'icon\\': \\'//cdn.weatherapi.com/weather/64x64/night/116.png\\', \\'code\\': 1003}, \\'wind_mph\\': 3.8, \\'wind_kph\\': 6.1, \\'wind_degree\\': 150, \\'wind_dir\\': \\'SSE\\', \\'pressure_mb\\': 1015.0, \\'pressure_in\\': 29.98, \\'precip_mm\\': 0.0, \\'precip_in\\': 0.0, \\'humidity\\': 86, \\'cloud\\': 25, \\'feelslike_c\\': 15.6, \\'feelslike_f\\': 60.1, \\'windchill_c\\': 12.8, \\'windchill_f\\': 55.0, \\'heatindex_c\\': 13.4, \\'heatindex_f\\': 56.1, \\'dewpoint_c\\': 11.3, \\'dewpoint_f\\': 52.3, \\'vis_km\\': 16.0, \\'vis_miles\\': 9.0, \\'uv\\': 1.0, \\'gust_mph\\': 9.9, \\'gust_kph\\': 15.9}}\"}]', name='tavily_search_results_json', id='2f81448c-b49f-4aa7-a9a9-5f9f87c685ec', tool_call_id='call_g5Irfsbd43deADe6Uwfu30pj')]}\n",
      "{'messages': [HumanMessage(content='Whats the weather in SF?', id='849bcd3e-a675-40ee-b3cd-35cec480df07'), AIMessage(content='', additional_kwargs={'tool_calls': [{'function': {'arguments': '{\"query\":\"current weather in San Francisco\"}', 'name': 'tavily_search_results_json'}, 'id': 'call_g5Irfsbd43deADe6Uwfu30pj', 'type': 'function'}]}, response_metadata={'finish_reason': 'tool_calls', 'logprobs': None, 'model_name': 'gpt-3.5-turbo', 'system_fingerprint': None, 'token_usage': {'completion_tokens': 22, 'prompt_tokens': 152, 'total_tokens': 174}}, id='run-7387b42a-7c86-4c6f-8ab7-d06289075330-0', tool_calls=[{'name': 'tavily_search_results_json', 'args': {'query': 'current weather in San Francisco'}, 'id': 'call_g5Irfsbd43deADe6Uwfu30pj'}]), ToolMessage(content='[{\\'url\\': \\'https://weatherspark.com/h/y/557/2024/Historical-Weather-during-2024-in-San-Francisco-California-United-States\\', \\'content\\': \\'San Francisco Temperature History 2024\\\\nHourly Temperature in 2024 in San Francisco\\\\nCompare San Francisco to another city:\\\\nCloud Cover in 2024 in San Francisco\\\\nDaily Precipitation in 2024 in San Francisco\\\\nObserved Weather in 2024 in San Francisco\\\\nHours of Daylight and Twilight in 2024 in San Francisco\\\\nSunrise & Sunset with Twilight and Daylight Saving Time in 2024 in San Francisco\\\\nSolar Elevation and Azimuth in 2024 in San Francisco\\\\nMoon Rise, Set & Phases in 2024 in San Francisco\\\\nHumidity Comfort Levels in 2024 in San Francisco\\\\nWind Speed in 2024 in San Francisco\\\\nHourly Wind Speed in 2024 in San Francisco\\\\nHourly Wind Direction in 2024 in San Francisco\\\\nAtmospheric Pressure in 2024 in San Francisco\\\\nData Sources\\\\n See all nearby weather stations\\\\nLatest Report — 3:56 PM\\\\nWed, Jan 24, 2024\\\\xa0\\\\xa0\\\\xa0\\\\xa013 min ago\\\\xa0\\\\xa0\\\\xa0\\\\xa0UTC 23:56\\\\nCall Sign KSFO\\\\nTemp.\\\\n60.1°F\\\\nPrecipitation\\\\nNo Report\\\\nWind\\\\n6.9 mph\\\\nCloud Cover\\\\nMostly Cloudy\\\\n1,800 ft\\\\nRaw: KSFO 242356Z 18006G19KT 10SM FEW015 BKN018 BKN039 16/12 A3004 RMK AO2 SLP171 T01560122 10156 20122 55001\\\\n While having the tremendous advantages of temporal and spatial completeness, these reconstructions: (1) are based on computer models that may have model-based errors, (2) are coarsely sampled on a 50 km grid and are therefore unable to reconstruct the local variations of many microclimates, and (3) have particular difficulty with the weather in some coastal areas, especially small islands.\\\\n We further caution that our travel scores are only as good as the data that underpin them, that weather conditions at any given location and time are unpredictable and variable, and that the definition of the scores reflects a particular set of preferences that may not agree with those of any particular reader.\\\\n 2024 Weather History in San Francisco California, United States\\\\nThe data for this report comes from the San Francisco International Airport.\\'}, {\\'url\\': \\'https://www.weatherapi.com/\\', \\'content\\': \"{\\'location\\': {\\'name\\': \\'San Francisco\\', \\'region\\': \\'California\\', \\'country\\': \\'United States of America\\', \\'lat\\': 37.78, \\'lon\\': -122.42, \\'tz_id\\': \\'America/Los_Angeles\\', \\'localtime_epoch\\': 1719816209, \\'localtime\\': \\'2024-06-30 23:43\\'}, \\'current\\': {\\'last_updated_epoch\\': 1719815400, \\'last_updated\\': \\'2024-06-30 23:30\\', \\'temp_c\\': 15.6, \\'temp_f\\': 60.1, \\'is_day\\': 0, \\'condition\\': {\\'text\\': \\'Partly cloudy\\', \\'icon\\': \\'//cdn.weatherapi.com/weather/64x64/night/116.png\\', \\'code\\': 1003}, \\'wind_mph\\': 3.8, \\'wind_kph\\': 6.1, \\'wind_degree\\': 150, \\'wind_dir\\': \\'SSE\\', \\'pressure_mb\\': 1015.0, \\'pressure_in\\': 29.98, \\'precip_mm\\': 0.0, \\'precip_in\\': 0.0, \\'humidity\\': 86, \\'cloud\\': 25, \\'feelslike_c\\': 15.6, \\'feelslike_f\\': 60.1, \\'windchill_c\\': 12.8, \\'windchill_f\\': 55.0, \\'heatindex_c\\': 13.4, \\'heatindex_f\\': 56.1, \\'dewpoint_c\\': 11.3, \\'dewpoint_f\\': 52.3, \\'vis_km\\': 16.0, \\'vis_miles\\': 9.0, \\'uv\\': 1.0, \\'gust_mph\\': 9.9, \\'gust_kph\\': 15.9}}\"}]', name='tavily_search_results_json', id='2f81448c-b49f-4aa7-a9a9-5f9f87c685ec', tool_call_id='call_g5Irfsbd43deADe6Uwfu30pj'), AIMessage(content='The current weather in San Francisco is as follows:\\n- Temperature: 60.1°F\\n- Condition: Partly cloudy\\n- Wind: 6.1 mph from SSE\\n- Pressure: 29.98 in\\n- Humidity: 86%\\n- Cloud Cover: 25%\\n- Visibility: 9.0 miles\\n\\nIt seems like a pleasant evening in San Francisco!', response_metadata={'token_usage': {'completion_tokens': 80, 'prompt_tokens': 1130, 'total_tokens': 1210}, 'model_name': 'gpt-3.5-turbo', 'system_fingerprint': None, 'finish_reason': 'stop', 'logprobs': None}, id='run-14e828a5-45a5-42b4-ad91-8de49f77c676-0')]}\n",
      "{'messages': [AIMessage(content='The current weather in San Francisco is as follows:\\n- Temperature: 60.1°F\\n- Condition: Partly cloudy\\n- Wind: 6.1 mph from SSE\\n- Pressure: 29.98 in\\n- Humidity: 86%\\n- Cloud Cover: 25%\\n- Visibility: 9.0 miles\\n\\nIt seems like a pleasant evening in San Francisco!', response_metadata={'token_usage': {'completion_tokens': 80, 'prompt_tokens': 1130, 'total_tokens': 1210}, 'model_name': 'gpt-3.5-turbo', 'system_fingerprint': None, 'finish_reason': 'stop', 'logprobs': None}, id='run-14e828a5-45a5-42b4-ad91-8de49f77c676-0')]}\n"
     ]
    }
   ],
   "source": [
    "for event in abot.graph.stream(None, thread):\n",
    "    for v in event.values():\n",
    "        print(v)"
   ]
  },
  {
   "cell_type": "code",
   "execution_count": 15,
   "id": "3d75975a-d6fb-459b-bd3c-ba9afc16d400",
   "metadata": {},
   "outputs": [
    {
     "data": {
      "text/plain": [
       "StateSnapshot(values={'messages': [HumanMessage(content='Whats the weather in SF?', id='849bcd3e-a675-40ee-b3cd-35cec480df07'), AIMessage(content='', additional_kwargs={'tool_calls': [{'function': {'arguments': '{\"query\":\"current weather in San Francisco\"}', 'name': 'tavily_search_results_json'}, 'id': 'call_g5Irfsbd43deADe6Uwfu30pj', 'type': 'function'}]}, response_metadata={'finish_reason': 'tool_calls', 'logprobs': None, 'model_name': 'gpt-3.5-turbo', 'system_fingerprint': None, 'token_usage': {'completion_tokens': 22, 'prompt_tokens': 152, 'total_tokens': 174}}, id='run-7387b42a-7c86-4c6f-8ab7-d06289075330-0', tool_calls=[{'name': 'tavily_search_results_json', 'args': {'query': 'current weather in San Francisco'}, 'id': 'call_g5Irfsbd43deADe6Uwfu30pj'}]), ToolMessage(content='[{\\'url\\': \\'https://weatherspark.com/h/y/557/2024/Historical-Weather-during-2024-in-San-Francisco-California-United-States\\', \\'content\\': \\'San Francisco Temperature History 2024\\\\nHourly Temperature in 2024 in San Francisco\\\\nCompare San Francisco to another city:\\\\nCloud Cover in 2024 in San Francisco\\\\nDaily Precipitation in 2024 in San Francisco\\\\nObserved Weather in 2024 in San Francisco\\\\nHours of Daylight and Twilight in 2024 in San Francisco\\\\nSunrise & Sunset with Twilight and Daylight Saving Time in 2024 in San Francisco\\\\nSolar Elevation and Azimuth in 2024 in San Francisco\\\\nMoon Rise, Set & Phases in 2024 in San Francisco\\\\nHumidity Comfort Levels in 2024 in San Francisco\\\\nWind Speed in 2024 in San Francisco\\\\nHourly Wind Speed in 2024 in San Francisco\\\\nHourly Wind Direction in 2024 in San Francisco\\\\nAtmospheric Pressure in 2024 in San Francisco\\\\nData Sources\\\\n See all nearby weather stations\\\\nLatest Report — 3:56 PM\\\\nWed, Jan 24, 2024\\\\xa0\\\\xa0\\\\xa0\\\\xa013 min ago\\\\xa0\\\\xa0\\\\xa0\\\\xa0UTC 23:56\\\\nCall Sign KSFO\\\\nTemp.\\\\n60.1°F\\\\nPrecipitation\\\\nNo Report\\\\nWind\\\\n6.9 mph\\\\nCloud Cover\\\\nMostly Cloudy\\\\n1,800 ft\\\\nRaw: KSFO 242356Z 18006G19KT 10SM FEW015 BKN018 BKN039 16/12 A3004 RMK AO2 SLP171 T01560122 10156 20122 55001\\\\n While having the tremendous advantages of temporal and spatial completeness, these reconstructions: (1) are based on computer models that may have model-based errors, (2) are coarsely sampled on a 50 km grid and are therefore unable to reconstruct the local variations of many microclimates, and (3) have particular difficulty with the weather in some coastal areas, especially small islands.\\\\n We further caution that our travel scores are only as good as the data that underpin them, that weather conditions at any given location and time are unpredictable and variable, and that the definition of the scores reflects a particular set of preferences that may not agree with those of any particular reader.\\\\n 2024 Weather History in San Francisco California, United States\\\\nThe data for this report comes from the San Francisco International Airport.\\'}, {\\'url\\': \\'https://www.weatherapi.com/\\', \\'content\\': \"{\\'location\\': {\\'name\\': \\'San Francisco\\', \\'region\\': \\'California\\', \\'country\\': \\'United States of America\\', \\'lat\\': 37.78, \\'lon\\': -122.42, \\'tz_id\\': \\'America/Los_Angeles\\', \\'localtime_epoch\\': 1719816209, \\'localtime\\': \\'2024-06-30 23:43\\'}, \\'current\\': {\\'last_updated_epoch\\': 1719815400, \\'last_updated\\': \\'2024-06-30 23:30\\', \\'temp_c\\': 15.6, \\'temp_f\\': 60.1, \\'is_day\\': 0, \\'condition\\': {\\'text\\': \\'Partly cloudy\\', \\'icon\\': \\'//cdn.weatherapi.com/weather/64x64/night/116.png\\', \\'code\\': 1003}, \\'wind_mph\\': 3.8, \\'wind_kph\\': 6.1, \\'wind_degree\\': 150, \\'wind_dir\\': \\'SSE\\', \\'pressure_mb\\': 1015.0, \\'pressure_in\\': 29.98, \\'precip_mm\\': 0.0, \\'precip_in\\': 0.0, \\'humidity\\': 86, \\'cloud\\': 25, \\'feelslike_c\\': 15.6, \\'feelslike_f\\': 60.1, \\'windchill_c\\': 12.8, \\'windchill_f\\': 55.0, \\'heatindex_c\\': 13.4, \\'heatindex_f\\': 56.1, \\'dewpoint_c\\': 11.3, \\'dewpoint_f\\': 52.3, \\'vis_km\\': 16.0, \\'vis_miles\\': 9.0, \\'uv\\': 1.0, \\'gust_mph\\': 9.9, \\'gust_kph\\': 15.9}}\"}]', name='tavily_search_results_json', id='2f81448c-b49f-4aa7-a9a9-5f9f87c685ec', tool_call_id='call_g5Irfsbd43deADe6Uwfu30pj'), AIMessage(content='The current weather in San Francisco is as follows:\\n- Temperature: 60.1°F\\n- Condition: Partly cloudy\\n- Wind: 6.1 mph from SSE\\n- Pressure: 29.98 in\\n- Humidity: 86%\\n- Cloud Cover: 25%\\n- Visibility: 9.0 miles\\n\\nIt seems like a pleasant evening in San Francisco!', response_metadata={'finish_reason': 'stop', 'logprobs': None, 'model_name': 'gpt-3.5-turbo', 'system_fingerprint': None, 'token_usage': {'completion_tokens': 80, 'prompt_tokens': 1130, 'total_tokens': 1210}}, id='run-14e828a5-45a5-42b4-ad91-8de49f77c676-0')]}, next=(), config={'configurable': {'thread_id': '1', 'thread_ts': '2024-07-01T06:45:09.234121+00:00'}}, parent_config=None)"
      ]
     },
     "execution_count": 15,
     "metadata": {},
     "output_type": "execute_result"
    }
   ],
   "source": [
    "abot.graph.get_state(thread)"
   ]
  },
  {
   "cell_type": "code",
   "execution_count": 16,
   "id": "427cac3d-b539-402f-ba79-fc855afc1100",
   "metadata": {},
   "outputs": [
    {
     "data": {
      "text/plain": [
       "()"
      ]
     },
     "execution_count": 16,
     "metadata": {},
     "output_type": "execute_result"
    }
   ],
   "source": [
    "abot.graph.get_state(thread).next"
   ]
  },
  {
   "cell_type": "code",
   "execution_count": 17,
   "id": "30cd53a9-4bc0-41da-b591-e408e44928e8",
   "metadata": {},
   "outputs": [
    {
     "name": "stdout",
     "output_type": "stream",
     "text": [
      "{'messages': [HumanMessage(content='Whats the weather in LA?', id='a2b9bea2-ba88-4b40-8811-bc268ef29a2e'), AIMessage(content='', additional_kwargs={'tool_calls': [{'id': 'call_pqGb1RnUb9M0NCVzG5m720Wz', 'function': {'arguments': '{\"query\":\"weather in Los Angeles\"}', 'name': 'tavily_search_results_json'}, 'type': 'function'}]}, response_metadata={'token_usage': {'completion_tokens': 21, 'prompt_tokens': 152, 'total_tokens': 173}, 'model_name': 'gpt-3.5-turbo', 'system_fingerprint': None, 'finish_reason': 'tool_calls', 'logprobs': None}, id='run-db313ac2-7ae8-4dce-986b-1938ad9cbdab-0', tool_calls=[{'name': 'tavily_search_results_json', 'args': {'query': 'weather in Los Angeles'}, 'id': 'call_pqGb1RnUb9M0NCVzG5m720Wz'}])]}\n",
      "{'messages': [AIMessage(content='', additional_kwargs={'tool_calls': [{'id': 'call_pqGb1RnUb9M0NCVzG5m720Wz', 'function': {'arguments': '{\"query\":\"weather in Los Angeles\"}', 'name': 'tavily_search_results_json'}, 'type': 'function'}]}, response_metadata={'token_usage': {'completion_tokens': 21, 'prompt_tokens': 152, 'total_tokens': 173}, 'model_name': 'gpt-3.5-turbo', 'system_fingerprint': None, 'finish_reason': 'tool_calls', 'logprobs': None}, id='run-db313ac2-7ae8-4dce-986b-1938ad9cbdab-0', tool_calls=[{'name': 'tavily_search_results_json', 'args': {'query': 'weather in Los Angeles'}, 'id': 'call_pqGb1RnUb9M0NCVzG5m720Wz'}])]}\n",
      "\n",
      " StateSnapshot(values={'messages': [HumanMessage(content='Whats the weather in LA?', id='a2b9bea2-ba88-4b40-8811-bc268ef29a2e'), AIMessage(content='', additional_kwargs={'tool_calls': [{'function': {'arguments': '{\"query\":\"weather in Los Angeles\"}', 'name': 'tavily_search_results_json'}, 'id': 'call_pqGb1RnUb9M0NCVzG5m720Wz', 'type': 'function'}]}, response_metadata={'finish_reason': 'tool_calls', 'logprobs': None, 'model_name': 'gpt-3.5-turbo', 'system_fingerprint': None, 'token_usage': {'completion_tokens': 21, 'prompt_tokens': 152, 'total_tokens': 173}}, id='run-db313ac2-7ae8-4dce-986b-1938ad9cbdab-0', tool_calls=[{'name': 'tavily_search_results_json', 'args': {'query': 'weather in Los Angeles'}, 'id': 'call_pqGb1RnUb9M0NCVzG5m720Wz'}])]}, next=('action',), config={'configurable': {'thread_id': '2', 'thread_ts': '2024-07-01T06:46:38.130235+00:00'}}, parent_config=None) \n",
      "\n"
     ]
    },
    {
     "name": "stdin",
     "output_type": "stream",
     "text": [
      "proceed? y\n"
     ]
    },
    {
     "name": "stdout",
     "output_type": "stream",
     "text": [
      "Calling: {'name': 'tavily_search_results_json', 'args': {'query': 'weather in Los Angeles'}, 'id': 'call_pqGb1RnUb9M0NCVzG5m720Wz'}\n",
      "Back to the model!\n",
      "{'messages': [ToolMessage(content='[{\\'url\\': \\'https://www.timeanddate.com/weather/usa/los-angeles/historic?month=1&year=2024\\', \\'content\\': \\'Weather reports from January 2024 in Los Angeles, California, USA with highs and lows. Sign in. News. News Home; ... January 2024 Weather in Los Angeles — Graph °F. See Hour-by-hour Forecast for upcoming weather. ... 30.07 \"Hg: 10 mi: 4:53 pm: 64 °F: Sunny.\\'}, {\\'url\\': \\'https://www.wunderground.com/hourly/us/ca/los-angeles/90053/date/2024-07-01\\', \\'content\\': \\'Los Angeles Weather Forecasts. Weather Underground provides local & long-range weather forecasts, weatherreports, maps & tropical weather conditions for the Los Angeles area. ... Monday 07/01 ...\\'}]', name='tavily_search_results_json', id='c04dfbf7-2b3e-4d08-8a64-b1fbfceff277', tool_call_id='call_pqGb1RnUb9M0NCVzG5m720Wz')]}\n",
      "{'messages': [HumanMessage(content='Whats the weather in LA?', id='a2b9bea2-ba88-4b40-8811-bc268ef29a2e'), AIMessage(content='', additional_kwargs={'tool_calls': [{'function': {'arguments': '{\"query\":\"weather in Los Angeles\"}', 'name': 'tavily_search_results_json'}, 'id': 'call_pqGb1RnUb9M0NCVzG5m720Wz', 'type': 'function'}]}, response_metadata={'finish_reason': 'tool_calls', 'logprobs': None, 'model_name': 'gpt-3.5-turbo', 'system_fingerprint': None, 'token_usage': {'completion_tokens': 21, 'prompt_tokens': 152, 'total_tokens': 173}}, id='run-db313ac2-7ae8-4dce-986b-1938ad9cbdab-0', tool_calls=[{'name': 'tavily_search_results_json', 'args': {'query': 'weather in Los Angeles'}, 'id': 'call_pqGb1RnUb9M0NCVzG5m720Wz'}]), ToolMessage(content='[{\\'url\\': \\'https://www.timeanddate.com/weather/usa/los-angeles/historic?month=1&year=2024\\', \\'content\\': \\'Weather reports from January 2024 in Los Angeles, California, USA with highs and lows. Sign in. News. News Home; ... January 2024 Weather in Los Angeles — Graph °F. See Hour-by-hour Forecast for upcoming weather. ... 30.07 \"Hg: 10 mi: 4:53 pm: 64 °F: Sunny.\\'}, {\\'url\\': \\'https://www.wunderground.com/hourly/us/ca/los-angeles/90053/date/2024-07-01\\', \\'content\\': \\'Los Angeles Weather Forecasts. Weather Underground provides local & long-range weather forecasts, weatherreports, maps & tropical weather conditions for the Los Angeles area. ... Monday 07/01 ...\\'}]', name='tavily_search_results_json', id='c04dfbf7-2b3e-4d08-8a64-b1fbfceff277', tool_call_id='call_pqGb1RnUb9M0NCVzG5m720Wz'), AIMessage(content='The weather in Los Angeles is currently sunny with a temperature of 64°F. If you need more detailed information, I can look it up for you.', response_metadata={'token_usage': {'completion_tokens': 32, 'prompt_tokens': 375, 'total_tokens': 407}, 'model_name': 'gpt-3.5-turbo', 'system_fingerprint': None, 'finish_reason': 'stop', 'logprobs': None}, id='run-d88c38b1-156e-4239-81f6-64fc5d8a6571-0')]}\n",
      "{'messages': [AIMessage(content='The weather in Los Angeles is currently sunny with a temperature of 64°F. If you need more detailed information, I can look it up for you.', response_metadata={'token_usage': {'completion_tokens': 32, 'prompt_tokens': 375, 'total_tokens': 407}, 'model_name': 'gpt-3.5-turbo', 'system_fingerprint': None, 'finish_reason': 'stop', 'logprobs': None}, id='run-d88c38b1-156e-4239-81f6-64fc5d8a6571-0')]}\n"
     ]
    }
   ],
   "source": [
    "messages = [HumanMessage(\"Whats the weather in LA?\")]\n",
    "thread = {\"configurable\": {\"thread_id\": \"2\"}}\n",
    "for event in abot.graph.stream({\"messages\": messages}, thread):\n",
    "    for v in event.values():\n",
    "        print(v)\n",
    "while abot.graph.get_state(thread).next:\n",
    "    print(\"\\n\", abot.graph.get_state(thread),\"\\n\")\n",
    "    _input = input(\"proceed?\")\n",
    "    if _input != \"y\":\n",
    "        print(\"aborting\")\n",
    "        break\n",
    "    for event in abot.graph.stream(None, thread):\n",
    "        for v in event.values():\n",
    "            print(v)"
   ]
  },
  {
   "cell_type": "code",
   "execution_count": 19,
   "id": "13e4de58-08cd-4bca-9e07-1dabf8569979",
   "metadata": {},
   "outputs": [],
   "source": [
    "# Modify State"
   ]
  },
  {
   "cell_type": "code",
   "execution_count": 26,
   "id": "aa10b03e-c68f-46ae-9292-22703c4ba131",
   "metadata": {},
   "outputs": [
    {
     "name": "stdout",
     "output_type": "stream",
     "text": [
      "{'messages': [HumanMessage(content='Whats the weather in LA?', id='be2e68ff-3308-4bb7-aabc-170372e6b750'), AIMessage(content='', additional_kwargs={'tool_calls': [{'id': 'call_w4ZUKqw5uagKk1B44YHxJU6O', 'function': {'arguments': '{\"query\":\"weather in Los Angeles\"}', 'name': 'tavily_search_results_json'}, 'type': 'function'}]}, response_metadata={'token_usage': {'completion_tokens': 21, 'prompt_tokens': 152, 'total_tokens': 173}, 'model_name': 'gpt-3.5-turbo', 'system_fingerprint': None, 'finish_reason': 'tool_calls', 'logprobs': None}, id='run-67536424-1b36-4d3f-ace2-0636f206d4bf-0', tool_calls=[{'name': 'tavily_search_results_json', 'args': {'query': 'weather in Los Angeles'}, 'id': 'call_w4ZUKqw5uagKk1B44YHxJU6O'}])]}\n",
      "{'messages': [AIMessage(content='', additional_kwargs={'tool_calls': [{'id': 'call_w4ZUKqw5uagKk1B44YHxJU6O', 'function': {'arguments': '{\"query\":\"weather in Los Angeles\"}', 'name': 'tavily_search_results_json'}, 'type': 'function'}]}, response_metadata={'token_usage': {'completion_tokens': 21, 'prompt_tokens': 152, 'total_tokens': 173}, 'model_name': 'gpt-3.5-turbo', 'system_fingerprint': None, 'finish_reason': 'tool_calls', 'logprobs': None}, id='run-67536424-1b36-4d3f-ace2-0636f206d4bf-0', tool_calls=[{'name': 'tavily_search_results_json', 'args': {'query': 'weather in Los Angeles'}, 'id': 'call_w4ZUKqw5uagKk1B44YHxJU6O'}])]}\n"
     ]
    }
   ],
   "source": [
    "messages = [HumanMessage(\"Whats the weather in LA?\")]\n",
    "thread = {\"configurable\": {\"thread_id\": \"3\"}}\n",
    "for event in abot.graph.stream({\"messages\": messages}, thread):\n",
    "    for v in event.values():\n",
    "        print(v)"
   ]
  },
  {
   "cell_type": "code",
   "execution_count": 27,
   "id": "dbae1ee5-1581-4094-808c-86267286686c",
   "metadata": {},
   "outputs": [
    {
     "data": {
      "text/plain": [
       "StateSnapshot(values={'messages': [HumanMessage(content='Whats the weather in LA?', id='be2e68ff-3308-4bb7-aabc-170372e6b750'), AIMessage(content='', additional_kwargs={'tool_calls': [{'function': {'arguments': '{\"query\":\"weather in Los Angeles\"}', 'name': 'tavily_search_results_json'}, 'id': 'call_w4ZUKqw5uagKk1B44YHxJU6O', 'type': 'function'}]}, response_metadata={'finish_reason': 'tool_calls', 'logprobs': None, 'model_name': 'gpt-3.5-turbo', 'system_fingerprint': None, 'token_usage': {'completion_tokens': 21, 'prompt_tokens': 152, 'total_tokens': 173}}, id='run-67536424-1b36-4d3f-ace2-0636f206d4bf-0', tool_calls=[{'name': 'tavily_search_results_json', 'args': {'query': 'weather in Los Angeles'}, 'id': 'call_w4ZUKqw5uagKk1B44YHxJU6O'}])]}, next=('action',), config={'configurable': {'thread_id': '3', 'thread_ts': '2024-07-01T07:31:59.295683+00:00'}}, parent_config=None)"
      ]
     },
     "execution_count": 27,
     "metadata": {},
     "output_type": "execute_result"
    }
   ],
   "source": [
    "abot.graph.get_state(thread)"
   ]
  },
  {
   "cell_type": "code",
   "execution_count": 28,
   "id": "e14ccfe0-1724-43b0-aa3f-317acbae38b7",
   "metadata": {},
   "outputs": [],
   "source": [
    "current_values = abot.graph.get_state(thread)"
   ]
  },
  {
   "cell_type": "code",
   "execution_count": 29,
   "id": "0aef631a-80b9-425a-80e8-70d1e8e2185d",
   "metadata": {},
   "outputs": [
    {
     "data": {
      "text/plain": [
       "AIMessage(content='', additional_kwargs={'tool_calls': [{'function': {'arguments': '{\"query\":\"weather in Los Angeles\"}', 'name': 'tavily_search_results_json'}, 'id': 'call_w4ZUKqw5uagKk1B44YHxJU6O', 'type': 'function'}]}, response_metadata={'finish_reason': 'tool_calls', 'logprobs': None, 'model_name': 'gpt-3.5-turbo', 'system_fingerprint': None, 'token_usage': {'completion_tokens': 21, 'prompt_tokens': 152, 'total_tokens': 173}}, id='run-67536424-1b36-4d3f-ace2-0636f206d4bf-0', tool_calls=[{'name': 'tavily_search_results_json', 'args': {'query': 'weather in Los Angeles'}, 'id': 'call_w4ZUKqw5uagKk1B44YHxJU6O'}])"
      ]
     },
     "execution_count": 29,
     "metadata": {},
     "output_type": "execute_result"
    }
   ],
   "source": [
    "current_values.values['messages'][-1]"
   ]
  },
  {
   "cell_type": "code",
   "execution_count": 30,
   "id": "8bd7cb80-5521-49d3-b6cf-11aafda456ca",
   "metadata": {},
   "outputs": [
    {
     "data": {
      "text/plain": [
       "[{'name': 'tavily_search_results_json',\n",
       "  'args': {'query': 'weather in Los Angeles'},\n",
       "  'id': 'call_w4ZUKqw5uagKk1B44YHxJU6O'}]"
      ]
     },
     "execution_count": 30,
     "metadata": {},
     "output_type": "execute_result"
    }
   ],
   "source": [
    "current_values.values['messages'][-1].tool_calls"
   ]
  },
  {
   "cell_type": "code",
   "execution_count": 31,
   "id": "b9f14f07-322c-4273-909f-d4023153bb00",
   "metadata": {},
   "outputs": [],
   "source": [
    "_id = current_values.values['messages'][-1].tool_calls[0]['id']\n",
    "current_values.values['messages'][-1].tool_calls = [\n",
    "    {'name': 'tavily_search_results_json',\n",
    "  'args': {'query': 'current weather in Louisiana'},\n",
    "  'id': _id}\n",
    "]"
   ]
  },
  {
   "cell_type": "code",
   "execution_count": 32,
   "id": "3ef14a58-a01f-4ca6-8e3d-b1d25d28ae15",
   "metadata": {},
   "outputs": [
    {
     "name": "stdout",
     "output_type": "stream",
     "text": [
      "{'messages': [HumanMessage(content='Whats the weather in LA?', id='be2e68ff-3308-4bb7-aabc-170372e6b750'), AIMessage(content='', additional_kwargs={'tool_calls': [{'function': {'arguments': '{\"query\":\"weather in Los Angeles\"}', 'name': 'tavily_search_results_json'}, 'id': 'call_w4ZUKqw5uagKk1B44YHxJU6O', 'type': 'function'}]}, response_metadata={'finish_reason': 'tool_calls', 'logprobs': None, 'model_name': 'gpt-3.5-turbo', 'system_fingerprint': None, 'token_usage': {'completion_tokens': 21, 'prompt_tokens': 152, 'total_tokens': 173}}, id='run-67536424-1b36-4d3f-ace2-0636f206d4bf-0', tool_calls=[{'name': 'tavily_search_results_json', 'args': {'query': 'current weather in Louisiana'}, 'id': 'call_w4ZUKqw5uagKk1B44YHxJU6O'}])]}\n"
     ]
    },
    {
     "data": {
      "text/plain": [
       "{'configurable': {'thread_id': '3',\n",
       "  'thread_ts': '2024-07-01T07:32:18.326828+00:00'}}"
      ]
     },
     "execution_count": 32,
     "metadata": {},
     "output_type": "execute_result"
    }
   ],
   "source": [
    "abot.graph.update_state(thread, current_values.values)"
   ]
  },
  {
   "cell_type": "code",
   "execution_count": 33,
   "id": "e2d4cb8b-6f19-4856-be4a-924d2c995803",
   "metadata": {},
   "outputs": [
    {
     "data": {
      "text/plain": [
       "StateSnapshot(values={'messages': [HumanMessage(content='Whats the weather in LA?', id='be2e68ff-3308-4bb7-aabc-170372e6b750'), AIMessage(content='', additional_kwargs={'tool_calls': [{'function': {'arguments': '{\"query\":\"weather in Los Angeles\"}', 'name': 'tavily_search_results_json'}, 'id': 'call_w4ZUKqw5uagKk1B44YHxJU6O', 'type': 'function'}]}, response_metadata={'finish_reason': 'tool_calls', 'logprobs': None, 'model_name': 'gpt-3.5-turbo', 'system_fingerprint': None, 'token_usage': {'completion_tokens': 21, 'prompt_tokens': 152, 'total_tokens': 173}}, id='run-67536424-1b36-4d3f-ace2-0636f206d4bf-0', tool_calls=[{'name': 'tavily_search_results_json', 'args': {'query': 'current weather in Louisiana'}, 'id': 'call_w4ZUKqw5uagKk1B44YHxJU6O'}])]}, next=('action',), config={'configurable': {'thread_id': '3', 'thread_ts': '2024-07-01T07:32:18.326828+00:00'}}, parent_config=None)"
      ]
     },
     "execution_count": 33,
     "metadata": {},
     "output_type": "execute_result"
    }
   ],
   "source": [
    "abot.graph.get_state(thread)"
   ]
  },
  {
   "cell_type": "code",
   "execution_count": 34,
   "id": "eec8cda9-f5c2-4c4b-80b5-dfe02f8b08d3",
   "metadata": {},
   "outputs": [
    {
     "name": "stdout",
     "output_type": "stream",
     "text": [
      "Calling: {'name': 'tavily_search_results_json', 'args': {'query': 'current weather in Louisiana'}, 'id': 'call_w4ZUKqw5uagKk1B44YHxJU6O'}\n",
      "Back to the model!\n",
      "{'messages': [ToolMessage(content='[{\\'url\\': \\'https://world-weather.info/forecast/usa/louisiana/january-2024/\\', \\'content\\': \\'Detailed ⚡ Louisiana Weather Forecast for January 2024 - day/night 🌡️ temperatures, precipitations - World-Weather.info\\'}, {\\'url\\': \\'https://www.weatherapi.com/\\', \\'content\\': \"{\\'location\\': {\\'name\\': \\'Louisiana\\', \\'region\\': \\'Missouri\\', \\'country\\': \\'USA United States of America\\', \\'lat\\': 39.44, \\'lon\\': -91.06, \\'tz_id\\': \\'America/Chicago\\', \\'localtime_epoch\\': 1719819159, \\'localtime\\': \\'2024-07-01 2:32\\'}, \\'current\\': {\\'last_updated_epoch\\': 1719819000, \\'last_updated\\': \\'2024-07-01 02:30\\', \\'temp_c\\': 15.7, \\'temp_f\\': 60.3, \\'is_day\\': 0, \\'condition\\': {\\'text\\': \\'Clear\\', \\'icon\\': \\'//cdn.weatherapi.com/weather/64x64/night/113.png\\', \\'code\\': 1000}, \\'wind_mph\\': 4.3, \\'wind_kph\\': 6.8, \\'wind_degree\\': 70, \\'wind_dir\\': \\'ENE\\', \\'pressure_mb\\': 1026.0, \\'pressure_in\\': 30.3, \\'precip_mm\\': 0.0, \\'precip_in\\': 0.0, \\'humidity\\': 81, \\'cloud\\': 0, \\'feelslike_c\\': 15.7, \\'feelslike_f\\': 60.3, \\'windchill_c\\': 11.2, \\'windchill_f\\': 52.2, \\'heatindex_c\\': 12.4, \\'heatindex_f\\': 54.3, \\'dewpoint_c\\': 11.3, \\'dewpoint_f\\': 52.3, \\'vis_km\\': 16.0, \\'vis_miles\\': 9.0, \\'uv\\': 1.0, \\'gust_mph\\': 16.4, \\'gust_kph\\': 26.5}}\"}]', name='tavily_search_results_json', id='163b6750-909a-4a12-b4a0-c1bb53946a74', tool_call_id='call_w4ZUKqw5uagKk1B44YHxJU6O')]}\n",
      "{'messages': [HumanMessage(content='Whats the weather in LA?', id='be2e68ff-3308-4bb7-aabc-170372e6b750'), AIMessage(content='', additional_kwargs={'tool_calls': [{'function': {'arguments': '{\"query\":\"weather in Los Angeles\"}', 'name': 'tavily_search_results_json'}, 'id': 'call_w4ZUKqw5uagKk1B44YHxJU6O', 'type': 'function'}]}, response_metadata={'finish_reason': 'tool_calls', 'logprobs': None, 'model_name': 'gpt-3.5-turbo', 'system_fingerprint': None, 'token_usage': {'completion_tokens': 21, 'prompt_tokens': 152, 'total_tokens': 173}}, id='run-67536424-1b36-4d3f-ace2-0636f206d4bf-0', tool_calls=[{'name': 'tavily_search_results_json', 'args': {'query': 'current weather in Louisiana'}, 'id': 'call_w4ZUKqw5uagKk1B44YHxJU6O'}]), ToolMessage(content='[{\\'url\\': \\'https://world-weather.info/forecast/usa/louisiana/january-2024/\\', \\'content\\': \\'Detailed ⚡ Louisiana Weather Forecast for January 2024 - day/night 🌡️ temperatures, precipitations - World-Weather.info\\'}, {\\'url\\': \\'https://www.weatherapi.com/\\', \\'content\\': \"{\\'location\\': {\\'name\\': \\'Louisiana\\', \\'region\\': \\'Missouri\\', \\'country\\': \\'USA United States of America\\', \\'lat\\': 39.44, \\'lon\\': -91.06, \\'tz_id\\': \\'America/Chicago\\', \\'localtime_epoch\\': 1719819159, \\'localtime\\': \\'2024-07-01 2:32\\'}, \\'current\\': {\\'last_updated_epoch\\': 1719819000, \\'last_updated\\': \\'2024-07-01 02:30\\', \\'temp_c\\': 15.7, \\'temp_f\\': 60.3, \\'is_day\\': 0, \\'condition\\': {\\'text\\': \\'Clear\\', \\'icon\\': \\'//cdn.weatherapi.com/weather/64x64/night/113.png\\', \\'code\\': 1000}, \\'wind_mph\\': 4.3, \\'wind_kph\\': 6.8, \\'wind_degree\\': 70, \\'wind_dir\\': \\'ENE\\', \\'pressure_mb\\': 1026.0, \\'pressure_in\\': 30.3, \\'precip_mm\\': 0.0, \\'precip_in\\': 0.0, \\'humidity\\': 81, \\'cloud\\': 0, \\'feelslike_c\\': 15.7, \\'feelslike_f\\': 60.3, \\'windchill_c\\': 11.2, \\'windchill_f\\': 52.2, \\'heatindex_c\\': 12.4, \\'heatindex_f\\': 54.3, \\'dewpoint_c\\': 11.3, \\'dewpoint_f\\': 52.3, \\'vis_km\\': 16.0, \\'vis_miles\\': 9.0, \\'uv\\': 1.0, \\'gust_mph\\': 16.4, \\'gust_kph\\': 26.5}}\"}]', name='tavily_search_results_json', id='163b6750-909a-4a12-b4a0-c1bb53946a74', tool_call_id='call_w4ZUKqw5uagKk1B44YHxJU6O'), AIMessage(content='The current weather in Louisiana is clear with a temperature of 60.3°F. The wind speed is 6.8 km/h coming from the east-northeast direction. The humidity is at 81%, and there is no precipitation at the moment.', response_metadata={'token_usage': {'completion_tokens': 53, 'prompt_tokens': 650, 'total_tokens': 703}, 'model_name': 'gpt-3.5-turbo', 'system_fingerprint': None, 'finish_reason': 'stop', 'logprobs': None}, id='run-642047a9-a689-4124-ba93-120dd1a4ee31-0')]}\n",
      "{'messages': [AIMessage(content='The current weather in Louisiana is clear with a temperature of 60.3°F. The wind speed is 6.8 km/h coming from the east-northeast direction. The humidity is at 81%, and there is no precipitation at the moment.', response_metadata={'token_usage': {'completion_tokens': 53, 'prompt_tokens': 650, 'total_tokens': 703}, 'model_name': 'gpt-3.5-turbo', 'system_fingerprint': None, 'finish_reason': 'stop', 'logprobs': None}, id='run-642047a9-a689-4124-ba93-120dd1a4ee31-0')]}\n"
     ]
    }
   ],
   "source": [
    "for event in abot.graph.stream(None, thread):\n",
    "    for v in event.values():\n",
    "        print(v)"
   ]
  },
  {
   "cell_type": "code",
   "execution_count": 35,
   "id": "fcc6704d-b826-4f33-906c-2c0058c4d67f",
   "metadata": {},
   "outputs": [
    {
     "name": "stdout",
     "output_type": "stream",
     "text": [
      "StateSnapshot(values={'messages': [HumanMessage(content='Whats the weather in LA?', id='be2e68ff-3308-4bb7-aabc-170372e6b750'), AIMessage(content='', additional_kwargs={'tool_calls': [{'function': {'arguments': '{\"query\":\"weather in Los Angeles\"}', 'name': 'tavily_search_results_json'}, 'id': 'call_w4ZUKqw5uagKk1B44YHxJU6O', 'type': 'function'}]}, response_metadata={'finish_reason': 'tool_calls', 'logprobs': None, 'model_name': 'gpt-3.5-turbo', 'system_fingerprint': None, 'token_usage': {'completion_tokens': 21, 'prompt_tokens': 152, 'total_tokens': 173}}, id='run-67536424-1b36-4d3f-ace2-0636f206d4bf-0', tool_calls=[{'name': 'tavily_search_results_json', 'args': {'query': 'current weather in Louisiana'}, 'id': 'call_w4ZUKqw5uagKk1B44YHxJU6O'}]), ToolMessage(content='[{\\'url\\': \\'https://world-weather.info/forecast/usa/louisiana/january-2024/\\', \\'content\\': \\'Detailed ⚡ Louisiana Weather Forecast for January 2024 - day/night 🌡️ temperatures, precipitations - World-Weather.info\\'}, {\\'url\\': \\'https://www.weatherapi.com/\\', \\'content\\': \"{\\'location\\': {\\'name\\': \\'Louisiana\\', \\'region\\': \\'Missouri\\', \\'country\\': \\'USA United States of America\\', \\'lat\\': 39.44, \\'lon\\': -91.06, \\'tz_id\\': \\'America/Chicago\\', \\'localtime_epoch\\': 1719819159, \\'localtime\\': \\'2024-07-01 2:32\\'}, \\'current\\': {\\'last_updated_epoch\\': 1719819000, \\'last_updated\\': \\'2024-07-01 02:30\\', \\'temp_c\\': 15.7, \\'temp_f\\': 60.3, \\'is_day\\': 0, \\'condition\\': {\\'text\\': \\'Clear\\', \\'icon\\': \\'//cdn.weatherapi.com/weather/64x64/night/113.png\\', \\'code\\': 1000}, \\'wind_mph\\': 4.3, \\'wind_kph\\': 6.8, \\'wind_degree\\': 70, \\'wind_dir\\': \\'ENE\\', \\'pressure_mb\\': 1026.0, \\'pressure_in\\': 30.3, \\'precip_mm\\': 0.0, \\'precip_in\\': 0.0, \\'humidity\\': 81, \\'cloud\\': 0, \\'feelslike_c\\': 15.7, \\'feelslike_f\\': 60.3, \\'windchill_c\\': 11.2, \\'windchill_f\\': 52.2, \\'heatindex_c\\': 12.4, \\'heatindex_f\\': 54.3, \\'dewpoint_c\\': 11.3, \\'dewpoint_f\\': 52.3, \\'vis_km\\': 16.0, \\'vis_miles\\': 9.0, \\'uv\\': 1.0, \\'gust_mph\\': 16.4, \\'gust_kph\\': 26.5}}\"}]', name='tavily_search_results_json', id='163b6750-909a-4a12-b4a0-c1bb53946a74', tool_call_id='call_w4ZUKqw5uagKk1B44YHxJU6O'), AIMessage(content='The current weather in Louisiana is clear with a temperature of 60.3°F. The wind speed is 6.8 km/h coming from the east-northeast direction. The humidity is at 81%, and there is no precipitation at the moment.', response_metadata={'finish_reason': 'stop', 'logprobs': None, 'model_name': 'gpt-3.5-turbo', 'system_fingerprint': None, 'token_usage': {'completion_tokens': 53, 'prompt_tokens': 650, 'total_tokens': 703}}, id='run-642047a9-a689-4124-ba93-120dd1a4ee31-0')]}, next=(), config={'configurable': {'thread_id': '3', 'thread_ts': '2024-07-01T07:33:40.527144+00:00'}}, parent_config={'configurable': {'thread_id': '3', 'thread_ts': '2024-07-01T07:33:39.409581+00:00'}})\n",
      "--\n",
      "StateSnapshot(values={'messages': [HumanMessage(content='Whats the weather in LA?', id='be2e68ff-3308-4bb7-aabc-170372e6b750'), AIMessage(content='', additional_kwargs={'tool_calls': [{'function': {'arguments': '{\"query\":\"weather in Los Angeles\"}', 'name': 'tavily_search_results_json'}, 'id': 'call_w4ZUKqw5uagKk1B44YHxJU6O', 'type': 'function'}]}, response_metadata={'finish_reason': 'tool_calls', 'logprobs': None, 'model_name': 'gpt-3.5-turbo', 'system_fingerprint': None, 'token_usage': {'completion_tokens': 21, 'prompt_tokens': 152, 'total_tokens': 173}}, id='run-67536424-1b36-4d3f-ace2-0636f206d4bf-0', tool_calls=[{'name': 'tavily_search_results_json', 'args': {'query': 'current weather in Louisiana'}, 'id': 'call_w4ZUKqw5uagKk1B44YHxJU6O'}]), ToolMessage(content='[{\\'url\\': \\'https://world-weather.info/forecast/usa/louisiana/january-2024/\\', \\'content\\': \\'Detailed ⚡ Louisiana Weather Forecast for January 2024 - day/night 🌡️ temperatures, precipitations - World-Weather.info\\'}, {\\'url\\': \\'https://www.weatherapi.com/\\', \\'content\\': \"{\\'location\\': {\\'name\\': \\'Louisiana\\', \\'region\\': \\'Missouri\\', \\'country\\': \\'USA United States of America\\', \\'lat\\': 39.44, \\'lon\\': -91.06, \\'tz_id\\': \\'America/Chicago\\', \\'localtime_epoch\\': 1719819159, \\'localtime\\': \\'2024-07-01 2:32\\'}, \\'current\\': {\\'last_updated_epoch\\': 1719819000, \\'last_updated\\': \\'2024-07-01 02:30\\', \\'temp_c\\': 15.7, \\'temp_f\\': 60.3, \\'is_day\\': 0, \\'condition\\': {\\'text\\': \\'Clear\\', \\'icon\\': \\'//cdn.weatherapi.com/weather/64x64/night/113.png\\', \\'code\\': 1000}, \\'wind_mph\\': 4.3, \\'wind_kph\\': 6.8, \\'wind_degree\\': 70, \\'wind_dir\\': \\'ENE\\', \\'pressure_mb\\': 1026.0, \\'pressure_in\\': 30.3, \\'precip_mm\\': 0.0, \\'precip_in\\': 0.0, \\'humidity\\': 81, \\'cloud\\': 0, \\'feelslike_c\\': 15.7, \\'feelslike_f\\': 60.3, \\'windchill_c\\': 11.2, \\'windchill_f\\': 52.2, \\'heatindex_c\\': 12.4, \\'heatindex_f\\': 54.3, \\'dewpoint_c\\': 11.3, \\'dewpoint_f\\': 52.3, \\'vis_km\\': 16.0, \\'vis_miles\\': 9.0, \\'uv\\': 1.0, \\'gust_mph\\': 16.4, \\'gust_kph\\': 26.5}}\"}]', name='tavily_search_results_json', id='163b6750-909a-4a12-b4a0-c1bb53946a74', tool_call_id='call_w4ZUKqw5uagKk1B44YHxJU6O')]}, next=('llm',), config={'configurable': {'thread_id': '3', 'thread_ts': '2024-07-01T07:33:39.409581+00:00'}}, parent_config=None)\n",
      "--\n",
      "StateSnapshot(values={'messages': [HumanMessage(content='Whats the weather in LA?', id='be2e68ff-3308-4bb7-aabc-170372e6b750'), AIMessage(content='', additional_kwargs={'tool_calls': [{'function': {'arguments': '{\"query\":\"weather in Los Angeles\"}', 'name': 'tavily_search_results_json'}, 'id': 'call_w4ZUKqw5uagKk1B44YHxJU6O', 'type': 'function'}]}, response_metadata={'finish_reason': 'tool_calls', 'logprobs': None, 'model_name': 'gpt-3.5-turbo', 'system_fingerprint': None, 'token_usage': {'completion_tokens': 21, 'prompt_tokens': 152, 'total_tokens': 173}}, id='run-67536424-1b36-4d3f-ace2-0636f206d4bf-0', tool_calls=[{'name': 'tavily_search_results_json', 'args': {'query': 'current weather in Louisiana'}, 'id': 'call_w4ZUKqw5uagKk1B44YHxJU6O'}])]}, next=('action',), config={'configurable': {'thread_id': '3', 'thread_ts': '2024-07-01T07:32:18.326828+00:00'}}, parent_config=None)\n",
      "--\n",
      "StateSnapshot(values={'messages': [HumanMessage(content='Whats the weather in LA?', id='be2e68ff-3308-4bb7-aabc-170372e6b750'), AIMessage(content='', additional_kwargs={'tool_calls': [{'function': {'arguments': '{\"query\":\"weather in Los Angeles\"}', 'name': 'tavily_search_results_json'}, 'id': 'call_w4ZUKqw5uagKk1B44YHxJU6O', 'type': 'function'}]}, response_metadata={'finish_reason': 'tool_calls', 'logprobs': None, 'model_name': 'gpt-3.5-turbo', 'system_fingerprint': None, 'token_usage': {'completion_tokens': 21, 'prompt_tokens': 152, 'total_tokens': 173}}, id='run-67536424-1b36-4d3f-ace2-0636f206d4bf-0', tool_calls=[{'name': 'tavily_search_results_json', 'args': {'query': 'weather in Los Angeles'}, 'id': 'call_w4ZUKqw5uagKk1B44YHxJU6O'}])]}, next=('action',), config={'configurable': {'thread_id': '3', 'thread_ts': '2024-07-01T07:31:59.295683+00:00'}}, parent_config={'configurable': {'thread_id': '3', 'thread_ts': '2024-07-01T07:31:58.504109+00:00'}})\n",
      "--\n",
      "StateSnapshot(values={'messages': [HumanMessage(content='Whats the weather in LA?', id='be2e68ff-3308-4bb7-aabc-170372e6b750')]}, next=('llm',), config={'configurable': {'thread_id': '3', 'thread_ts': '2024-07-01T07:31:58.504109+00:00'}}, parent_config=None)\n",
      "--\n"
     ]
    }
   ],
   "source": [
    "# Time Travel\n",
    "states = []\n",
    "for state in abot.graph.get_state_history(thread):\n",
    "    print(state)\n",
    "    print('--')\n",
    "    states.append(state)"
   ]
  },
  {
   "cell_type": "code",
   "execution_count": 36,
   "id": "dc50cf99-f922-44f7-b566-1391909679bd",
   "metadata": {},
   "outputs": [],
   "source": [
    "to_replay = states[-3]"
   ]
  },
  {
   "cell_type": "code",
   "execution_count": 37,
   "id": "22b2788b-a2d4-440d-b3ed-6101e14e9a57",
   "metadata": {},
   "outputs": [
    {
     "data": {
      "text/plain": [
       "StateSnapshot(values={'messages': [HumanMessage(content='Whats the weather in LA?', id='be2e68ff-3308-4bb7-aabc-170372e6b750'), AIMessage(content='', additional_kwargs={'tool_calls': [{'function': {'arguments': '{\"query\":\"weather in Los Angeles\"}', 'name': 'tavily_search_results_json'}, 'id': 'call_w4ZUKqw5uagKk1B44YHxJU6O', 'type': 'function'}]}, response_metadata={'finish_reason': 'tool_calls', 'logprobs': None, 'model_name': 'gpt-3.5-turbo', 'system_fingerprint': None, 'token_usage': {'completion_tokens': 21, 'prompt_tokens': 152, 'total_tokens': 173}}, id='run-67536424-1b36-4d3f-ace2-0636f206d4bf-0', tool_calls=[{'name': 'tavily_search_results_json', 'args': {'query': 'current weather in Louisiana'}, 'id': 'call_w4ZUKqw5uagKk1B44YHxJU6O'}])]}, next=('action',), config={'configurable': {'thread_id': '3', 'thread_ts': '2024-07-01T07:32:18.326828+00:00'}}, parent_config=None)"
      ]
     },
     "execution_count": 37,
     "metadata": {},
     "output_type": "execute_result"
    }
   ],
   "source": [
    "to_replay"
   ]
  },
  {
   "cell_type": "code",
   "execution_count": 38,
   "id": "fda03c12-68a6-4e25-ab3b-421a65a50ad5",
   "metadata": {},
   "outputs": [
    {
     "name": "stdout",
     "output_type": "stream",
     "text": [
      "Calling: {'name': 'tavily_search_results_json', 'args': {'query': 'current weather in Louisiana'}, 'id': 'call_w4ZUKqw5uagKk1B44YHxJU6O'}\n",
      "Back to the model!\n",
      "{'messages': [ToolMessage(content=\"[{'url': 'https://weatherspark.com/h/y/11799/2024/Historical-Weather-during-2024-in-New-Orleans-Louisiana-United-States', 'content': '2024 Weather History in New Orleans Louisiana, United States. ... 30.01 inHg: Raw: KMSY 230553Z 00000KT 10SM FEW020 27/24 A3001 RMK AO2 SLP164 T02720244 10311 20272 403330244 58004 $ ... This report shows the past weather for New Orleans, providing a weather history for 2024. It features all historical weather data series we have available ...'}, {'url': 'https://www.cnn.com/2024/07/01/weather/hurricane-beryl-caribbean-landfall-monday/index.html', 'content': 'Hurricane Beryl, an extremely hazardous Category 4 storm, is set to slam into the Caribbean Monday, endangering island communities with life-threatening storm surge, violent winds and flash flooding.'}]\", name='tavily_search_results_json', id='42ba4534-182e-491b-a088-a655c124c1e2', tool_call_id='call_w4ZUKqw5uagKk1B44YHxJU6O')]}\n",
      "{'messages': [HumanMessage(content='Whats the weather in LA?', id='be2e68ff-3308-4bb7-aabc-170372e6b750'), AIMessage(content='', additional_kwargs={'tool_calls': [{'function': {'arguments': '{\"query\":\"weather in Los Angeles\"}', 'name': 'tavily_search_results_json'}, 'id': 'call_w4ZUKqw5uagKk1B44YHxJU6O', 'type': 'function'}]}, response_metadata={'finish_reason': 'tool_calls', 'logprobs': None, 'model_name': 'gpt-3.5-turbo', 'system_fingerprint': None, 'token_usage': {'completion_tokens': 21, 'prompt_tokens': 152, 'total_tokens': 173}}, id='run-67536424-1b36-4d3f-ace2-0636f206d4bf-0', tool_calls=[{'name': 'tavily_search_results_json', 'args': {'query': 'current weather in Louisiana'}, 'id': 'call_w4ZUKqw5uagKk1B44YHxJU6O'}]), ToolMessage(content=\"[{'url': 'https://weatherspark.com/h/y/11799/2024/Historical-Weather-during-2024-in-New-Orleans-Louisiana-United-States', 'content': '2024 Weather History in New Orleans Louisiana, United States. ... 30.01 inHg: Raw: KMSY 230553Z 00000KT 10SM FEW020 27/24 A3001 RMK AO2 SLP164 T02720244 10311 20272 403330244 58004 $ ... This report shows the past weather for New Orleans, providing a weather history for 2024. It features all historical weather data series we have available ...'}, {'url': 'https://www.cnn.com/2024/07/01/weather/hurricane-beryl-caribbean-landfall-monday/index.html', 'content': 'Hurricane Beryl, an extremely hazardous Category 4 storm, is set to slam into the Caribbean Monday, endangering island communities with life-threatening storm surge, violent winds and flash flooding.'}]\", name='tavily_search_results_json', id='42ba4534-182e-491b-a088-a655c124c1e2', tool_call_id='call_w4ZUKqw5uagKk1B44YHxJU6O'), AIMessage(content=\"I couldn't find the current weather in Los Angeles. Would you like me to try again or search for weather in a different location?\", response_metadata={'token_usage': {'completion_tokens': 28, 'prompt_tokens': 411, 'total_tokens': 439}, 'model_name': 'gpt-3.5-turbo', 'system_fingerprint': None, 'finish_reason': 'stop', 'logprobs': None}, id='run-5fadada7-8229-4c80-b298-fc2e4efe5cc2-0')]}\n",
      "{'messages': [AIMessage(content=\"I couldn't find the current weather in Los Angeles. Would you like me to try again or search for weather in a different location?\", response_metadata={'token_usage': {'completion_tokens': 28, 'prompt_tokens': 411, 'total_tokens': 439}, 'model_name': 'gpt-3.5-turbo', 'system_fingerprint': None, 'finish_reason': 'stop', 'logprobs': None}, id='run-5fadada7-8229-4c80-b298-fc2e4efe5cc2-0')]}\n"
     ]
    }
   ],
   "source": [
    "for event in abot.graph.stream(None, to_replay.config):\n",
    "    for k, v in event.items():\n",
    "        print(v)"
   ]
  },
  {
   "cell_type": "code",
   "execution_count": 39,
   "id": "73b4ca25-4136-4810-8670-807a86c1bfba",
   "metadata": {},
   "outputs": [
    {
     "data": {
      "text/plain": [
       "StateSnapshot(values={'messages': [HumanMessage(content='Whats the weather in LA?', id='be2e68ff-3308-4bb7-aabc-170372e6b750'), AIMessage(content='', additional_kwargs={'tool_calls': [{'function': {'arguments': '{\"query\":\"weather in Los Angeles\"}', 'name': 'tavily_search_results_json'}, 'id': 'call_w4ZUKqw5uagKk1B44YHxJU6O', 'type': 'function'}]}, response_metadata={'finish_reason': 'tool_calls', 'logprobs': None, 'model_name': 'gpt-3.5-turbo', 'system_fingerprint': None, 'token_usage': {'completion_tokens': 21, 'prompt_tokens': 152, 'total_tokens': 173}}, id='run-67536424-1b36-4d3f-ace2-0636f206d4bf-0', tool_calls=[{'name': 'tavily_search_results_json', 'args': {'query': 'current weather in Louisiana'}, 'id': 'call_w4ZUKqw5uagKk1B44YHxJU6O'}])]}, next=('action',), config={'configurable': {'thread_id': '3', 'thread_ts': '2024-07-01T07:32:18.326828+00:00'}}, parent_config=None)"
      ]
     },
     "execution_count": 39,
     "metadata": {},
     "output_type": "execute_result"
    }
   ],
   "source": [
    "to_replay"
   ]
  },
  {
   "cell_type": "code",
   "execution_count": 40,
   "id": "cae2626d-57ae-4663-bd2e-b3417d43275b",
   "metadata": {},
   "outputs": [],
   "source": [
    "_id = to_replay.values['messages'][-1].tool_calls[0]['id']\n",
    "to_replay.values['messages'][-1].tool_calls = [{'name': 'tavily_search_results_json',\n",
    "  'args': {'query': 'current weather in LA, accuweather'},\n",
    "  'id': _id}]"
   ]
  },
  {
   "cell_type": "code",
   "execution_count": 41,
   "id": "445c27a6-4b6c-41eb-a3ba-bd4f7c6f608c",
   "metadata": {},
   "outputs": [
    {
     "name": "stdout",
     "output_type": "stream",
     "text": [
      "{'messages': [HumanMessage(content='Whats the weather in LA?', id='be2e68ff-3308-4bb7-aabc-170372e6b750'), AIMessage(content='', additional_kwargs={'tool_calls': [{'function': {'arguments': '{\"query\":\"weather in Los Angeles\"}', 'name': 'tavily_search_results_json'}, 'id': 'call_w4ZUKqw5uagKk1B44YHxJU6O', 'type': 'function'}]}, response_metadata={'finish_reason': 'tool_calls', 'logprobs': None, 'model_name': 'gpt-3.5-turbo', 'system_fingerprint': None, 'token_usage': {'completion_tokens': 21, 'prompt_tokens': 152, 'total_tokens': 173}}, id='run-67536424-1b36-4d3f-ace2-0636f206d4bf-0', tool_calls=[{'name': 'tavily_search_results_json', 'args': {'query': 'current weather in LA, accuweather'}, 'id': 'call_w4ZUKqw5uagKk1B44YHxJU6O'}])]}\n"
     ]
    }
   ],
   "source": [
    "branch_state = abot.graph.update_state(to_replay.config, to_replay.values)"
   ]
  },
  {
   "cell_type": "code",
   "execution_count": 42,
   "id": "34a65b86-e8a4-4156-b4e0-824e7a2634bd",
   "metadata": {},
   "outputs": [
    {
     "name": "stdout",
     "output_type": "stream",
     "text": [
      "Calling: {'name': 'tavily_search_results_json', 'args': {'query': 'current weather in LA, accuweather'}, 'id': 'call_w4ZUKqw5uagKk1B44YHxJU6O'}\n",
      "Back to the model!\n",
      "{'messages': [ToolMessage(content=\"[{'url': 'https://www.accuweather.com/en/us/los-angeles/90012/current-weather/347625', 'content': 'Current weather in Los Angeles, CA. Check current conditions in Los Angeles, CA with radar, hourly, and more.'}, {'url': 'https://www.accuweather.com/en/us/los-angeles/90012/weather-forecast/347625', 'content': 'Los Angeles, CA Weather Forecast, with current conditions, wind, air quality, and what to expect for the next 3 days.'}]\", name='tavily_search_results_json', id='7322a29d-2d44-421e-be0f-e7c481f3923c', tool_call_id='call_w4ZUKqw5uagKk1B44YHxJU6O')]}\n",
      "{'messages': [HumanMessage(content='Whats the weather in LA?', id='be2e68ff-3308-4bb7-aabc-170372e6b750'), AIMessage(content='', additional_kwargs={'tool_calls': [{'function': {'arguments': '{\"query\":\"weather in Los Angeles\"}', 'name': 'tavily_search_results_json'}, 'id': 'call_w4ZUKqw5uagKk1B44YHxJU6O', 'type': 'function'}]}, response_metadata={'finish_reason': 'tool_calls', 'logprobs': None, 'model_name': 'gpt-3.5-turbo', 'system_fingerprint': None, 'token_usage': {'completion_tokens': 21, 'prompt_tokens': 152, 'total_tokens': 173}}, id='run-67536424-1b36-4d3f-ace2-0636f206d4bf-0', tool_calls=[{'name': 'tavily_search_results_json', 'args': {'query': 'current weather in LA, accuweather'}, 'id': 'call_w4ZUKqw5uagKk1B44YHxJU6O'}]), ToolMessage(content=\"[{'url': 'https://www.accuweather.com/en/us/los-angeles/90012/current-weather/347625', 'content': 'Current weather in Los Angeles, CA. Check current conditions in Los Angeles, CA with radar, hourly, and more.'}, {'url': 'https://www.accuweather.com/en/us/los-angeles/90012/weather-forecast/347625', 'content': 'Los Angeles, CA Weather Forecast, with current conditions, wind, air quality, and what to expect for the next 3 days.'}]\", name='tavily_search_results_json', id='7322a29d-2d44-421e-be0f-e7c481f3923c', tool_call_id='call_w4ZUKqw5uagKk1B44YHxJU6O'), AIMessage(content='You can check the current weather in Los Angeles, CA on AccuWeather. Here is the link for the [current weather](https://www.accuweather.com/en/us/los-angeles/90012/current-weather/347625) and the [weather forecast for the next 3 days](https://www.accuweather.com/en/us/los-angeles/90012/weather-forecast/347625).', response_metadata={'token_usage': {'completion_tokens': 87, 'prompt_tokens': 307, 'total_tokens': 394}, 'model_name': 'gpt-3.5-turbo', 'system_fingerprint': None, 'finish_reason': 'stop', 'logprobs': None}, id='run-12732441-078a-4c35-9cdb-96aec3d6f366-0')]}\n",
      "{'messages': [AIMessage(content='You can check the current weather in Los Angeles, CA on AccuWeather. Here is the link for the [current weather](https://www.accuweather.com/en/us/los-angeles/90012/current-weather/347625) and the [weather forecast for the next 3 days](https://www.accuweather.com/en/us/los-angeles/90012/weather-forecast/347625).', response_metadata={'token_usage': {'completion_tokens': 87, 'prompt_tokens': 307, 'total_tokens': 394}, 'model_name': 'gpt-3.5-turbo', 'system_fingerprint': None, 'finish_reason': 'stop', 'logprobs': None}, id='run-12732441-078a-4c35-9cdb-96aec3d6f366-0')]}\n"
     ]
    }
   ],
   "source": [
    "for event in abot.graph.stream(None, branch_state):\n",
    "    for k, v in event.items():\n",
    "        if k != \"__end__\":\n",
    "            print(v)"
   ]
  },
  {
   "cell_type": "code",
   "execution_count": 43,
   "id": "6bcae019-37d8-4493-b625-74ddee8b770c",
   "metadata": {},
   "outputs": [
    {
     "data": {
      "text/plain": [
       "StateSnapshot(values={'messages': [HumanMessage(content='Whats the weather in LA?', id='be2e68ff-3308-4bb7-aabc-170372e6b750'), AIMessage(content='', additional_kwargs={'tool_calls': [{'function': {'arguments': '{\"query\":\"weather in Los Angeles\"}', 'name': 'tavily_search_results_json'}, 'id': 'call_w4ZUKqw5uagKk1B44YHxJU6O', 'type': 'function'}]}, response_metadata={'finish_reason': 'tool_calls', 'logprobs': None, 'model_name': 'gpt-3.5-turbo', 'system_fingerprint': None, 'token_usage': {'completion_tokens': 21, 'prompt_tokens': 152, 'total_tokens': 173}}, id='run-67536424-1b36-4d3f-ace2-0636f206d4bf-0', tool_calls=[{'name': 'tavily_search_results_json', 'args': {'query': 'current weather in LA, accuweather'}, 'id': 'call_w4ZUKqw5uagKk1B44YHxJU6O'}])]}, next=('action',), config={'configurable': {'thread_id': '3', 'thread_ts': '2024-07-01T07:32:18.326828+00:00'}}, parent_config=None)"
      ]
     },
     "execution_count": 43,
     "metadata": {},
     "output_type": "execute_result"
    }
   ],
   "source": [
    "# Add Messages to a State at a given time\n",
    "to_replay"
   ]
  },
  {
   "cell_type": "code",
   "execution_count": 44,
   "id": "eef144e5-d46d-41c6-852f-ad3a5f9dc925",
   "metadata": {},
   "outputs": [],
   "source": [
    "_id = to_replay.values['messages'][-1].tool_calls[0]['id']"
   ]
  },
  {
   "cell_type": "code",
   "execution_count": 45,
   "id": "24d2b26a-7dee-4b8c-8165-5c095766723f",
   "metadata": {},
   "outputs": [],
   "source": [
    "state_update = {\"messages\": [ToolMessage(\n",
    "    tool_call_id=_id,\n",
    "    name=\"tavily_search_results_json\",\n",
    "    content=\"54 degree celcius\",\n",
    ")]}"
   ]
  },
  {
   "cell_type": "code",
   "execution_count": 46,
   "id": "a22e68aa-ea7f-4565-b6e7-80f724acbe37",
   "metadata": {},
   "outputs": [],
   "source": [
    "branch_and_add = abot.graph.update_state(\n",
    "    to_replay.config, \n",
    "    state_update, \n",
    "    as_node=\"action\")"
   ]
  },
  {
   "cell_type": "code",
   "execution_count": 47,
   "id": "a1cda12b-3fcd-4382-b39d-3941657a5704",
   "metadata": {},
   "outputs": [
    {
     "name": "stdout",
     "output_type": "stream",
     "text": [
      "{'messages': [HumanMessage(content='Whats the weather in LA?', id='be2e68ff-3308-4bb7-aabc-170372e6b750'), AIMessage(content='', additional_kwargs={'tool_calls': [{'function': {'arguments': '{\"query\":\"weather in Los Angeles\"}', 'name': 'tavily_search_results_json'}, 'id': 'call_w4ZUKqw5uagKk1B44YHxJU6O', 'type': 'function'}]}, response_metadata={'finish_reason': 'tool_calls', 'logprobs': None, 'model_name': 'gpt-3.5-turbo', 'system_fingerprint': None, 'token_usage': {'completion_tokens': 21, 'prompt_tokens': 152, 'total_tokens': 173}}, id='run-67536424-1b36-4d3f-ace2-0636f206d4bf-0', tool_calls=[{'name': 'tavily_search_results_json', 'args': {'query': 'current weather in Louisiana'}, 'id': 'call_w4ZUKqw5uagKk1B44YHxJU6O'}]), ToolMessage(content='54 degree celcius', name='tavily_search_results_json', id='ad1f8d95-4959-4f57-af93-a5fc0936a534', tool_call_id='call_w4ZUKqw5uagKk1B44YHxJU6O'), AIMessage(content='The current weather in Louisiana is 54 degrees Celsius. Would you like me to check for Los Angeles specifically?', response_metadata={'token_usage': {'completion_tokens': 23, 'prompt_tokens': 190, 'total_tokens': 213}, 'model_name': 'gpt-3.5-turbo', 'system_fingerprint': None, 'finish_reason': 'stop', 'logprobs': None}, id='run-c9db809f-f091-4c78-828d-9855d92fa4f0-0')]}\n",
      "{'messages': [AIMessage(content='The current weather in Louisiana is 54 degrees Celsius. Would you like me to check for Los Angeles specifically?', response_metadata={'token_usage': {'completion_tokens': 23, 'prompt_tokens': 190, 'total_tokens': 213}, 'model_name': 'gpt-3.5-turbo', 'system_fingerprint': None, 'finish_reason': 'stop', 'logprobs': None}, id='run-c9db809f-f091-4c78-828d-9855d92fa4f0-0')]}\n"
     ]
    }
   ],
   "source": [
    "for event in abot.graph.stream(None, branch_and_add):\n",
    "    for k, v in event.items():\n",
    "        print(v)"
   ]
  },
  {
   "cell_type": "code",
   "execution_count": null,
   "id": "2959b188-96d0-4b6c-b0d8-733d091d73b4",
   "metadata": {},
   "outputs": [],
   "source": []
  }
 ],
 "metadata": {
  "kernelspec": {
   "display_name": "Python 3 (ipykernel)",
   "language": "python",
   "name": "python3"
  },
  "language_info": {
   "codemirror_mode": {
    "name": "ipython",
    "version": 3
   },
   "file_extension": ".py",
   "mimetype": "text/x-python",
   "name": "python",
   "nbconvert_exporter": "python",
   "pygments_lexer": "ipython3",
   "version": "3.9.7"
  }
 },
 "nbformat": 4,
 "nbformat_minor": 5
}
