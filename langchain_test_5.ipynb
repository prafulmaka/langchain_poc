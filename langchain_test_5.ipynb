{
 "cells": [
  {
   "cell_type": "code",
   "execution_count": 2,
   "id": "1e2f219e-0007-4d81-92dc-797af830a4f5",
   "metadata": {
    "ExecuteTime": {
     "end_time": "2025-10-29T17:33:03.585318Z",
     "start_time": "2025-10-29T17:33:03.581699Z"
    }
   },
   "outputs": [],
   "source": [
    "# Testing LangChain v1.0"
   ]
  },
  {
   "cell_type": "code",
   "execution_count": 2,
   "id": "2ebaa878-0c13-4be1-a5c5-c0274979ba1b",
   "metadata": {},
   "outputs": [],
   "source": [
    "# https://docs.langchain.com/oss/python/langchain/rag"
   ]
  },
  {
   "cell_type": "code",
   "execution_count": 1,
   "id": "0a5b401c-ca6f-4e63-9a7a-dbe88dadf01b",
   "metadata": {},
   "outputs": [],
   "source": [
    "from dotenv import dotenv_values\n",
    "import os\n",
    "from openai import OpenAI\n",
    "\n",
    "config = dotenv_values(\".env\")\n",
    "\n",
    "client = OpenAI(api_key=config[\"OPEN_AI_KEY\"])"
   ]
  },
  {
   "cell_type": "code",
   "execution_count": 2,
   "id": "096f0263-5362-49cc-b76e-130d65b87c8e",
   "metadata": {},
   "outputs": [],
   "source": [
    "from langchain_openai import OpenAIEmbeddings  \n",
    "\n",
    "model_name = 'text-embedding-3-large'  \n",
    "embeddings = OpenAIEmbeddings(  \n",
    "    model=model_name,  \n",
    "    openai_api_key=config[\"OPEN_AI_KEY\"]  \n",
    ")"
   ]
  },
  {
   "cell_type": "code",
   "execution_count": 3,
   "id": "a3fceeb7-b5b5-4471-855b-64933d8864c8",
   "metadata": {},
   "outputs": [],
   "source": [
    "from pinecone import Pinecone, ServerlessSpec\n",
    "\n",
    "pc = Pinecone(api_key=config[\"PINECONE_API_KEY\"])\n",
    "\n",
    "# pc = Pinecone(api_key=os.environ.get('PINECONE_API_KEY'))"
   ]
  },
  {
   "cell_type": "code",
   "execution_count": 49,
   "id": "bd0d78b9-ab97-41c8-9116-1428f03700bf",
   "metadata": {},
   "outputs": [
    {
     "name": "stdout",
     "output_type": "stream",
     "text": [
      "Original sentence: What does the knowledge source say about the speed of light?\n",
      "Embedding vector (first 50 dimensions): [0.003222345607355237, -0.015915820375084877, -0.005860345438122749, 0.023022545501589775, -0.02298201248049736, -0.01999610662460327, 0.04061371460556984, 0.03504722937941551, 0.020901337265968323, 0.028859246522188187, 0.011187011376023293, 0.05788062512874603, 0.02419799193739891, -0.0058299461379647255, -0.013321731239557266, 0.07906568795442581, 0.013281198218464851, 0.0001265589817194268, -0.016037417575716972, 0.023117121309041977, -0.019198965281248093, -0.009450863115489483, 0.018739594146609306, -0.02071218378841877, -0.02549503743648529, 0.007086458150297403, 0.009727835655212402, 0.003914778586477041, -0.002171874511986971, 0.009781879372894764, 0.03245314210653305, -0.003654693951830268, -0.005694837309420109, -0.015578048303723335, 0.0014760639751330018, -0.05177370458841324, -0.02119857631623745, -0.02225242555141449, -0.02750815823674202, -0.00789711158722639, 0.017429038882255554, 0.012389480136334896, -0.012652941979467869, -0.028048593550920486, -0.03372316434979439, 0.001446508918888867, -0.022319979965686798, -0.016631897538900375, 0.0464504174888134, -0.044639959931373596]...\n",
      "Vector dimension: 3072\n"
     ]
    }
   ],
   "source": [
    "# Function to embed text > to feed to Pinecone index.query\n",
    "\n",
    "from openai import OpenAI\n",
    "\n",
    "def get_embedding(text, model=\"text-embedding-3-large\"):\n",
    "    \"\"\"\n",
    "    Generates a vector embedding for the given text using OpenAI's model.\n",
    "    \"\"\"\n",
    "    text = text.replace(\"\\n\", \" \") # Best practice is to replace newlines\n",
    "    response = client.embeddings.create(\n",
    "        input=[text],\n",
    "        model=model\n",
    "    )\n",
    "    # The embedding is in the 'data' array of the response\n",
    "    return response.data[0].embedding\n",
    "\n",
    "# Example usage:\n",
    "sentence = \"What does the knowledge source say about the speed of light?\"\n",
    "embedding_vector = get_embedding(sentence)\n",
    "\n",
    "print(f\"Original sentence: {sentence}\")\n",
    "print(f\"Embedding vector (first 50 dimensions): {embedding_vector[:50]}...\")\n",
    "print(f\"Vector dimension: {len(embedding_vector)}\")\n"
   ]
  },
  {
   "cell_type": "code",
   "execution_count": 50,
   "id": "3cae69c0-9c34-4604-a30e-4842996a0fc1",
   "metadata": {},
   "outputs": [],
   "source": [
    "# Pinecone - Debug\n",
    "\n",
    "from pinecone import Pinecone\n",
    "\n",
    "# pc = Pinecone(api_key=os.environ.get('PINECONE_API_KEY'))\n",
    "\n",
    "# To get the unique host for an index, \n",
    "# see https://docs.pinecone.io/guides/manage-data/target-an-index\n",
    "index = pc.Index(host=\"https://test-index-3-kuv1rfi.svc.aped-4627-b74a.pinecone.io\")\n",
    "\n",
    "# Index.search will not work with this index\n",
    "# Integrated inference is not configured for this index\n",
    "\n",
    "# results = index.query(\n",
    "#     namespace=\"__default__\", \n",
    "#     query={\n",
    "#         \"inputs\": {\"text\": \"Disease prevention\"}\n",
    "#     },\n",
    "#     top_k=3,\n",
    "#     include_metadata=True,\n",
    "#     include_values=False\n",
    "# )\n",
    "\n",
    "# print(results)\n",
    "\n",
    "# Pinecone index.query\n",
    "\n",
    "response = index.query(\n",
    "    namespace=\"__default__\",\n",
    "    vector=embedding_vector, \n",
    "    top_k=3,\n",
    "    include_metadata=True,\n",
    "    include_values=False\n",
    ")"
   ]
  },
  {
   "cell_type": "code",
   "execution_count": 51,
   "id": "11c06515-6dce-4df8-9e6e-b556b2a79194",
   "metadata": {},
   "outputs": [],
   "source": [
    "matches = response['matches']"
   ]
  },
  {
   "cell_type": "code",
   "execution_count": 52,
   "id": "26eb4c24-776c-45b2-9196-efa9af9120ea",
   "metadata": {
    "scrolled": true
   },
   "outputs": [
    {
     "data": {
      "text/plain": [
       "{'matches': [{'id': '4ba7ae68-92db-42e2-b5c7-c18141c84da3',\n",
       "   'score': 0.578722,\n",
       "   'values': [],\n",
       "   'metadata': {'_id': 'rec9',\n",
       "    'category': 'physics',\n",
       "    'text': 'The speed of light in a vacuum is approximately 299,792 km/s.'}},\n",
       "  {'id': '01cf5e66-b57b-42c3-a46e-ef66cc490e86',\n",
       "   'score': 0.349006683,\n",
       "   'values': [],\n",
       "   'metadata': {'_id': 'rec42',\n",
       "    'category': 'physics',\n",
       "    'text': 'The speed of sound is around 343 meters per second in air.'}},\n",
       "  {'id': '45277ff9-a7b7-43e3-a480-6db9d2978300',\n",
       "   'score': 0.29104045,\n",
       "   'values': [],\n",
       "   'metadata': {'_id': 'rec31',\n",
       "    'category': 'astronomy',\n",
       "    'text': 'The universe is expanding, according to the Big Bang theory.'}}],\n",
       " 'namespace': '__default__',\n",
       " 'usage': {'read_units': 1}}"
      ]
     },
     "execution_count": 52,
     "metadata": {},
     "output_type": "execute_result"
    }
   ],
   "source": [
    "response.to_dict()"
   ]
  },
  {
   "cell_type": "code",
   "execution_count": 15,
   "id": "219deb35-85c9-47d1-998a-2022055f21f0",
   "metadata": {},
   "outputs": [],
   "source": [
    "import langchain\n",
    "langchain.verbose = False\n",
    "# langchain.debug = False\n",
    "# langchain.llm_cache = False\n",
    "from langchain.chat_models import init_chat_model\n",
    "\n",
    "model = init_chat_model(\"gpt-4.1-mini\", model_provider=\"openai\", api_key=config[\"OPEN_AI_KEY\"])"
   ]
  },
  {
   "cell_type": "code",
   "execution_count": 16,
   "id": "dd2e6dc7-cf0b-4025-b4ce-b5e814d216de",
   "metadata": {},
   "outputs": [],
   "source": [
    "# Original\n",
    "\n",
    "from langchain.agents.middleware import dynamic_prompt, ModelRequest\n",
    "from langchain.agents import create_agent\n",
    "\n",
    "\n",
    "@dynamic_prompt\n",
    "def prompt_with_context(request: ModelRequest) -> str:\n",
    "    \"\"\"Inject context into state messages.\"\"\"\n",
    "    last_query = request.state[\"messages\"][-1].text\n",
    "    retrieved_docs = vector_store.similarity_search(last_query)\n",
    "\n",
    "    docs_content = \"\\n\\n\".join(doc.page_content for doc in retrieved_docs)\n",
    "\n",
    "    system_message = (\n",
    "        \"You are a helpful assistant. Use the following context in your response:\"\n",
    "        f\"\\n\\n{docs_content}\"\n",
    "    )\n",
    "\n",
    "    return system_message\n",
    "\n",
    "\n",
    "agent = create_agent(model, tools=[], middleware=[prompt_with_context])"
   ]
  },
  {
   "cell_type": "code",
   "execution_count": 71,
   "id": "bc491a58-080b-4b91-ab13-fd1ff04600d1",
   "metadata": {},
   "outputs": [],
   "source": [
    "# v2\n",
    "\n",
    "from langchain.agents.middleware import dynamic_prompt, ModelRequest\n",
    "from langchain.agents import create_agent\n",
    "\n",
    "\n",
    "@dynamic_prompt\n",
    "def prompt_with_context(request: ModelRequest) -> str:\n",
    "    \"\"\"Inject context into state messages.\"\"\"\n",
    "    last_query = request.state[\"messages\"][-1].text\n",
    "    \n",
    "    # Get embedding for message\n",
    "    embedding = get_embedding(last_query)\n",
    "\n",
    "    # Perform search against Pinecone\n",
    "    response = index.query(\n",
    "        namespace=\"__default__\",\n",
    "        vector=embedding, \n",
    "        top_k=3,\n",
    "        include_metadata=True,\n",
    "        include_values=False\n",
    "    )\n",
    "\n",
    "    response = response.to_dict()\n",
    "    \n",
    "    system_message = (\n",
    "        \"You are a helpful assistant. Use the following context in your response:\"\n",
    "        f\"\\n\\n{response['matches']}\"\n",
    "    )\n",
    "\n",
    "    return system_message\n",
    "\n",
    "\n",
    "agent = create_agent(model, tools=[], middleware=[prompt_with_context])"
   ]
  },
  {
   "cell_type": "code",
   "execution_count": 88,
   "id": "e52542fc-18cf-45de-882a-b21d4b772b82",
   "metadata": {},
   "outputs": [],
   "source": [
    "from langchain.messages import SystemMessage, HumanMessage, AIMessage\n",
    "from langchain_core.output_parsers import StrOutputParser\n",
    "\n",
    "messages = {\n",
    "    \"messages\": [\n",
    "        {\"role\": \"user\", \"content\": \"What is Maka Projects?\"}\n",
    "    ]\n",
    "}\n",
    "\n",
    "\n",
    "result = agent.invoke(messages)"
   ]
  },
  {
   "cell_type": "code",
   "execution_count": 87,
   "id": "3401045a-30bf-497e-b301-5f8a7cf72ef2",
   "metadata": {},
   "outputs": [
    {
     "data": {
      "text/plain": [
       "'Maka Projects is a holding company that owns multiple multi-billion dollar companies including Chedr, Gymogul, and Coach Central.'"
      ]
     },
     "execution_count": 87,
     "metadata": {},
     "output_type": "execute_result"
    }
   ],
   "source": [
    "result['messages'][-1].content"
   ]
  },
  {
   "cell_type": "code",
   "execution_count": 93,
   "id": "3a545e34-223d-4906-8f51-86fa02f3293b",
   "metadata": {},
   "outputs": [],
   "source": [
    "# Short-term Memory"
   ]
  },
  {
   "cell_type": "code",
   "execution_count": 94,
   "id": "30881dbe-b8a0-4a45-a985-e4a1edd3b7f4",
   "metadata": {},
   "outputs": [],
   "source": [
    "from langgraph.checkpoint.memory import InMemorySaver\n",
    "\n",
    "agent = create_agent(model, tools=[], middleware=[prompt_with_context], checkpointer=InMemorySaver())"
   ]
  },
  {
   "cell_type": "code",
   "execution_count": 104,
   "id": "a939b759-ce83-48d0-9cfe-1b1c23c81e48",
   "metadata": {},
   "outputs": [],
   "source": [
    "messages = {\n",
    "    \"messages\": [\n",
    "        {\"role\": \"user\", \"content\": \"I live in California\"}\n",
    "    ]\n",
    "}\n",
    "\n",
    "\n",
    "result = agent.invoke(messages, {\"configurable\": {\"thread_id\": \"1\"}})"
   ]
  },
  {
   "cell_type": "code",
   "execution_count": 105,
   "id": "a19c54fc-cae5-42cb-9518-d82c9915207a",
   "metadata": {},
   "outputs": [
    {
     "name": "stdout",
     "output_type": "stream",
     "text": [
      "content='Thank you for sharing that you live in California! Is there anything specific you would like to know or discuss about California?' additional_kwargs={'refusal': None} response_metadata={'token_usage': {'completion_tokens': 24, 'prompt_tokens': 386, 'total_tokens': 410, 'completion_tokens_details': {'accepted_prediction_tokens': 0, 'audio_tokens': 0, 'reasoning_tokens': 0, 'rejected_prediction_tokens': 0}, 'prompt_tokens_details': {'audio_tokens': 0, 'cached_tokens': 0}}, 'model_name': 'gpt-4.1-mini-2025-04-14', 'system_fingerprint': 'fp_4c2851f862', 'id': 'chatcmpl-CWGhEwx16QtacanFaEFGqkG0WoF57', 'service_tier': 'default', 'finish_reason': 'stop', 'logprobs': None} id='lc_run--9a450319-21d7-4f6c-89b5-af42e1378bd7-0' usage_metadata={'input_tokens': 386, 'output_tokens': 24, 'total_tokens': 410, 'input_token_details': {'audio': 0, 'cache_read': 0}, 'output_token_details': {'audio': 0, 'reasoning': 0}}\n"
     ]
    }
   ],
   "source": [
    "print(result['messages'][-1])"
   ]
  },
  {
   "cell_type": "code",
   "execution_count": null,
   "id": "fad31fd6-b80a-45a6-b5b2-b8d9fb6d1f63",
   "metadata": {},
   "outputs": [],
   "source": []
  }
 ],
 "metadata": {
  "kernelspec": {
   "display_name": "Python 3 (ipykernel)",
   "language": "python",
   "name": "python3"
  },
  "language_info": {
   "codemirror_mode": {
    "name": "ipython",
    "version": 3
   },
   "file_extension": ".py",
   "mimetype": "text/x-python",
   "name": "python",
   "nbconvert_exporter": "python",
   "pygments_lexer": "ipython3",
   "version": "3.12.4"
  }
 },
 "nbformat": 4,
 "nbformat_minor": 5
}
