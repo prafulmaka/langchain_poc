{
 "cells": [
  {
   "cell_type": "code",
   "execution_count": 1,
   "id": "f6174a51-f385-420c-9658-9aafa0b44de7",
   "metadata": {
    "jupyter": {
     "is_executing": true
    }
   },
   "outputs": [],
   "source": [
    "from langgraph.graph import StateGraph, END\n",
    "from typing import TypedDict, Annotated, List\n",
    "import operator\n",
    "from langgraph.checkpoint.sqlite import SqliteSaver\n",
    "from langchain_core.messages import AnyMessage, SystemMessage, HumanMessage, AIMessage, ChatMessage\n",
    "from dotenv import dotenv_values\n",
    "from langgraph.checkpoint.memory import MemorySaver\n",
    "import json\n",
    "\n",
    "memory = MemorySaver()"
   ]
  },
  {
   "cell_type": "code",
   "execution_count": 77,
   "id": "ec93e65f-2454-471b-ba38-8520bca44ed2",
   "metadata": {},
   "outputs": [],
   "source": [
    "config = dotenv_values(\".env\")"
   ]
  },
  {
   "cell_type": "code",
   "execution_count": 78,
   "id": "5b895924-33e7-4e6a-987a-540126e56260",
   "metadata": {
    "ExecuteTime": {
     "end_time": "2025-02-22T19:35:03.335294Z",
     "start_time": "2025-02-22T19:35:03.058974Z"
    }
   },
   "outputs": [],
   "source": [
    "class AgentState(TypedDict):\n",
    "    task: str\n",
    "    plan: str\n",
    "    draft: str\n",
    "    critique: str\n",
    "    content: List[str]\n",
    "    revision_number: int\n",
    "    max_revisions: int"
   ]
  },
  {
   "cell_type": "code",
   "execution_count": 79,
   "id": "f357250f-3783-4d26-8d5d-1387a96d830e",
   "metadata": {},
   "outputs": [],
   "source": [
    "from langchain_openai import ChatOpenAI\n",
    "model = ChatOpenAI(model=\"gpt-3.5-turbo\", temperature=0, openai_api_key=config[\"OPEN_AI_KEY\"])"
   ]
  },
  {
   "cell_type": "code",
   "execution_count": 80,
   "id": "0925b73e-138f-4800-8d80-d28d3cc92689",
   "metadata": {},
   "outputs": [],
   "source": [
    "PLAN_PROMPT = \"\"\"You are an expert Microsoft PowerPoint writer tasked with writing a high level outline for a successful business presentation. \\\n",
    "Write such an outline for the user provided topic. Give an outline of the PowerPoint along with any relevant notes \\\n",
    "or instructions for the sections.\"\"\""
   ]
  },
  {
   "cell_type": "code",
   "execution_count": 81,
   "id": "715a831e-c1cf-47cb-99e6-ff1aae898d5b",
   "metadata": {},
   "outputs": [],
   "source": [
    "RESEARCH_PLAN_PROMPT = \"\"\"You are a researcher charged with providing information that can \\\n",
    "be used when creating a business PowerPoint presentation. Generate a list of search queries that will gather \\\n",
    "any relevant information. Only generate 3 queries max.\"\"\"\n"
   ]
  },
  {
   "cell_type": "code",
   "execution_count": 82,
   "id": "b99c45a6-134e-46cc-bb21-bb0a168d10a2",
   "metadata": {},
   "outputs": [],
   "source": [
    "WRITER_PROMPT = \"\"\"You are an Business Consultant assistant tasked with developing excellent PowerPoint presentations.\\\n",
    "Generate the best presentation possible for the user's request and the initial outline. \\\n",
    "Create logical sections for the presentation with concise content with an intention to tell a story. \\\n",
    "If the user provides critique, respond with a revised version of your previous attempts. \\\n",
    "Utilize all the information below as needed: \n",
    "\n",
    "------\n",
    "\n",
    "{content}\"\"\""
   ]
  },
  {
   "cell_type": "code",
   "execution_count": 83,
   "id": "60c52771-0b9e-4e44-a941-b9f00202c0e7",
   "metadata": {},
   "outputs": [],
   "source": [
    "REFLECTION_PROMPT = \"\"\"You are a partner at a Consulting firm grading a presentation that will be used to review with clients. \\\n",
    "Generate critique and recommendations for the user's submission. \\\n",
    "Provide detailed recommendations, including requests for length, depth, style, etc.\"\"\""
   ]
  },
  {
   "cell_type": "code",
   "execution_count": 84,
   "id": "290bd9d8-0e0f-4f9f-9ac2-c24a18502d92",
   "metadata": {},
   "outputs": [],
   "source": [
    "RESEARCH_CRITIQUE_PROMPT = \"\"\"You are a researcher charged with providing information that can \\\n",
    "be used when making any requested revisions (as outlined below). \\\n",
    "Generate a list of search queries that will gather any relevant information. Only generate 3 queries max.\"\"\"\n"
   ]
  },
  {
   "cell_type": "code",
   "execution_count": 85,
   "id": "e3aba018-5f61-4b09-81d1-1dfa17da9b01",
   "metadata": {},
   "outputs": [],
   "source": [
    "from langchain_core.pydantic_v1 import BaseModel\n",
    "\n",
    "class Queries(BaseModel):\n",
    "    queries: List[str]"
   ]
  },
  {
   "cell_type": "code",
   "execution_count": 86,
   "id": "9303e6de-2948-435e-8eec-8d2e8f82f993",
   "metadata": {},
   "outputs": [],
   "source": [
    "from tavily import TavilyClient\n",
    "import os\n",
    "tavily = TavilyClient(api_key=config[\"TAVILY_API_KEY\"])"
   ]
  },
  {
   "cell_type": "code",
   "execution_count": 87,
   "id": "6663f2d0-3c2f-4d59-b887-5a2704ad24c1",
   "metadata": {},
   "outputs": [],
   "source": [
    "def plan_node(state: AgentState):\n",
    "    messages = [\n",
    "        SystemMessage(content=PLAN_PROMPT), \n",
    "        HumanMessage(content=state['task'])\n",
    "    ]\n",
    "    response = model.invoke(messages)\n",
    "    return {\"plan\": response.content}"
   ]
  },
  {
   "cell_type": "code",
   "execution_count": 88,
   "id": "d541f993-46c1-49bf-b882-d08c4086cefd",
   "metadata": {},
   "outputs": [],
   "source": [
    "def research_plan_node(state: AgentState):\n",
    "    queries = model.with_structured_output(Queries).invoke([\n",
    "        SystemMessage(content=RESEARCH_PLAN_PROMPT),\n",
    "        HumanMessage(content=state['task'])\n",
    "    ])\n",
    "    # content = state['plan'] or []\n",
    "    content = []\n",
    "    for q in queries.queries:\n",
    "        response = tavily.search(query=q, max_results=2)\n",
    "        for r in response['results']:\n",
    "            content.append(r['content'])\n",
    "    return {\"content\": content}"
   ]
  },
  {
   "cell_type": "code",
   "execution_count": 89,
   "id": "2af4cb00-8b16-4bcd-9ab5-1ed6ed7e986e",
   "metadata": {},
   "outputs": [],
   "source": [
    "def generation_node(state: AgentState):\n",
    "    content = \"\\n\\n\".join(state['content'] or [])\n",
    "    user_message = HumanMessage(\n",
    "        content=f\"{state['task']}\\n\\nHere is my plan:\\n\\n{state['plan']}\")\n",
    "    messages = [\n",
    "        SystemMessage(\n",
    "            content=WRITER_PROMPT.format(content=content)\n",
    "        ),\n",
    "        user_message\n",
    "        ]\n",
    "    response = model.invoke(messages)\n",
    "    return {\n",
    "        \"draft\": response.content, \n",
    "        \"revision_number\": state.get(\"revision_number\", 1) + 1\n",
    "    }\n"
   ]
  },
  {
   "cell_type": "code",
   "execution_count": 90,
   "id": "af3c8dd1-4521-41f4-8d8a-0a087ee7000a",
   "metadata": {},
   "outputs": [],
   "source": [
    "def reflection_node(state: AgentState):\n",
    "    messages = [\n",
    "        SystemMessage(content=REFLECTION_PROMPT), \n",
    "        HumanMessage(content=state['draft'])\n",
    "    ]\n",
    "    response = model.invoke(messages)\n",
    "    return {\"critique\": response.content}"
   ]
  },
  {
   "cell_type": "code",
   "execution_count": 91,
   "id": "b61d1481-4ae6-4a30-83bd-d1736eb3b6e9",
   "metadata": {},
   "outputs": [],
   "source": [
    "def research_critique_node(state: AgentState):\n",
    "    queries = model.with_structured_output(Queries).invoke([\n",
    "        SystemMessage(content=RESEARCH_CRITIQUE_PROMPT),\n",
    "        HumanMessage(content=state['critique'])\n",
    "    ])\n",
    "    content = state['content'] or []\n",
    "    for q in queries.queries:\n",
    "        response = tavily.search(query=q, max_results=2)\n",
    "        for r in response['results']:\n",
    "            content.append(r['content'])\n",
    "    return {\"content\": content}"
   ]
  },
  {
   "cell_type": "code",
   "execution_count": 92,
   "id": "f3226eac-49a8-43b1-a38b-c80da7fe0a4f",
   "metadata": {},
   "outputs": [],
   "source": [
    "def powerpoint_node(state: AgentState):\n",
    "    print(\"IN POWERPOINT NODE\")"
   ]
  },
  {
   "cell_type": "code",
   "execution_count": 93,
   "id": "d97f1f80-2e7e-4209-a722-2a2286ff66f3",
   "metadata": {},
   "outputs": [],
   "source": [
    "def should_continue(state):\n",
    "    if state[\"revision_number\"] > state[\"max_revisions\"]:\n",
    "        return \"powerpoint\"\n",
    "    return \"reflect\""
   ]
  },
  {
   "cell_type": "code",
   "execution_count": 94,
   "id": "6f4e0b72-65ce-4983-8f31-f9ffe7569f1d",
   "metadata": {},
   "outputs": [],
   "source": [
    "builder = StateGraph(AgentState)"
   ]
  },
  {
   "cell_type": "code",
   "execution_count": 95,
   "id": "f6b0eb14-aba2-45da-afaf-6c19cae8ad40",
   "metadata": {},
   "outputs": [
    {
     "data": {
      "text/plain": [
       "<langgraph.graph.state.StateGraph at 0x112254410>"
      ]
     },
     "execution_count": 95,
     "metadata": {},
     "output_type": "execute_result"
    }
   ],
   "source": [
    "builder.add_node(\"planner\", plan_node)\n",
    "builder.add_node(\"generate\", generation_node)\n",
    "builder.add_node(\"reflect\", reflection_node)\n",
    "builder.add_node(\"research_plan\", research_plan_node)\n",
    "builder.add_node(\"research_critique\", research_critique_node)\n",
    "builder.add_node(\"powerpoint\", powerpoint_node)"
   ]
  },
  {
   "cell_type": "code",
   "execution_count": 96,
   "id": "609fff9e-9156-49dd-9a85-4d87c904a419",
   "metadata": {},
   "outputs": [
    {
     "data": {
      "text/plain": [
       "<langgraph.graph.state.StateGraph at 0x112254410>"
      ]
     },
     "execution_count": 96,
     "metadata": {},
     "output_type": "execute_result"
    }
   ],
   "source": [
    "builder.set_entry_point(\"planner\")"
   ]
  },
  {
   "cell_type": "code",
   "execution_count": 97,
   "id": "aa6e2873-66fc-4303-acc6-3b8eb62fe068",
   "metadata": {},
   "outputs": [
    {
     "data": {
      "text/plain": [
       "<langgraph.graph.state.StateGraph at 0x112254410>"
      ]
     },
     "execution_count": 97,
     "metadata": {},
     "output_type": "execute_result"
    }
   ],
   "source": [
    "builder.add_conditional_edges(\n",
    "    \"generate\", \n",
    "    should_continue, \n",
    "    {\"powerpoint\": \"powerpoint\", \"reflect\": \"reflect\"}\n",
    ")\n"
   ]
  },
  {
   "cell_type": "code",
   "execution_count": 98,
   "id": "aa3e8990-cd6a-45c2-9f0f-0abd1e7575a7",
   "metadata": {},
   "outputs": [
    {
     "data": {
      "text/plain": [
       "<langgraph.graph.state.StateGraph at 0x112254410>"
      ]
     },
     "execution_count": 98,
     "metadata": {},
     "output_type": "execute_result"
    }
   ],
   "source": [
    "builder.add_edge(\"planner\", \"research_plan\")\n",
    "builder.add_edge(\"research_plan\", \"generate\")\n",
    "builder.add_edge(\"reflect\", \"research_critique\")\n",
    "builder.add_edge(\"research_critique\", \"generate\")\n",
    "builder.add_edge(\"powerpoint\", END)"
   ]
  },
  {
   "cell_type": "code",
   "execution_count": 99,
   "id": "d1782cfe-11d6-4f40-a11b-b860e518356f",
   "metadata": {},
   "outputs": [],
   "source": [
    "graph = builder.compile()"
   ]
  },
  {
   "cell_type": "code",
   "execution_count": 100,
   "id": "efc8172a-f668-4c3c-99a3-55793e5c216f",
   "metadata": {
    "scrolled": true
   },
   "outputs": [],
   "source": [
    "# thread = {\"configurable\": {\"thread_id\": \"1\"}}\n",
    "# for s in graph.stream({\n",
    "#     'task': \"How can our clients incorporate GenAI into their workflow?\",\n",
    "#     \"max_revisions\": 2,\n",
    "#     \"revision_number\": 1,\n",
    "# }, thread):\n",
    "#     print(s)"
   ]
  },
  {
   "cell_type": "code",
   "execution_count": 101,
   "id": "3fc9c544-3077-4bfc-acff-b42c88620544",
   "metadata": {},
   "outputs": [
    {
     "name": "stdout",
     "output_type": "stream",
     "text": [
      "{'planner': {'plan': '**Title: Incorporating GenAI into Your Workflow**\\n\\n**I. Introduction**\\n- Brief overview of GenAI technology\\n- Importance of integrating GenAI into business workflows\\n\\n**II. Understanding GenAI**\\n- Explanation of what GenAI is\\n- Benefits of using GenAI in business operations\\n- Examples of successful GenAI implementations in various industries\\n\\n**III. Assessing Your Workflow**\\n- Steps to evaluate current workflow processes\\n- Identifying areas where GenAI can be integrated for improvement\\n- Setting goals for incorporating GenAI into the workflow\\n\\n**IV. Implementing GenAI**\\n- Selecting the right GenAI tools for your business needs\\n- Training employees on how to use GenAI effectively\\n- Integrating GenAI seamlessly into existing workflows\\n\\n**V. Best Practices for GenAI Integration**\\n- Tips for maximizing the benefits of GenAI in your workflow\\n- Overcoming common challenges when implementing GenAI\\n- Monitoring and measuring the impact of GenAI on workflow efficiency\\n\\n**VI. Case Studies**\\n- Real-world examples of companies successfully incorporating GenAI into their workflows\\n- Lessons learned from these case studies\\n- Inspiration for how GenAI can revolutionize your own workflow\\n\\n**VII. Q&A**\\n- Open floor for questions and discussion\\n- Address any concerns or uncertainties about incorporating GenAI into workflows\\n\\n**VIII. Conclusion**\\n- Recap of key points discussed\\n- Encouragement for clients to start integrating GenAI into their workflows\\n- Contact information for further assistance or consultation'}}\n"
     ]
    },
    {
     "name": "stderr",
     "output_type": "stream",
     "text": [
      "/Users/pramaka/Desktop/Projects/LangChain/.venv/lib/python3.12/site-packages/langchain_openai/chat_models/base.py:1377: UserWarning: Received a Pydantic BaseModel V1 schema. This is not supported by method=\"json_schema\". Please use method=\"function_calling\" or specify schema via JSON Schema or Pydantic V2 BaseModel. Overriding to method=\"function_calling\".\n",
      "  warnings.warn(\n",
      "/Users/pramaka/Desktop/Projects/LangChain/.venv/lib/python3.12/site-packages/langchain_openai/chat_models/base.py:1390: UserWarning: Cannot use method='json_schema' with model gpt-3.5-turbo since it doesn't support OpenAI's Structured Output API. You can see supported models here: https://platform.openai.com/docs/guides/structured-outputs#supported-models. To fix this warning, set `method='function_calling'. Overriding to method='function_calling'.\n",
      "  warnings.warn(\n"
     ]
    },
    {
     "name": "stdout",
     "output_type": "stream",
     "text": [
      "{'research_plan': {'content': ['With your data ready, start generative AI integration in your workflow. This process involves creating a clear plan for AI integration in business without disrupting daily tasks. Developing an Integration Plan To ensure a smooth process, follow these steps: Identify integration points in your workflow. Define the role AI will play at each point.', 'SnapLogic provides robust capabilities for integrating workflow automation with Generative AI (GenAI), allowing users to seamlessly build advanced multi-agent conversation systems by combining the GenAI Snap with other Snaps within their pipeline.', 'The benefits of generative AI include faster product development, enhanced customer experience and improved employee productivity, but the specifics depend on the use case. ... GenAI Changes Innovation & Operations ... Clients receive 24/7 access to proven management and technology research, expert advice, benchmarks, diagnostics and more. Fill', 'Improving customer experiences through GenAI yields numerous benefits for businesses in all industries. Improved Customer Loyalty. GenAI enhances customer satisfaction and loyalty by delivering personalized experiences that resonate with individual preferences. This, in turn, leads to increased customer engagement, repeat purchases, and', 'Based on our analysis of 30+ case studies and 10 benchmarks, where we tested and compared over 40 products, we identified more than 110 generative AI use cases across the following categories: General genAI applications; Industry-specific genAI applications; Business-function-specific genAI applications', 'Explore the latest GenAI use cases and news to learn how generative AI is transforming enterprises across industries. Updated daily. GenAI Gazette Enterprise AI Stories Curated by MING Labs. About. Back. Filter By ... 723 Enterprise Case Studies. Filter List. Clear.']}}\n",
      "{'generate': {'draft': '**Title: Revolutionizing Workflows with GenAI Integration**\\n\\n**I. Introduction**\\n- Overview of GenAI technology\\n- Significance of integrating GenAI into business workflows for enhanced efficiency\\n\\n**II. Understanding GenAI**\\n- Definition and capabilities of GenAI\\n- Benefits of GenAI in business operations\\n- Successful GenAI implementations in various industries\\n\\n**III. Assessing Your Workflow**\\n- Evaluating current workflow processes\\n- Identifying integration points for GenAI enhancement\\n- Establishing goals for GenAI implementation\\n\\n**IV. Implementing GenAI**\\n- Choosing suitable GenAI tools for specific business needs\\n- Employee training for effective GenAI utilization\\n- Seamless integration of GenAI into existing workflows\\n\\n**V. Best Practices for GenAI Integration**\\n- Strategies for maximizing GenAI benefits\\n- Addressing common implementation challenges\\n- Monitoring and evaluating GenAI impact on workflow efficiency\\n\\n**VI. Case Studies**\\n- Real-world examples of successful GenAI integration\\n- Key takeaways and insights from case studies\\n- Inspiration for leveraging GenAI in client workflows\\n\\n**VII. Q&A**\\n- Interactive session for addressing client queries\\n- Resolving concerns about GenAI integration\\n\\n**VIII. Conclusion**\\n- Summary of key discussion points\\n- Encouragement for clients to initiate GenAI integration\\n- Contact details for further assistance or consultation\\n\\nThis revised presentation structure aims to provide a comprehensive guide for clients looking to incorporate GenAI into their workflows effectively. Let me know if you would like any further adjustments or additions.', 'revision_number': 2}}\n",
      "{'reflect': {'critique': \"### Critique and Recommendations:\\n\\n**Overall Structure:**\\n- The presentation structure is well-organized and covers essential aspects of GenAI integration. However, it would be beneficial to provide more depth and detail in each section to enhance the audience's understanding and engagement.\\n\\n**Content Recommendations:**\\n1. **Introduction:**\\n   - Include statistics or case studies to highlight the impact of GenAI on workflow efficiency.\\n   - Add a brief overview of the presentation flow to set clear expectations.\\n\\n2. **Understanding GenAI:**\\n   - Provide specific examples of how GenAI has improved operations in different industries.\\n   - Include visuals or diagrams to illustrate GenAI capabilities effectively.\\n\\n3. **Assessing Your Workflow:**\\n   - Conduct a detailed analysis of common workflow bottlenecks that GenAI can address.\\n   - Offer a step-by-step guide on how to identify integration points for GenAI enhancement.\\n\\n4. **Implementing GenAI:**\\n   - Include a comparison of different GenAI tools available in the market.\\n   - Provide a timeline for the implementation process and highlight potential challenges.\\n\\n5. **Best Practices for GenAI Integration:**\\n   - Offer actionable strategies for overcoming implementation challenges.\\n   - Include real-world examples of companies that have successfully integrated GenAI.\\n\\n6. **Case Studies:**\\n   - Provide detailed insights into the challenges faced and solutions implemented in each case study.\\n   - Include metrics or KPIs to showcase the tangible benefits of GenAI integration.\\n\\n7. **Q&A:**\\n   - Anticipate potential client queries and prepare detailed responses.\\n   - Encourage audience participation by incorporating interactive elements.\\n\\n8. **Conclusion:**\\n   - Summarize the key benefits of GenAI integration for clients.\\n   - Offer a roadmap for clients to initiate GenAI integration with your firm's support.\\n\\n**General Recommendations:**\\n- Incorporate more visuals, such as infographics or charts, to make complex concepts easier to understand.\\n- Provide references or resources for clients to explore further on GenAI technology.\\n- Consider adding a section on data privacy and security considerations when integrating GenAI into workflows.\\n\\n**Style Recommendations:**\\n- Maintain a professional tone throughout the presentation.\\n- Use a consistent font style and size for better readability.\\n- Ensure that the presentation is visually appealing with a cohesive color scheme.\\n\\nBy incorporating these recommendations, your presentation will become more informative, engaging, and persuasive for clients considering GenAI integration. Feel free to reach out for further assistance or feedback.\"}}\n",
      "{'research_critique': {'content': ['With your data ready, start generative AI integration in your workflow. This process involves creating a clear plan for AI integration in business without disrupting daily tasks. Developing an Integration Plan To ensure a smooth process, follow these steps: Identify integration points in your workflow. Define the role AI will play at each point.', 'SnapLogic provides robust capabilities for integrating workflow automation with Generative AI (GenAI), allowing users to seamlessly build advanced multi-agent conversation systems by combining the GenAI Snap with other Snaps within their pipeline.', 'The benefits of generative AI include faster product development, enhanced customer experience and improved employee productivity, but the specifics depend on the use case. ... GenAI Changes Innovation & Operations ... Clients receive 24/7 access to proven management and technology research, expert advice, benchmarks, diagnostics and more. Fill', 'Improving customer experiences through GenAI yields numerous benefits for businesses in all industries. Improved Customer Loyalty. GenAI enhances customer satisfaction and loyalty by delivering personalized experiences that resonate with individual preferences. This, in turn, leads to increased customer engagement, repeat purchases, and', 'Based on our analysis of 30+ case studies and 10 benchmarks, where we tested and compared over 40 products, we identified more than 110 generative AI use cases across the following categories: General genAI applications; Industry-specific genAI applications; Business-function-specific genAI applications', 'Explore the latest GenAI use cases and news to learn how generative AI is transforming enterprises across industries. Updated daily. GenAI Gazette Enterprise AI Stories Curated by MING Labs. About. Back. Filter By ... 723 Enterprise Case Studies. Filter List. Clear.', \"There's little debate about whether GenAI can increase workforce capabilities, boost productivity and drive efficiency. According to McKinsey, GenAI's impact on productivity could add trillions of dollars to the global economy and save businesses $1.2 trillion in annual labour costs by 2025.\", \"The data in this article has been derived from the 2024 edition of our CXO survey, the latest iteration of an annual survey of senior business leaders that we have run since 2020. 1 2024 McKinsey Corporate Functions CXO Survey, conducted Apr 10-May 30, 2024, n = 276. We first asked business leaders about their approach to gen AI in 2023, and this year's survey included additional questions\", 'The following list captures how 20 different industries are currently using GenAI to achieve these benefits and meet business goals. 1. Manufacturing, industrial and electronics. Manufacturing teams have to meet production goals across throughput, rate, quality, yield and safety.', 'General Generative AI Applications> Video Applications> Image Applications> Audio Applications> Text-based Applications> Code-based Applications> Other ApplicationsIndustry specific Generative AI Applications> Healthcare Applications> Education Applications> Fashion Applications> Banking Applications> Gaming Applications> Travel Applications> Retail Applications> Insurance Applications> Manufacturing ApplicationsBusiness function specific Generative AI Applications> Customer Service Applications> Finance Applications> Marketing Applications> HR Applications> Supply Chain & Procurement Applications> Legal Applications> Sales Applications> Audit ApplicationsGenerative AI applications with use cases and examples summaryFAQ Real-life example: BCG and Zeiss developed a generative AI application to help healthcare professionals provide accurate and timely responses to patient inquiries. By analyzing this data, generative AI tools can help you identify your target audience’s preferences, interests, and pain points, which can inform your marketing messaging, content, and product development.', 'The Jamba 1.5 Model Family by AI21 Labs has a 256K token effective context window, one of the largest on the market. Jamba 1.5 models focus on speed and efficiency, delivering up to 2.5x faster inference than leading models of comparable size. Jamba supports function calling/ tool use, structured output (JSON) and documents API. Llama', 'Claude AI, developed by Anthropic, is a GenAI tool with a large context window that lets it interpret extensive messages. It can process up to 200,000 words at once, allowing it to have extended']}}\n",
      "{'generate': {'draft': '**Title: Integrating GenAI into Your Workflow**\\n\\n**I. Introduction**\\n- Overview of GenAI technology\\n- Importance of GenAI integration in business workflows\\n\\n**II. Understanding GenAI**\\n- Definition and significance of GenAI\\n- Benefits of GenAI in business operations\\n- Successful GenAI implementations in various industries\\n\\n**III. Assessing Your Workflow**\\n- Evaluating current workflow processes\\n- Identifying integration points for GenAI\\n- Setting goals for GenAI implementation\\n\\n**IV. Implementing GenAI**\\n- Choosing suitable GenAI tools for business needs\\n- Employee training for effective GenAI utilization\\n- Seamless integration of GenAI into workflows\\n\\n**V. Best Practices for GenAI Integration**\\n- Maximizing GenAI benefits\\n- Overcoming implementation challenges\\n- Monitoring and measuring GenAI impact on workflow efficiency\\n\\n**VI. Case Studies**\\n- Successful GenAI integration examples\\n- Key takeaways from case studies\\n- Inspiring GenAI implementation ideas\\n\\n**VII. Q&A**\\n- Addressing questions and concerns\\n- Clarifying GenAI integration doubts\\n\\n**VIII. Conclusion**\\n- Recap of key points\\n- Encouragement for GenAI adoption\\n- Contact details for further assistance', 'revision_number': 3}}\n",
      "IN POWERPOINT NODE\n",
      "{'powerpoint': None}\n"
     ]
    }
   ],
   "source": [
    "thread = {\"configurable\": {\"thread_id\": \"1\"}}\n",
    "events = graph.stream({\n",
    "    'task': \"How can our clients incorporate GenAI into their workflow?\",\n",
    "    \"max_revisions\": 2,\n",
    "    \"revision_number\": 1}, thread)\n",
    "\n",
    "for event in events:\n",
    "    print(event)"
   ]
  },
  {
   "cell_type": "code",
   "execution_count": null,
   "id": "e7ed7c6e-01ad-4bfe-af9f-954bae2b1574",
   "metadata": {},
   "outputs": [],
   "source": []
  }
 ],
 "metadata": {
  "kernelspec": {
   "display_name": "Python 3 (ipykernel)",
   "language": "python",
   "name": "python3"
  },
  "language_info": {
   "codemirror_mode": {
    "name": "ipython",
    "version": 3
   },
   "file_extension": ".py",
   "mimetype": "text/x-python",
   "name": "python",
   "nbconvert_exporter": "python",
   "pygments_lexer": "ipython3",
   "version": "3.12.4"
  }
 },
 "nbformat": 4,
 "nbformat_minor": 5
}
