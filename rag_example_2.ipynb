{
 "cells": [
  {
   "cell_type": "code",
   "execution_count": 1,
   "id": "5e638b19-b31a-4355-92d9-2cabfaab5198",
   "metadata": {},
   "outputs": [],
   "source": [
    "# Retrieval Augmented Generation using Azure documentation\n",
    "from dotenv import dotenv_values\n",
    "from langchain_openai import ChatOpenAI\n",
    "from langchain_community.document_loaders import PyPDFLoader\n",
    "\n",
    "\n",
    "config = dotenv_values(\".env\")\n",
    "\n",
    "llm = ChatOpenAI(api_key=config[\"OPEN_AI_KEY\"])\n",
    "\n",
    "loader = PyPDFLoader(\"iotc-user-guide vs.pdf\")\n",
    "\n",
    "docs = loader.load()"
   ]
  },
  {
   "cell_type": "code",
   "execution_count": 2,
   "id": "cbc71ae0-b0a6-4c4c-b847-cd1396782e78",
   "metadata": {},
   "outputs": [],
   "source": [
    "from langchain_openai import OpenAIEmbeddings\n",
    "from langchain_community.vectorstores import FAISS\n",
    "from langchain_text_splitters import RecursiveCharacterTextSplitter\n",
    "\n",
    "embeddings = OpenAIEmbeddings(api_key=config[\"OPEN_AI_KEY\"])\n",
    "\n",
    "text_splitter = RecursiveCharacterTextSplitter()\n",
    "documents = text_splitter.split_documents(docs)\n",
    "vector = FAISS.from_documents(documents, embeddings)"
   ]
  },
  {
   "cell_type": "code",
   "execution_count": 3,
   "id": "a9477e7f-6b6f-41e6-a853-6bb838fc5111",
   "metadata": {},
   "outputs": [],
   "source": [
    "from langchain.chains.combine_documents import create_stuff_documents_chain\n",
    "from langchain_core.prompts import ChatPromptTemplate\n",
    "\n",
    "\n",
    "prompt = ChatPromptTemplate.from_template(\"\"\"Answer the following question based only on the provided context:\n",
    "\n",
    "<context>\n",
    "{context}\n",
    "</context>\n",
    "\n",
    "Question: {input}\"\"\")\n",
    "\n",
    "document_chain = create_stuff_documents_chain(llm, prompt)"
   ]
  },
  {
   "cell_type": "code",
   "execution_count": 4,
   "id": "febf81a4-e299-4cfe-8223-d8798cb3c2f9",
   "metadata": {},
   "outputs": [],
   "source": [
    "from langchain.chains import create_retrieval_chain\n",
    "\n",
    "retriever = vector.as_retriever()\n",
    "retrieval_chain = create_retrieval_chain(retriever, document_chain)"
   ]
  },
  {
   "cell_type": "code",
   "execution_count": 6,
   "id": "a9039b09-1708-4df1-9e1d-d62404aaad3a",
   "metadata": {},
   "outputs": [
    {
     "name": "stdout",
     "output_type": "stream",
     "text": [
      "INFER™ is an IoT & Edge management solution that improves an enterprise's operational excellence and cost efficiency. It on-boards, configures, manages, monitors, and secures unmanned IoT devices and objects at scale, enabling pre-registration and bulk onboarding of devices, managing alerts and notifications, troubleshooting, changing device configurations, viewing audit logs, and performing compliance management operations through over-the-air updates.\n",
      "<class 'str'>\n"
     ]
    }
   ],
   "source": [
    "response = retrieval_chain.invoke({\"input\": \"What is INFER\"})\n",
    "print(response[\"answer\"])\n",
    "print(type(response[\"answer\"]))"
   ]
  },
  {
   "cell_type": "code",
   "execution_count": 13,
   "id": "b22944c5-3762-4f01-8579-ed447919d47c",
   "metadata": {},
   "outputs": [
    {
     "name": "stdout",
     "output_type": "stream",
     "text": [
      "To set up your organization on INFER, you need to follow the steps outlined in the provided context. First, you must have the permissions associated with the Organization Administrator role. Then, you can create an organization by going to the INFER Console, navigating to Identity & Access > Organizations, and clicking CREATE. Follow the steps in the Basic Information step to enter the name of your organization, select the parent organization (if applicable), and enter a unique identifier. Finally, review the information you have entered and click SAVE to successfully create your organization.\n"
     ]
    }
   ],
   "source": [
    "response = retrieval_chain.invoke({\"input\": \"How do I set up my Organization on INFER?\"})\n",
    "print(response[\"answer\"])\n"
   ]
  },
  {
   "cell_type": "code",
   "execution_count": 14,
   "id": "cb8c4a2a-bca8-4a8c-9a8b-11ad820519ca",
   "metadata": {},
   "outputs": [
    {
     "name": "stdout",
     "output_type": "stream",
     "text": [
      "To set up an alert on INFER, you need to follow these steps:\n",
      "\n",
      "1. Click on \"OFFLINE\" to trigger device offline alerts.\n",
      "2. Enter the duration in minutes for the server to wait before triggering the alert.\n",
      "3. Enter the action that must be taken when the alert is triggered.\n",
      "4. Click \"NEXT.\"\n",
      "5. Enable notifications and select the notification to be sent when the alert is triggered.\n",
      "6. Enable commands and select the commands to be executed when the alert is triggered.\n",
      "7. Specify the parameters under \"Argument Name\" and \"Argument Value.\"\n",
      "8. Click \"DONE.\"\n",
      "9. Review the new alert definition information and click \"SAVE.\"\n"
     ]
    }
   ],
   "source": [
    "response = retrieval_chain.invoke({\"input\": \"How do I set up an alert on INFER?\"})\n",
    "print(response[\"answer\"])\n"
   ]
  },
  {
   "cell_type": "code",
   "execution_count": 15,
   "id": "643ef3b5-8ae6-4f0b-a05d-bfc21f727cb5",
   "metadata": {},
   "outputs": [
    {
     "name": "stdout",
     "output_type": "stream",
     "text": [
      "Yes, INFER supports alert notifications as explained in the provided context.\n"
     ]
    }
   ],
   "source": [
    "response = retrieval_chain.invoke({\"input\": \"Does INFER support alert notifications?\"})\n",
    "print(response[\"answer\"])\n"
   ]
  },
  {
   "cell_type": "code",
   "execution_count": null,
   "id": "8ac422c7-9295-4d1f-973c-830c054d65b8",
   "metadata": {},
   "outputs": [],
   "source": []
  }
 ],
 "metadata": {
  "kernelspec": {
   "display_name": "Python 3 (ipykernel)",
   "language": "python",
   "name": "python3"
  },
  "language_info": {
   "codemirror_mode": {
    "name": "ipython",
    "version": 3
   },
   "file_extension": ".py",
   "mimetype": "text/x-python",
   "name": "python",
   "nbconvert_exporter": "python",
   "pygments_lexer": "ipython3",
   "version": "3.12.4"
  }
 },
 "nbformat": 4,
 "nbformat_minor": 5
}
