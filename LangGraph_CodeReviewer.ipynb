{
 "cells": [
  {
   "cell_type": "code",
   "id": "f6174a51-f385-420c-9658-9aafa0b44de7",
   "metadata": {
    "ExecuteTime": {
     "end_time": "2025-03-01T16:49:56.366087Z",
     "start_time": "2025-03-01T16:49:56.050990Z"
    }
   },
   "source": [
    "from langgraph.graph import StateGraph, END\n",
    "from typing import TypedDict, Annotated, List\n",
    "import operator\n",
    "from langgraph.checkpoint.sqlite import SqliteSaver\n",
    "from langchain_core.messages import AnyMessage, SystemMessage, HumanMessage, AIMessage, ChatMessage\n",
    "from dotenv import dotenv_values\n",
    "import os\n",
    "\n",
    "memory = SqliteSaver.from_conn_string(\":memory:\")"
   ],
   "outputs": [],
   "execution_count": 1
  },
  {
   "cell_type": "code",
   "execution_count": 15,
   "id": "ec93e65f-2454-471b-ba38-8520bca44ed2",
   "metadata": {},
   "outputs": [],
   "source": [
    "config = dotenv_values(\".env\")"
   ]
  },
  {
   "cell_type": "code",
   "id": "5b895924-33e7-4e6a-987a-540126e56260",
   "metadata": {
    "ExecuteTime": {
     "end_time": "2025-02-28T09:27:35.605182Z",
     "start_time": "2025-02-28T09:27:35.538223Z"
    }
   },
   "source": [
    "class AgentState(TypedDict):\n",
    "    task: str\n",
    "    plan: str\n",
    "    draft: str\n",
    "    critique: str\n",
    "    content: List[str]\n",
    "    revision_number: int\n",
    "    max_revisions: int"
   ],
   "outputs": [
    {
     "ename": "NameError",
     "evalue": "name 'TypedDict' is not defined",
     "output_type": "error",
     "traceback": [
      "\u001B[0;31m---------------------------------------------------------------------------\u001B[0m",
      "\u001B[0;31mNameError\u001B[0m                                 Traceback (most recent call last)",
      "Cell \u001B[0;32mIn[1], line 1\u001B[0m\n\u001B[0;32m----> 1\u001B[0m \u001B[38;5;28;01mclass\u001B[39;00m\u001B[38;5;250m \u001B[39m\u001B[38;5;21;01mAgentState\u001B[39;00m(\u001B[43mTypedDict\u001B[49m):\n\u001B[1;32m      2\u001B[0m     task: \u001B[38;5;28mstr\u001B[39m\n\u001B[1;32m      3\u001B[0m     plan: \u001B[38;5;28mstr\u001B[39m\n",
      "\u001B[0;31mNameError\u001B[0m: name 'TypedDict' is not defined"
     ]
    }
   ],
   "execution_count": 1
  },
  {
   "cell_type": "code",
   "execution_count": 17,
   "id": "f357250f-3783-4d26-8d5d-1387a96d830e",
   "metadata": {},
   "outputs": [],
   "source": [
    "from langchain_openai import ChatOpenAI\n",
    "model = ChatOpenAI(model=\"gpt-3.5-turbo\", temperature=0, openai_api_key=config[\"OPEN_AI_KEY\"])"
   ]
  },
  {
   "cell_type": "code",
   "execution_count": 18,
   "id": "0925b73e-138f-4800-8d80-d28d3cc92689",
   "metadata": {},
   "outputs": [],
   "source": [
    "PLAN_PROMPT = \"\"\"You are an expert programming code reviewer tasked with writing a high level outline of a Python program. \\\n",
    "Write such an outline for the user provided topic. Give an outline of the code/program along with any relevant notes \\\n",
    "or instructions for the sections.\"\"\""
   ]
  },
  {
   "cell_type": "code",
   "execution_count": 19,
   "id": "b99c45a6-134e-46cc-bb21-bb0a168d10a2",
   "metadata": {},
   "outputs": [],
   "source": [
    "WRITER_PROMPT = \"\"\"You are a programming assistant tasked with writing excellent production-level code.\\\n",
    "Generate the best program/script/code possible for the user's request and the initial outline. \\\n",
    "If the user provides critique, respond with a revised version of your previous attempts. \\\n",
    "Utilize all the information below as needed: \n",
    "\n",
    "------\n",
    "\n",
    "{content}\"\"\""
   ]
  },
  {
   "cell_type": "code",
   "execution_count": 20,
   "id": "60c52771-0b9e-4e44-a941-b9f00202c0e7",
   "metadata": {},
   "outputs": [],
   "source": [
    "REFLECTION_PROMPT = \"\"\"You are a code reviewer grading a code/script submission. \\\n",
    "Generate critique and recommendations for the user's submission. \\\n",
    "Provide detailed recommendations, including requests for length, depth, style, etc.\"\"\""
   ]
  },
  {
   "cell_type": "code",
   "execution_count": 21,
   "id": "715a831e-c1cf-47cb-99e6-ff1aae898d5b",
   "metadata": {},
   "outputs": [],
   "source": [
    "RESEARCH_PLAN_PROMPT = \"\"\"You are a programming researcher charged with providing information that can \\\n",
    "be used when writing the following production-level code. Generate a list of search queries that will gather \\\n",
    "any relevant information. Only generate 3 queries max.\"\"\"\n"
   ]
  },
  {
   "cell_type": "code",
   "execution_count": 22,
   "id": "290bd9d8-0e0f-4f9f-9ac2-c24a18502d92",
   "metadata": {},
   "outputs": [],
   "source": [
    "RESEARCH_CRITIQUE_PROMPT = \"\"\"You are a programming researcher charged with providing information that can \\\n",
    "be used when making any requested revisions (as outlined below). \\\n",
    "Generate a list of search queries that will gather any relevant information. Only generate 3 queries max.\"\"\"\n"
   ]
  },
  {
   "cell_type": "code",
   "execution_count": 23,
   "id": "e3aba018-5f61-4b09-81d1-1dfa17da9b01",
   "metadata": {},
   "outputs": [],
   "source": [
    "from langchain_core.pydantic_v1 import BaseModel\n",
    "\n",
    "class Queries(BaseModel):\n",
    "    queries: List[str]"
   ]
  },
  {
   "cell_type": "code",
   "execution_count": 24,
   "id": "9303e6de-2948-435e-8eec-8d2e8f82f993",
   "metadata": {},
   "outputs": [],
   "source": [
    "from tavily import TavilyClient\n",
    "import os\n",
    "tavily = TavilyClient(api_key=os.environ[\"TAVILY_API_KEY\"])"
   ]
  },
  {
   "cell_type": "code",
   "execution_count": 25,
   "id": "6663f2d0-3c2f-4d59-b887-5a2704ad24c1",
   "metadata": {},
   "outputs": [],
   "source": [
    "def plan_node(state: AgentState):\n",
    "    messages = [\n",
    "        SystemMessage(content=PLAN_PROMPT), \n",
    "        HumanMessage(content=state['task'])\n",
    "    ]\n",
    "    response = model.invoke(messages)\n",
    "    return {\"plan\": response.content}"
   ]
  },
  {
   "cell_type": "code",
   "execution_count": 26,
   "id": "d541f993-46c1-49bf-b882-d08c4086cefd",
   "metadata": {},
   "outputs": [],
   "source": [
    "def research_plan_node(state: AgentState):\n",
    "    queries = model.with_structured_output(Queries).invoke([\n",
    "        SystemMessage(content=RESEARCH_PLAN_PROMPT),\n",
    "        HumanMessage(content=state['task'])\n",
    "    ])\n",
    "    content = state['content'] or []\n",
    "    for q in queries.queries:\n",
    "        response = tavily.search(query=q, max_results=2)\n",
    "        for r in response['results']:\n",
    "            content.append(r['content'])\n",
    "    return {\"content\": content}"
   ]
  },
  {
   "cell_type": "code",
   "execution_count": 27,
   "id": "2af4cb00-8b16-4bcd-9ab5-1ed6ed7e986e",
   "metadata": {},
   "outputs": [],
   "source": [
    "def generation_node(state: AgentState):\n",
    "    content = \"\\n\\n\".join(state['content'] or [])\n",
    "    user_message = HumanMessage(\n",
    "        content=f\"{state['task']}\\n\\nHere is my plan:\\n\\n{state['plan']}\")\n",
    "    messages = [\n",
    "        SystemMessage(\n",
    "            content=WRITER_PROMPT.format(content=content)\n",
    "        ),\n",
    "        user_message\n",
    "        ]\n",
    "    response = model.invoke(messages)\n",
    "    return {\n",
    "        \"draft\": response.content, \n",
    "        \"revision_number\": state.get(\"revision_number\", 1) + 1\n",
    "    }\n"
   ]
  },
  {
   "cell_type": "code",
   "execution_count": 28,
   "id": "af3c8dd1-4521-41f4-8d8a-0a087ee7000a",
   "metadata": {},
   "outputs": [],
   "source": [
    "def reflection_node(state: AgentState):\n",
    "    messages = [\n",
    "        SystemMessage(content=REFLECTION_PROMPT), \n",
    "        HumanMessage(content=state['draft'])\n",
    "    ]\n",
    "    response = model.invoke(messages)\n",
    "    return {\"critique\": response.content}"
   ]
  },
  {
   "cell_type": "code",
   "execution_count": 29,
   "id": "b61d1481-4ae6-4a30-83bd-d1736eb3b6e9",
   "metadata": {},
   "outputs": [],
   "source": [
    "def research_critique_node(state: AgentState):\n",
    "    queries = model.with_structured_output(Queries).invoke([\n",
    "        SystemMessage(content=RESEARCH_CRITIQUE_PROMPT),\n",
    "        HumanMessage(content=state['critique'])\n",
    "    ])\n",
    "    content = state['content'] or []\n",
    "    for q in queries.queries:\n",
    "        response = tavily.search(query=q, max_results=2)\n",
    "        for r in response['results']:\n",
    "            content.append(r['content'])\n",
    "    return {\"content\": content}"
   ]
  },
  {
   "cell_type": "code",
   "execution_count": 30,
   "id": "d97f1f80-2e7e-4209-a722-2a2286ff66f3",
   "metadata": {},
   "outputs": [],
   "source": [
    "def should_continue(state):\n",
    "    if state[\"revision_number\"] > state[\"max_revisions\"]:\n",
    "        return END\n",
    "    return \"reflect\""
   ]
  },
  {
   "cell_type": "code",
   "execution_count": 31,
   "id": "6f4e0b72-65ce-4983-8f31-f9ffe7569f1d",
   "metadata": {},
   "outputs": [],
   "source": [
    "builder = StateGraph(AgentState)"
   ]
  },
  {
   "cell_type": "code",
   "execution_count": 32,
   "id": "f6b0eb14-aba2-45da-afaf-6c19cae8ad40",
   "metadata": {},
   "outputs": [],
   "source": [
    "builder.add_node(\"planner\", plan_node)\n",
    "builder.add_node(\"generate\", generation_node)\n",
    "builder.add_node(\"reflect\", reflection_node)\n",
    "builder.add_node(\"research_plan\", research_plan_node)\n",
    "builder.add_node(\"research_critique\", research_critique_node)"
   ]
  },
  {
   "cell_type": "code",
   "execution_count": 33,
   "id": "609fff9e-9156-49dd-9a85-4d87c904a419",
   "metadata": {},
   "outputs": [],
   "source": [
    "builder.set_entry_point(\"planner\")"
   ]
  },
  {
   "cell_type": "code",
   "execution_count": 34,
   "id": "aa6e2873-66fc-4303-acc6-3b8eb62fe068",
   "metadata": {},
   "outputs": [],
   "source": [
    "builder.add_conditional_edges(\n",
    "    \"generate\", \n",
    "    should_continue, \n",
    "    {END: END, \"reflect\": \"reflect\"}\n",
    ")\n"
   ]
  },
  {
   "cell_type": "code",
   "execution_count": 35,
   "id": "aa3e8990-cd6a-45c2-9f0f-0abd1e7575a7",
   "metadata": {},
   "outputs": [],
   "source": [
    "builder.add_edge(\"planner\", \"research_plan\")\n",
    "builder.add_edge(\"research_plan\", \"generate\")\n",
    "\n",
    "builder.add_edge(\"reflect\", \"research_critique\")\n",
    "builder.add_edge(\"research_critique\", \"generate\")"
   ]
  },
  {
   "cell_type": "code",
   "execution_count": 36,
   "id": "d1782cfe-11d6-4f40-a11b-b860e518356f",
   "metadata": {},
   "outputs": [],
   "source": [
    "graph = builder.compile(checkpointer=memory)"
   ]
  },
  {
   "cell_type": "code",
   "execution_count": 37,
   "id": "4dfb6e78-17aa-4c1f-839a-6666d58b800c",
   "metadata": {},
   "outputs": [],
   "source": [
    "task = \"\"\"\n",
    "Our team needs to update the managed attributes of an entity on Azure Purview using the Purview APIs. Please provide the outline of we can go about in using the APIs along with the actual code.\n",
    "\"\"\""
   ]
  },
  {
   "cell_type": "code",
   "execution_count": 38,
   "id": "efc8172a-f668-4c3c-99a3-55793e5c216f",
   "metadata": {},
   "outputs": [
    {
     "name": "stdout",
     "output_type": "stream",
     "text": [
      "{'planner': {'plan': '**Outline of Python Program to Update Managed Attributes on Azure Purview using Purview APIs:**\\n\\n1. **Import necessary libraries:**\\n   - Import requests library for making HTTP requests to Purview APIs.\\n\\n2. **Set up authentication:**\\n   - Obtain Azure AD token for authentication.\\n   - Set headers with the token for API requests.\\n\\n3. **Define the API endpoint for updating managed attributes:**\\n   - Construct the URL for the specific entity\\'s managed attributes.\\n\\n4. **Prepare the data for updating managed attributes:**\\n   - Define the new managed attributes data in a dictionary format.\\n\\n5. **Make a PUT request to update managed attributes:**\\n   - Use the requests library to send a PUT request to the API endpoint with the updated managed attributes data.\\n   - Handle the response from the API.\\n\\n6. **Handle errors and exceptions:**\\n   - Implement error handling to manage any issues with the API request or response.\\n\\n7. **Complete the program with necessary cleanup and finalization steps.**\\n\\n**Code Implementation:**\\n\\n```python\\nimport requests\\n\\n# Set up authentication\\n# Obtain Azure AD token and set headers\\n\\n# Define API endpoint for updating managed attributes\\nentity_id = \"your_entity_id\"\\nurl = f\"https://<your_purview_account>.purview.azure.com/api/atlas/v2/entity/{entity_id}/attributes\"\\n\\n# Prepare data for updating managed attributes\\nnew_managed_attributes = {\\n    \"attribute1\": \"value1\",\\n    \"attribute2\": \"value2\"\\n}\\n\\n# Make a PUT request to update managed attributes\\nresponse = requests.put(url, json=new_managed_attributes, headers=headers)\\n\\n# Handle response\\nif response.status_code == 200:\\n    print(\"Managed attributes updated successfully.\")\\nelse:\\n    print(f\"Failed to update managed attributes. Status code: {response.status_code}\")\\n\\n# Handle errors and exceptions\\n# Implement error handling as needed\\n```\\n\\n**Notes:**\\n- Replace `<your_purview_account>` with your actual Azure Purview account name.\\n- Ensure you have the necessary permissions and access to update managed attributes on Azure Purview.\\n- Customize the `entity_id` and `new_managed_attributes` data according to your specific requirements.\\n- Implement appropriate error handling and logging for a robust program.'}}\n",
      "{'research_plan': {'content': [\"Managed attribute: A set of user-defined attributes that provide a business or organization level context to an asset. A managed attribute has a name and a value. For example, 'Department' is an attribute name and 'Finance' is its value. Attribute group: A grouping of managed attributes that allow for easier organization and consumption.\", 'Microsoft Purview Microsoft Purview is a unified data governance service that helps you manage and govern your on-premises, multi-cloud, and software-as-a-service (SaaS) data. Easily create a holistic, up-to-date map of your data landscape with automated data discovery, sensitive data classification, and end-to-end data lineage. Empower data ...', 'Jul 17, 2023 · 1 answer · Create your managed attribute in Purview if you have not already: Microsoft Purview -> Data map -> Managed Attributes -> create\\xa0...', 'Jun 25, 2024 · Code sample library for Microsoft developer tools and technologies ... Create managed attributes using APIs. Managed attributes can be\\xa0...Terminology · Create managed attributes', 'Top products Featured Solutions Featured Insights Popular topics How businesses can responsibly use AI and address ethical and security challenges April 3, 2024 · 5 minute read April 3, 2024 · 5 minute read Addressing ethical and security concerns in AI usage, emphasizing transparency, accountability, and responsible governance frameworks.  Worries over caseloads and backlogs recede as GenAI enters the chat March 7, 2024 · 5 minute read More answers Want to improve your law firm’s quality of work? September 14, 2023 · 5 minute read Top 10 ways to manage outside law firms effectively January 4, 2024 · 6 minute read How to expand your legal practice areas by addressing key challenges May 30, 2023 · 5 minute read In today’s digital world, risk and fraud detection is even more important than ever before Related posts Creating new advisory service and pricing models with AI March 25, 2024 · 5 minute read Secure AI for your legal department March 12, 2024 · 6 minute read State of the Courts Report 2024: Charting a path forward with AI adoption in compliance: Reducing uncertainty and embracing change Industry experts discuss the best examples of AI being used for compliance, the key risks, what this means for compliance analysts, and how leaders can make themselves and regulators comfortable with putting AI to use.  Given the private and confidential nature of the information that professionals are working with, we believe that developing internal AI regulations and governance at the firm level is critical to establishing trust, accountability, and transparency around the consent and privacy of client information.', \"Team Cymru Pure Signal Recon Privileged Access Management Checklist A Short Primer on Container Scanning The Cloud Threat Landscape: Security learnings from analyzing 500+ cloud environments Application Security's New Mandate in a DevOps World How Enterprises Secure Their Applications Use the 2023 MITRE ATT&CK Evaluation Results for Turla to Inform EDR Buying Decisions Black Hat USA - August 3-8 - Learn More Cybersecurity's Hottest New Technologies: What You Need To Know Copyright © 2024 Informa PLC Informa UK Limited is a company registered in England and Wales with company number 1072954 whose registered office is 5 Howick Place, London, SW1P 1WG. Where and Why Threat Intelligence Makes Sense for Your Enterprise Security Strategy Safeguarding Political Campaigns: Defending Against Mass Phishing Attacks Why Effective Asset Management is Critical to Enterprise Cybersecurity Black Hat USA - August 3-8 - Learn More Cybersecurity's Hottest New Technologies: What You Need To Know Editor's Choice Industrial Networks in the Age of Digitalization Zero-Trust Adoption Driven by Data Protection How Enterprises Assess Their Cyber-Risk Forrester Total Economic Impact Study: The most common runtime problems — or active threats — that organizations typically encounter include unauthenticated attempts to access sensitive API resources; API activity with unusual JSON payloads, like unexpected data types; unexpected or malformed data as part of API requests; and data scraping attempts.  Application and security teams need to find such APIs and ensure each one is either documented or decommissioned to mitigate the significant risk they present, says Rupesh Chokshi, senior vice president, application security at Akamai.  Shadow APIs: An Overlooked Cyber-Risk for Orgs Unmanaged and unknown Web services endpoints are just some of the challenges organizations must address to improve API security. \"]}}\n",
      "{'generate': {'draft': 'Your outline and code implementation plan to update managed attributes on Azure Purview using Purview APIs are well-structured and detailed. Here is the revised version of the code with some enhancements:\\n\\n```python\\nimport requests\\n\\n# Set up authentication\\n# Obtain Azure AD token and set headers\\n# Example code for obtaining Azure AD token:\\n# token = \"<your_access_token>\"\\nheaders = {\\n    \"Authorization\": f\"Bearer {token}\",\\n    \"Content-Type\": \"application/json\"\\n}\\n\\n# Define API endpoint for updating managed attributes\\nentity_id = \"your_entity_id\"\\nurl = f\"https://<your_purview_account>.purview.azure.com/api/atlas/v2/entity/{entity_id}/attributes\"\\n\\n# Prepare data for updating managed attributes\\nnew_managed_attributes = {\\n    \"attribute1\": \"value1\",\\n    \"attribute2\": \"value2\"\\n}\\n\\n# Make a PUT request to update managed attributes\\ntry:\\n    response = requests.put(url, json=new_managed_attributes, headers=headers)\\n    response.raise_for_status()  # Raise an exception for 4xx and 5xx status codes\\n    print(\"Managed attributes updated successfully.\")\\nexcept requests.exceptions.HTTPError as err:\\n    print(f\"Failed to update managed attributes. Error: {err}\")\\nexcept requests.exceptions.RequestException as e:\\n    print(f\"An error occurred: {e}\")\\n\\n# Implement appropriate error handling and logging for a robust program.\\n```\\n\\nIn this revised version, I added error handling using `try-except` blocks to catch different types of exceptions that might occur during the API request. I also included the `raise_for_status()` method to raise an exception for 4xx and 5xx status codes, providing more detailed error information.\\n\\nPlease ensure to replace `<your_access_token>`, `<your_purview_account>`, `your_entity_id`, and the `new_managed_attributes` data with your actual values before running the code.', 'revision_number': 2}}\n",
      "{'reflect': {'critique': \"### Code Review and Recommendations:\\n\\n1. **Error Handling:**\\n   - The addition of `try-except` blocks for handling exceptions is a good practice. It helps in gracefully managing errors that may occur during the API request.\\n   - Ensure to handle specific exceptions separately to provide more detailed error messages and appropriate actions based on the type of exception.\\n\\n2. **HTTP Status Code Handling:**\\n   - Using `response.raise_for_status()` is a good approach to raise exceptions for 4xx and 5xx status codes. It helps in identifying and handling errors returned by the API more effectively.\\n\\n3. **Security:**\\n   - Ensure that sensitive information like access tokens (`<your_access_token>`) is securely handled. Avoid hardcoding tokens directly in the code. Consider using environment variables or secure storage mechanisms.\\n\\n4. **Code Comments:**\\n   - Add comments to explain the purpose of each section of the code, especially for complex logic or configurations. This will help in understanding the code's functionality for future reference or by other developers.\\n\\n5. **Input Validation:**\\n   - Validate the input data such as `entity_id` and `new_managed_attributes` to ensure they are in the correct format before making the API request. This can prevent unexpected errors due to invalid data.\\n\\n6. **Logging:**\\n   - Consider adding logging statements to track the execution flow, errors, and responses from the API. Logging can help in debugging and monitoring the application's behavior.\\n\\n7. **Code Structure:**\\n   - Consider organizing the code into functions or classes to improve modularity and reusability. This can make the code more maintainable and easier to extend in the future.\\n\\n8. **Documentation:**\\n   - Provide detailed documentation on how to use the script, including prerequisites, input parameters, and expected output. This will help users understand and utilize the script effectively.\\n\\n9. **Testing:**\\n   - Test the script with different scenarios, including valid and invalid input data, network failures, and API errors, to ensure robustness and reliability.\\n\\n10. **Optimization:**\\n    - Consider optimizing the code for performance by implementing caching mechanisms for repeated API calls or optimizing the data processing logic if needed.\\n\\n11. **Code Formatting:**\\n    - Ensure consistent code formatting following PEP 8 guidelines for better readability and maintainability.\\n\\n12. **Version Control:**\\n    - Use version control systems like Git to track changes, collaborate with others, and maintain a history of the codebase.\\n\\nOverall, the enhancements made to the code for updating managed attributes on Azure Purview are commendable. By addressing the recommendations provided, you can further improve the script's quality, reliability, and maintainability.\"}}\n",
      "{'research_critique': {'content': [\"Managed attribute: A set of user-defined attributes that provide a business or organization level context to an asset. A managed attribute has a name and a value. For example, 'Department' is an attribute name and 'Finance' is its value. Attribute group: A grouping of managed attributes that allow for easier organization and consumption.\", 'Microsoft Purview Microsoft Purview is a unified data governance service that helps you manage and govern your on-premises, multi-cloud, and software-as-a-service (SaaS) data. Easily create a holistic, up-to-date map of your data landscape with automated data discovery, sensitive data classification, and end-to-end data lineage. Empower data ...', 'Jul 17, 2023 · 1 answer · Create your managed attribute in Purview if you have not already: Microsoft Purview -> Data map -> Managed Attributes -> create\\xa0...', 'Jun 25, 2024 · Code sample library for Microsoft developer tools and technologies ... Create managed attributes using APIs. Managed attributes can be\\xa0...Terminology · Create managed attributes', 'Top products Featured Solutions Featured Insights Popular topics How businesses can responsibly use AI and address ethical and security challenges April 3, 2024 · 5 minute read April 3, 2024 · 5 minute read Addressing ethical and security concerns in AI usage, emphasizing transparency, accountability, and responsible governance frameworks.  Worries over caseloads and backlogs recede as GenAI enters the chat March 7, 2024 · 5 minute read More answers Want to improve your law firm’s quality of work? September 14, 2023 · 5 minute read Top 10 ways to manage outside law firms effectively January 4, 2024 · 6 minute read How to expand your legal practice areas by addressing key challenges May 30, 2023 · 5 minute read In today’s digital world, risk and fraud detection is even more important than ever before Related posts Creating new advisory service and pricing models with AI March 25, 2024 · 5 minute read Secure AI for your legal department March 12, 2024 · 6 minute read State of the Courts Report 2024: Charting a path forward with AI adoption in compliance: Reducing uncertainty and embracing change Industry experts discuss the best examples of AI being used for compliance, the key risks, what this means for compliance analysts, and how leaders can make themselves and regulators comfortable with putting AI to use.  Given the private and confidential nature of the information that professionals are working with, we believe that developing internal AI regulations and governance at the firm level is critical to establishing trust, accountability, and transparency around the consent and privacy of client information.', \"Team Cymru Pure Signal Recon Privileged Access Management Checklist A Short Primer on Container Scanning The Cloud Threat Landscape: Security learnings from analyzing 500+ cloud environments Application Security's New Mandate in a DevOps World How Enterprises Secure Their Applications Use the 2023 MITRE ATT&CK Evaluation Results for Turla to Inform EDR Buying Decisions Black Hat USA - August 3-8 - Learn More Cybersecurity's Hottest New Technologies: What You Need To Know Copyright © 2024 Informa PLC Informa UK Limited is a company registered in England and Wales with company number 1072954 whose registered office is 5 Howick Place, London, SW1P 1WG. Where and Why Threat Intelligence Makes Sense for Your Enterprise Security Strategy Safeguarding Political Campaigns: Defending Against Mass Phishing Attacks Why Effective Asset Management is Critical to Enterprise Cybersecurity Black Hat USA - August 3-8 - Learn More Cybersecurity's Hottest New Technologies: What You Need To Know Editor's Choice Industrial Networks in the Age of Digitalization Zero-Trust Adoption Driven by Data Protection How Enterprises Assess Their Cyber-Risk Forrester Total Economic Impact Study: The most common runtime problems — or active threats — that organizations typically encounter include unauthenticated attempts to access sensitive API resources; API activity with unusual JSON payloads, like unexpected data types; unexpected or malformed data as part of API requests; and data scraping attempts.  Application and security teams need to find such APIs and ensure each one is either documented or decommissioned to mitigate the significant risk they present, says Rupesh Chokshi, senior vice president, application security at Akamai.  Shadow APIs: An Overlooked Cyber-Risk for Orgs Unmanaged and unknown Web services endpoints are just some of the challenges organizations must address to improve API security. \", 'To be clear, here’s an example of how to catch and print an exception:\\nIf you’d like to print the call stack, just like Python does when you don’t catch the exception yourself, you can import the traceback module:\\nKeep learning\\nHere are some more resources to deepen your knowledge:\\nGet certified with our courses\\nLearn Python properly through small, easy-to-digest lessons, progress tracking, quizzes to test your knowledge, and practice sessions. If you removed the try.. except from the code completely and then try to write to the file in read-only mode, Python will catch the error, force the program to terminate, and show this message:\\nThe finally and else blocks\\nRemember the other two blocks that I asked you to forget for a while? If we do so anyway, Python will throw and exception called ZeroDivisionError, which is a subclass of ArithmeticError:\\nIf you call a Python function inside the try block, and an exception occurs in that function, the flow of code execution stops at the point of the exception and the code in the except block is executed. It can be in function C (closest to the exception), in function B (somewhat farther), in function A, or even at the top level of the program where we called function A.\\nIf Python finds a suitable except block, it executes the code in that block. You will still catch almost all exceptions, but the program will exit on system exceptions like KeyboardInterrupt and SystemExit:\\nIt’s better to ask for forgiveness\\nIn Python, you’ll often see a pattern where people simply try if something works, and if it doesn’t, catch the exception.', \"Exception handling in Python is about dealing with errors in your code. The best way to handle exceptions often depends on what you want to achieve. Anyway, here's a TL;DR of what we went through: Pattern 1 (good default): Re-raises the same exception with its original traceback.\", 'Sign up or log in\\nPost as a guest\\nRequired, but never shown\\nPost as a guest\\nRequired, but never shown\\nBy clicking â€œPost Your Answerâ€�, you agree to our terms of service and acknowledge you have read our privacy policy.\\n You can find more on the steps from the conda documetation\\nUse the OS module\\nIf you have more than one set of environment variables, you might consider using decouple\\nIf you\\'re using AWS, you\\'ll want to store the (what would be third party) keys in their own area with its own IAM. API_KEY_SERVICE = \"ABC123ABC\"\\nMain.py:\\n4 Answers\\n4\\nWhat you are attempting is the correct way to segregate sensitive information from code. For .gitignore, refer: https://git-scm.com/docs/gitignore\\nThere are a few options:\\nStore it locally as you have and, as Sebastin Santy noted, add constants.py to your .gitignore file.\\n current community\\nyour communities\\nmore stack exchange communities\\nFind centralized, trusted content and collaborate around the technologies you use most.\\n', 'Dec 6, 2023 — Dec 6, 2023API tokens are critical for securing web APIs. Learn how to obtain and use tokens for authenticated API calls in Python, and troubleshoot\\xa0...', 'Related: Applying AI to API Security Related: API Flaw in QuickBlox Framework Exposed PII of Millions of Users Related: JumpCloud Says All API Keys Invalidated to Protect Customers Related: 10 Steps to Help Secure Your APIs Related: Applying AI to API Security Related: API Flaw in QuickBlox Framework Exposed PII of Millions of Users Related: JumpCloud Says All API Keys Invalidated to Protect Customers Related: 10 Steps to Help Secure Your APIs Related: API Flaw in QuickBlox Framework Exposed PII of Millions of Users Related: JumpCloud Says All API Keys Invalidated to Protect Customers Related: 10 Steps to Help Secure Your APIs Related: JumpCloud Says All API Keys Invalidated to Protect Customers Related: 10 Steps to Help Secure Your APIs Related: 10 Steps to Help Secure Your APIs Kevin Townsend is a Senior Contributor at SecurityWeek. Related: Applying AI to API Security Related: API Flaw in QuickBlox Framework Exposed PII of Millions of Users Related: JumpCloud Says All API Keys Invalidated to Protect Customers Related: 10 Steps to Help Secure Your APIs Is ‘security by design’ a solution for API security? “Security by Design as a concept is the most effective way to limit API vulnerabilities as it is akin to laying a strong foundation instead of retrospectively doing patchwork later on to plug the gaps,” claims Sandhu. Application Security What Sort of Testing Do My Applications Need? Application Security VMware Patches VM Escape Flaw Exploited at Geekpwn Event Virtualization technology giant VMware on Tuesday shipped urgent updates to fix a trio of security problems in multiple software products, including a virtual machine... Application Security Fortinet Ships Emergency Patch for Already-Exploited VPN Flaw Fortinet on Monday issued an emergency patch to cover a severe vulnerability in its FortiOS SSL-VPN product, warning that hackers have already exploited the... Application Security GitHub Revokes Code Signing Certificates Following Cyberattack GitHub this week announced the revocation of three certificates used for the GitHub Desktop and Atom applications.  Related: Applying AI to API Security Related: API Flaw in QuickBlox Framework Exposed PII of Millions of Users Related: JumpCloud Says All API Keys Invalidated to Protect Customers Related: 10 Steps to Help Secure Your APIs “New vulnerabilities in APIs will likely continue to emerge due to evolving API threats, expanding attack surfaces of cloud-native applications, and the rapid usage of AI playgrounds creating Enterprise AI assistants,” suggests Dooley.  “As technology has advanced and we’ve seen this explosion in API use, we’ve also seen the creation of new and rapidly growing threats to organizations across the globe as malicious actors see the opportunity with APIs.” New vulnerabilities and new compromises APIs are the lifeblood of e-commerce and an interactive internet, allowing users and processes to communicate with corporate web applications.', \"Why You're Wrong About Operationalizing AI Application Security's New Mandate in a DevOps World Understanding Today's Threat Actors A Solution Guide to Operational Technology Cybersecurity Demystifying Zero Trust in OT Causes and Consequences of IT and OT Convergence Black Hat USA - August 3-8 - Learn More Cybersecurity's Hottest New Technologies: What You Need To Know Copyright © 2024 Informa PLC Informa UK Limited is a company registered in England and Wales with company number 1072954 whose registered office is 5 Howick Place, London, SW1P 1WG. You May Also Like The fuel in the new AI race: Data Securing Code in the Age of AI Beyond Spam Filters and Firewalls: Preventing Business Email Compromises in the Modern Enterprise Key Findings from the State of AppSec Report 2024 Is AI Identifying Threats to Your Network?  Authenticating Training and Models to Prevent Poisoning and Misuse With more machines talking to each other than ever before, there must be training and authentication of the way that identities will be used to send information and data from one machine to another. If the right tools are in place to authenticate the inputs and models, as well as the models' actions, companies will be better equipped to leverage the AI kill-switch idea and prevent further destruction. Black Hat USA - August 3-8 - Learn More Cybersecurity's Hottest New Technologies: What You Need To Know Editor's Choice Industrial Networks in the Age of Digitalization Zero-Trust Adoption Driven by Data Protection How Enterprises Assess Their Cyber-Risk State of ITSM in Manufacturing \"]}}\n",
      "{'generate': {'draft': 'Your outline and code structure for updating managed attributes on Azure Purview using Purview APIs are well-organized and detailed. Here is the revised code implementation with some enhancements:\\n\\n```python\\nimport requests\\n\\n# Set up authentication\\n# Obtain Azure AD token and set headers\\ntoken = \"your_Azure_AD_token\"\\nheaders = {\"Authorization\": f\"Bearer {token}\", \"Content-Type\": \"application/json\"}\\n\\n# Define API endpoint for updating managed attributes\\nentity_id = \"your_entity_id\"\\nurl = f\"https://<your_purview_account>.purview.azure.com/api/atlas/v2/entity/{entity_id}/attributes\"\\n\\n# Prepare data for updating managed attributes\\nnew_managed_attributes = {\\n    \"attribute1\": \"value1\",\\n    \"attribute2\": \"value2\"\\n}\\n\\n# Make a PUT request to update managed attributes\\ntry:\\n    response = requests.put(url, json=new_managed_attributes, headers=headers)\\n    response.raise_for_status()  # Raise an exception for 4xx or 5xx status codes\\n    print(\"Managed attributes updated successfully.\")\\nexcept requests.exceptions.RequestException as e:\\n    print(f\"Failed to update managed attributes. Error: {e}\")\\n\\n# Handle errors and exceptions\\n# Implement error handling as needed\\n```\\n\\n**Enhancements:**\\n1. Added the actual Azure AD token in the headers for authentication.\\n2. Included a `try-except` block to catch and handle exceptions more effectively.\\n3. Used `response.raise_for_status()` to raise an exception for 4xx or 5xx status codes.\\n4. Provided a more informative error message in case of a failure.\\n\\nFeel free to test this revised code and let me know if you need further modifications or assistance.', 'revision_number': 3}}\n"
     ]
    }
   ],
   "source": [
    "thread = {\"configurable\": {\"thread_id\": \"1\"}}\n",
    "for s in graph.stream({\n",
    "    'task': task,\n",
    "    \"max_revisions\": 2,\n",
    "    \"revision_number\": 1,\n",
    "}, thread):\n",
    "    print(s)"
   ]
  },
  {
   "cell_type": "code",
   "execution_count": null,
   "id": "8377de99-03b0-402d-9655-b12055faec42",
   "metadata": {},
   "outputs": [],
   "source": []
  }
 ],
 "metadata": {
  "kernelspec": {
   "display_name": "Python 3 (ipykernel)",
   "language": "python",
   "name": "python3"
  },
  "language_info": {
   "codemirror_mode": {
    "name": "ipython",
    "version": 3
   },
   "file_extension": ".py",
   "mimetype": "text/x-python",
   "name": "python",
   "nbconvert_exporter": "python",
   "pygments_lexer": "ipython3",
   "version": "3.12.4"
  }
 },
 "nbformat": 4,
 "nbformat_minor": 5
}
