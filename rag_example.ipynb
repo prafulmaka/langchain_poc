{
 "cells": [
  {
   "cell_type": "code",
   "execution_count": 11,
   "metadata": {},
   "outputs": [],
   "source": [
    "# Retrieval Augmented Generation using Azure documentation\n",
    "from dotenv import dotenv_values\n",
    "from langchain_openai import ChatOpenAI\n",
    "\n",
    "\n",
    "config = dotenv_values(\".env\")\n",
    "\n",
    "llm = ChatOpenAI(api_key=config[\"OPEN_AI_KEY\"])\n",
    "\n",
    "from langchain_community.document_loaders import WebBaseLoader\n",
    "loader = WebBaseLoader(\"https://learn.microsoft.com/en-us/rest/api/azure/\")\n",
    "\n",
    "docs = loader.load()"
   ]
  },
  {
   "cell_type": "code",
   "execution_count": 12,
   "metadata": {
    "collapsed": false,
    "jupyter": {
     "outputs_hidden": false
    },
    "pycharm": {
     "name": "#%%\n"
    }
   },
   "outputs": [],
   "source": [
    "from langchain_openai import OpenAIEmbeddings\n",
    "from langchain_community.vectorstores import FAISS\n",
    "from langchain_text_splitters import RecursiveCharacterTextSplitter\n",
    "\n",
    "embeddings = OpenAIEmbeddings(api_key=config[\"OPEN_AI_KEY\"])\n",
    "\n",
    "text_splitter = RecursiveCharacterTextSplitter()\n",
    "documents = text_splitter.split_documents(docs)\n",
    "vector = FAISS.from_documents(documents, embeddings)"
   ]
  },
  {
   "cell_type": "code",
   "execution_count": 13,
   "metadata": {},
   "outputs": [],
   "source": [
    "from langchain.chains.combine_documents import create_stuff_documents_chain\n",
    "from langchain_core.prompts import ChatPromptTemplate\n",
    "\n",
    "\n",
    "prompt = ChatPromptTemplate.from_template(\"\"\"Answer the following question based only on the provided context:\n",
    "\n",
    "<context>\n",
    "{context}\n",
    "</context>\n",
    "\n",
    "Question: {input}\"\"\")\n",
    "\n",
    "document_chain = create_stuff_documents_chain(llm, prompt)"
   ]
  },
  {
   "cell_type": "code",
   "execution_count": 14,
   "metadata": {},
   "outputs": [],
   "source": [
    "from langchain.chains import create_retrieval_chain\n",
    "\n",
    "retriever = vector.as_retriever()\n",
    "retrieval_chain = create_retrieval_chain(retriever, document_chain)"
   ]
  },
  {
   "cell_type": "code",
   "execution_count": 15,
   "metadata": {},
   "outputs": [
    {
     "name": "stdout",
     "output_type": "stream",
     "text": [
      "To register your client application with Microsoft Entra ID, you need to follow these steps:\n",
      "\n",
      "1. Make sure you have a Microsoft Entra tenant. If you don't have one, you can set up a Microsoft Entra tenant.\n",
      "\n",
      "2. Understand the two types of clients supported by Microsoft Entra ID: web/confidential clients and native/public clients.\n",
      "\n",
      "3. Register your client application with Microsoft Entra ID by creating an application object and a service principal object in the Microsoft Entra tenant where the application is registered.\n",
      "\n",
      "4. Set permission requests to allow the client to access the Azure Resource Manager API and configure Azure Resource Manager Role-Based Access Control (RBAC) settings for authorizing the client.\n",
      "\n",
      "5. If your client accesses an API other than an Azure Resource Manager API, refer to the specific documentation for registering applications with the Microsoft identity platform.\n",
      "\n",
      "6. Consider creating a secret key if you are registering a web client.\n",
      "\n",
      "7. Configure your application to expose a web API and add permissions to your web API, exposing them as scopes.\n",
      "\n",
      "8. Once you have completed the registration of your client application, you can move on to creating the REST request and handling the response.\n"
     ]
    }
   ],
   "source": [
    "response = retrieval_chain.invoke({\"input\": \"HOW DO I REGISTER MY CLIENT APPLICATION WITH MICROSOFT ENTRA ID?\"})\n",
    "print(response[\"answer\"])\n"
   ]
  },
  {
   "cell_type": "code",
   "execution_count": null,
   "metadata": {},
   "outputs": [],
   "source": []
  }
 ],
 "metadata": {
  "kernelspec": {
   "display_name": "Python 3 (ipykernel)",
   "language": "python",
   "name": "python3"
  },
  "language_info": {
   "codemirror_mode": {
    "name": "ipython",
    "version": 3
   },
   "file_extension": ".py",
   "mimetype": "text/x-python",
   "name": "python",
   "nbconvert_exporter": "python",
   "pygments_lexer": "ipython3",
   "version": "3.9.7"
  }
 },
 "nbformat": 4,
 "nbformat_minor": 4
}