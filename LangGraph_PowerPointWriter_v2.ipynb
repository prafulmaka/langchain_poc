{
 "cells": [
  {
   "cell_type": "code",
   "id": "f6174a51-f385-420c-9658-9aafa0b44de7",
   "metadata": {
    "ExecuteTime": {
     "end_time": "2025-03-11T06:02:36.649940Z",
     "start_time": "2025-03-11T06:02:35.663809Z"
    }
   },
   "source": [
    "from langgraph.graph import StateGraph, END\n",
    "from typing import TypedDict, Annotated, List\n",
    "import operator\n",
    "from langgraph.checkpoint.sqlite import SqliteSaver\n",
    "from langchain_core.messages import AnyMessage, SystemMessage, HumanMessage, AIMessage, ChatMessage\n",
    "from dotenv import dotenv_values\n",
    "from langgraph.checkpoint.memory import MemorySaver\n",
    "import json\n",
    "from langgraph.types import Command, interrupt\n",
    "from langchain_core.tools import tool\n",
    "from langgraph.prebuilt import ToolNode, tools_condition\n",
    "from pptx import Presentation\n",
    "from pptx.util import Inches, Pt\n",
    "\n",
    "\n",
    "memory = MemorySaver()"
   ],
   "outputs": [],
   "execution_count": 1
  },
  {
   "cell_type": "code",
   "execution_count": 2,
   "id": "ec93e65f-2454-471b-ba38-8520bca44ed2",
   "metadata": {},
   "outputs": [],
   "source": [
    "config = dotenv_values(\".env\")"
   ]
  },
  {
   "cell_type": "code",
   "execution_count": 3,
   "id": "5b895924-33e7-4e6a-987a-540126e56260",
   "metadata": {
    "ExecuteTime": {
     "end_time": "2025-02-22T19:35:03.335294Z",
     "start_time": "2025-02-22T19:35:03.058974Z"
    }
   },
   "outputs": [],
   "source": [
    "class AgentState(TypedDict):\n",
    "    task: str\n",
    "    plan: str\n",
    "    stop: str\n",
    "    ppt_status: str"
   ]
  },
  {
   "cell_type": "code",
   "execution_count": 4,
   "id": "f357250f-3783-4d26-8d5d-1387a96d830e",
   "metadata": {},
   "outputs": [],
   "source": [
    "from langchain_openai import ChatOpenAI\n",
    "model = ChatOpenAI(model=\"gpt-3.5-turbo\", temperature=0, openai_api_key=config[\"OPEN_AI_KEY\"],\n",
    "                  model_kwargs={\"response_format\": {\"type\": \"json_object\"}})"
   ]
  },
  {
   "cell_type": "code",
   "execution_count": 5,
   "id": "0925b73e-138f-4800-8d80-d28d3cc92689",
   "metadata": {},
   "outputs": [],
   "source": [
    "PLAN_PROMPT = \"\"\"You are an expert Microsoft PowerPoint writer tasked with writing a high level outline for a successful business presentation. \\\n",
    "Write such an outline for the user provided topic. Give an outline of the PowerPoint along with any relevant notes \\\n",
    "or instructions for the sections. The output should be in JSON format with key named 'title' and 'content'.\"\"\""
   ]
  },
  {
   "cell_type": "code",
   "execution_count": 6,
   "id": "6663f2d0-3c2f-4d59-b887-5a2704ad24c1",
   "metadata": {},
   "outputs": [],
   "source": [
    "def plan_node(state: AgentState):\n",
    "    messages = [\n",
    "        SystemMessage(content=PLAN_PROMPT), \n",
    "        HumanMessage(content=state['task'])\n",
    "    ]\n",
    "    response = model.invoke(messages)\n",
    "    return {\"plan\": response.content}"
   ]
  },
  {
   "cell_type": "code",
   "execution_count": 7,
   "id": "f3226eac-49a8-43b1-a38b-c80da7fe0a4f",
   "metadata": {},
   "outputs": [],
   "source": [
    "def powerpoint_node(state: AgentState):\n",
    "    print(\"IN POWERPOINT NODE\")\n",
    "\n",
    "    data = json.loads(state[\"plan\"])\n",
    "    print(data)\n",
    "\n",
    "    prs = Presentation()\n",
    "    title_slide_layout = prs.slide_layouts[5]\n",
    "    slide = prs.slides.add_slide(title_slide_layout)\n",
    "    \n",
    "    title = slide.shapes.title\n",
    "    title.text = str(data[\"title\"])\n",
    "    \n",
    "    left = top = width = height = Inches(1)\n",
    "    txBox = slide.shapes.add_textbox(left, top, width, height)\n",
    "    tf = txBox.text_frame\n",
    "    \n",
    "    tf.text = str(data[\"content\"])\n",
    "    \n",
    "    # p = tf.add_paragraph()\n",
    "    # p.text = \"This is a second paragraph\"\n",
    "    \n",
    "    # p = tf.add_paragraph()\n",
    "    # p.text = \"This is a third paragraph\"\n",
    "    \n",
    "    prs.save('test.pptx')\n",
    "\n",
    "    return {\"ppt_status\": \"Complete\"}"
   ]
  },
  {
   "cell_type": "code",
   "execution_count": 8,
   "id": "ab0cf17a-b7c6-4f3c-b059-6de39e89b131",
   "metadata": {},
   "outputs": [],
   "source": [
    "def human_assistance(state: AgentState):\n",
    "    \"\"\"\n",
    "    Request assistance from a human to confirm if the plan or draft meets standards before creating a PowerPoint Presentation through the powerpoint node.\n",
    "    \n",
    "    \"\"\"\n",
    "    \n",
    "    human_response = interrupt(\"Please provide feedback\")\n",
    "\n",
    "    if human_response.strip().lower() == \"stop\":\n",
    "        return {\"stop\": True}\n",
    "\n",
    "    if human_response.strip().lower() == \"continue\":\n",
    "        return {\"stop\": False}\n",
    "        \n",
    "    return {\"feedback\": human_response}"
   ]
  },
  {
   "cell_type": "code",
   "execution_count": 9,
   "id": "ca560888-8257-44c3-8e0e-d6ca8c11155a",
   "metadata": {},
   "outputs": [],
   "source": [
    "def should_continue(state: AgentState):\n",
    "    if state[\"stop\"] == True:\n",
    "        return \"stop\"\n",
    "    return \"continue\""
   ]
  },
  {
   "cell_type": "code",
   "execution_count": 10,
   "id": "6f4e0b72-65ce-4983-8f31-f9ffe7569f1d",
   "metadata": {},
   "outputs": [],
   "source": [
    "builder = StateGraph(AgentState)"
   ]
  },
  {
   "cell_type": "code",
   "execution_count": 11,
   "id": "f6b0eb14-aba2-45da-afaf-6c19cae8ad40",
   "metadata": {},
   "outputs": [
    {
     "data": {
      "text/plain": [
       "<langgraph.graph.state.StateGraph at 0x1100cd970>"
      ]
     },
     "execution_count": 11,
     "metadata": {},
     "output_type": "execute_result"
    }
   ],
   "source": [
    "builder.add_node(\"planner\", plan_node)\n",
    "builder.add_node(\"powerpoint\", powerpoint_node)"
   ]
  },
  {
   "cell_type": "code",
   "execution_count": 12,
   "id": "1b188deb-cbef-4672-add8-dd5a7d2ed635",
   "metadata": {},
   "outputs": [
    {
     "data": {
      "text/plain": [
       "<langgraph.graph.state.StateGraph at 0x1100cd970>"
      ]
     },
     "execution_count": 12,
     "metadata": {},
     "output_type": "execute_result"
    }
   ],
   "source": [
    "builder.add_node(\"human_feedback\", human_assistance)"
   ]
  },
  {
   "cell_type": "code",
   "execution_count": 13,
   "id": "609fff9e-9156-49dd-9a85-4d87c904a419",
   "metadata": {},
   "outputs": [
    {
     "data": {
      "text/plain": [
       "<langgraph.graph.state.StateGraph at 0x1100cd970>"
      ]
     },
     "execution_count": 13,
     "metadata": {},
     "output_type": "execute_result"
    }
   ],
   "source": [
    "builder.set_entry_point(\"planner\")"
   ]
  },
  {
   "cell_type": "code",
   "execution_count": 14,
   "id": "aa3e8990-cd6a-45c2-9f0f-0abd1e7575a7",
   "metadata": {},
   "outputs": [
    {
     "data": {
      "text/plain": [
       "<langgraph.graph.state.StateGraph at 0x1100cd970>"
      ]
     },
     "execution_count": 14,
     "metadata": {},
     "output_type": "execute_result"
    }
   ],
   "source": [
    "builder.add_edge(\"planner\", \"human_feedback\")\n",
    "# builder.add_edge(\"human_feedback\", \"powerpoint\")\n",
    "builder.add_edge(\"powerpoint\", END)"
   ]
  },
  {
   "cell_type": "code",
   "execution_count": 15,
   "id": "9bf51944-70b8-42cf-88b4-c6ed53ffdb45",
   "metadata": {},
   "outputs": [
    {
     "data": {
      "text/plain": [
       "<langgraph.graph.state.StateGraph at 0x1100cd970>"
      ]
     },
     "execution_count": 15,
     "metadata": {},
     "output_type": "execute_result"
    }
   ],
   "source": [
    "builder.add_conditional_edges(\n",
    "    \"human_feedback\", \n",
    "    should_continue, \n",
    "    {\"stop\": END, \"continue\": \"powerpoint\"}\n",
    ")"
   ]
  },
  {
   "cell_type": "code",
   "execution_count": 16,
   "id": "d1782cfe-11d6-4f40-a11b-b860e518356f",
   "metadata": {},
   "outputs": [],
   "source": [
    "graph = builder.compile(checkpointer=memory)"
   ]
  },
  {
   "cell_type": "code",
   "execution_count": 19,
   "id": "3fc9c544-3077-4bfc-acff-b42c88620544",
   "metadata": {},
   "outputs": [
    {
     "name": "stdout",
     "output_type": "stream",
     "text": [
      "{'planner': {'plan': '{\\n    \"title\": \"Incorporating GenAI into Client Workflow\",\\n    \"content\": {\\n        \"Introduction\": {\\n            \"content\": \"Brief overview of GenAI and its benefits for clients.\"\\n        },\\n        \"Understanding GenAI\": {\\n            \"content\": \"Explanation of what GenAI is and how it works.\"\\n        },\\n        \"Benefits of GenAI\": {\\n            \"content\": \"Highlight the advantages of incorporating GenAI into workflow.\"\\n        },\\n        \"Integration Process\": {\\n            \"content\": \"Step-by-step guide on how clients can integrate GenAI into their existing workflow.\"\\n        },\\n        \"Best Practices\": {\\n            \"content\": \"Recommendations on how to maximize the effectiveness of GenAI in workflow.\"\\n        },\\n        \"Case Studies\": {\\n            \"content\": \"Real-life examples of companies successfully using GenAI in their workflow.\"\\n        },\\n        \"Q&A\": {\\n            \"content\": \"Open the floor for questions and provide answers to common queries.\"\\n        },\\n        \"Conclusion\": {\\n            \"content\": \"Summarize key points and encourage clients to start incorporating GenAI into their workflow.\"\\n        }\\n    }\\n}'}}\n",
      "{'__interrupt__': (Interrupt(value='Please provide feedback', resumable=True, ns=['human_feedback:dfe90da6-ae50-5efe-97e6-af9f85a57765'], when='during'),)}\n"
     ]
    }
   ],
   "source": [
    "thread = {\"configurable\": {\"thread_id\": \"1\"}}\n",
    "events = graph.stream({\n",
    "    'task': \"How can our clients incorporate GenAI into their workflow?\"}, thread)\n",
    "\n",
    "for event in events:\n",
    "    print(event)"
   ]
  },
  {
   "cell_type": "code",
   "execution_count": 20,
   "id": "59e4790e-2753-48f6-b379-1d3e799209b5",
   "metadata": {},
   "outputs": [
    {
     "name": "stdout",
     "output_type": "stream",
     "text": [
      "{'human_feedback': {'stop': False}}\n",
      "\n",
      "\n",
      "IN POWERPOINT NODE\n",
      "{'title': 'Incorporating GenAI into Client Workflow', 'content': {'Introduction': {'content': 'Brief overview of GenAI and its benefits for clients.'}, 'Understanding GenAI': {'content': 'Explanation of what GenAI is and how it works.'}, 'Benefits of GenAI': {'content': 'Highlight the advantages of incorporating GenAI into workflow.'}, 'Integration Process': {'content': 'Step-by-step guide on how clients can integrate GenAI into their existing workflow.'}, 'Best Practices': {'content': 'Recommendations on how to maximize the effectiveness of GenAI in workflow.'}, 'Case Studies': {'content': 'Real-life examples of companies successfully using GenAI in their workflow.'}, 'Q&A': {'content': 'Open the floor for questions and provide answers to common queries.'}, 'Conclusion': {'content': 'Summarize key points and encourage clients to start incorporating GenAI into their workflow.'}}}\n",
      "{'powerpoint': {'ppt_status': 'Complete'}}\n",
      "\n",
      "\n"
     ]
    }
   ],
   "source": [
    "# Continue the graph execution\n",
    "for event in graph.stream(\n",
    "    Command(resume=\"continue\"), thread, stream_mode=\"updates\"\n",
    "):\n",
    "    print(event)\n",
    "    print(\"\\n\")"
   ]
  },
  {
   "cell_type": "code",
   "execution_count": 19,
   "id": "e7ed7c6e-01ad-4bfe-af9f-954bae2b1574",
   "metadata": {},
   "outputs": [
    {
     "data": {
      "image/png": "[encoded data removed]",
      "text/plain": [
       "<IPython.core.display.Image object>"
      ]
     },
     "metadata": {},
     "output_type": "display_data"
    }
   ],
   "source": [
    "from IPython.display import Image, display\n",
    "\n",
    "try:\n",
    "    display(Image(graph.get_graph().draw_mermaid_png()))\n",
    "except Exception:\n",
    "    # This requires some extra dependencies and is optional\n",
    "    print(Exception.with_traceback)"
   ]
  },
  {
   "cell_type": "code",
   "execution_count": null,
   "id": "ddaf3dae-fecb-4dd0-a0a5-61610563d67d",
   "metadata": {},
   "outputs": [],
   "source": []
  }
 ],
 "metadata": {
  "kernelspec": {
   "display_name": "Python 3 (ipykernel)",
   "language": "python",
   "name": "python3"
  },
  "language_info": {
   "codemirror_mode": {
    "name": "ipython",
    "version": 3
   },
   "file_extension": ".py",
   "mimetype": "text/x-python",
   "name": "python",
   "nbconvert_exporter": "python",
   "pygments_lexer": "ipython3",
   "version": "3.12.4"
  }
 },
 "nbformat": 4,
 "nbformat_minor": 5
}
