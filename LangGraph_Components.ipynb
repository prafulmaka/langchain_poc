{
 "cells": [
  {
   "cell_type": "code",
   "execution_count": 2,
   "id": "907924d1-e7bc-422c-b7d1-524af6cb3fdb",
   "metadata": {},
   "outputs": [],
   "source": [
    "from langgraph.graph import StateGraph, END\n",
    "from typing import TypedDict, Annotated\n",
    "import operator\n",
    "from langchain_core.messages import AnyMessage, SystemMessage, HumanMessage, ToolMessage\n",
    "from langchain_openai import ChatOpenAI\n",
    "from langchain_community.tools.tavily_search import TavilySearchResults\n",
    "from dotenv import dotenv_values\n",
    "import os"
   ]
  },
  {
   "cell_type": "code",
   "execution_count": 3,
   "id": "1d21f7c3-dc5e-4da7-9871-2bfc43e5c8f1",
   "metadata": {},
   "outputs": [],
   "source": [
    "config = dotenv_values(\".env\")"
   ]
  },
  {
   "cell_type": "code",
   "execution_count": 41,
   "id": "294f72a9-39b4-45f1-9184-1dd733b26ab6",
   "metadata": {},
   "outputs": [
    {
     "name": "stdout",
     "output_type": "stream",
     "text": [
      "<class 'langchain_community.tools.tavily_search.tool.TavilySearchResults'>\n",
      "tavily_search_results_json\n"
     ]
    }
   ],
   "source": [
    "tool = TavilySearchResults(max_results=4) #increased number of results\n",
    "print(type(tool))\n",
    "print(tool.name)"
   ]
  },
  {
   "cell_type": "code",
   "execution_count": 42,
   "id": "c3feba95-466f-4d74-859b-4901591e7a94",
   "metadata": {},
   "outputs": [],
   "source": [
    "class AgentState(TypedDict):\n",
    "    messages: Annotated[list[AnyMessage], operator.add]"
   ]
  },
  {
   "cell_type": "code",
   "execution_count": 43,
   "id": "a6ec783e-35f9-4108-b348-3db0ef9b7d6f",
   "metadata": {},
   "outputs": [],
   "source": [
    "class Agent:\n",
    "\n",
    "    def __init__(self, model, tools, system=\"\"):\n",
    "        self.system = system\n",
    "        graph = StateGraph(AgentState)\n",
    "        graph.add_node(\"llm\", self.call_openai)\n",
    "        graph.add_node(\"action\", self.take_action)\n",
    "        graph.add_conditional_edges(\n",
    "            \"llm\",\n",
    "            self.exists_action,\n",
    "            {True: \"action\", False: END}\n",
    "        )\n",
    "        graph.add_edge(\"action\", \"llm\")\n",
    "        graph.set_entry_point(\"llm\")\n",
    "        self.graph = graph.compile()\n",
    "        self.tools = {t.name: t for t in tools}\n",
    "        self.model = model.bind_tools(tools)\n",
    "\n",
    "    # Function to check if action exists\n",
    "    def exists_action(self, state: AgentState):\n",
    "        result = state['messages'][-1]\n",
    "        return len(result.tool_calls) > 0\n",
    "\n",
    "    # Function to call OpenAI\n",
    "    def call_openai(self, state: AgentState):\n",
    "        messages = state['messages']\n",
    "        if self.system:\n",
    "            messages = [SystemMessage(content=self.system)] + messages\n",
    "        message = self.model.invoke(messages)\n",
    "        return {'messages': [message]}\n",
    "\n",
    "    # Function to take action\n",
    "    def take_action(self, state: AgentState):\n",
    "        tool_calls = state['messages'][-1].tool_calls\n",
    "        results = []\n",
    "        for t in tool_calls:\n",
    "            print(f\"Calling: {t}\")\n",
    "            if not t['name'] in self.tools:      # check for bad tool name from LLM\n",
    "                print(\"\\n ....bad tool name....\")\n",
    "                result = \"bad tool name, retry\"  # instruct LLM to retry if bad\n",
    "            else:\n",
    "                result = self.tools[t['name']].invoke(t['args'])\n",
    "            results.append(ToolMessage(tool_call_id=t['id'], name=t['name'], content=str(result)))\n",
    "        print(\"Back to the model!\")\n",
    "        return {'messages': results}"
   ]
  },
  {
   "cell_type": "code",
   "execution_count": 44,
   "id": "fc6768f2-3c27-40e0-ae02-7c38e3e946fd",
   "metadata": {},
   "outputs": [],
   "source": [
    "prompt = \"\"\"You are a smart research assistant. Use the search engine to look up information. \\\n",
    "You are allowed to make multiple calls (either together or in sequence). \\\n",
    "Only look up information when you are sure of what you want. \\\n",
    "If you need to look up some information before asking a follow up question, you are allowed to do that!\n",
    "\"\"\"\n",
    "\n",
    "model = ChatOpenAI(model=\"gpt-3.5-turbo\", openai_api_key=config[\"OPEN_AI_KEY\"])  #reduce inference cost\n",
    "abot = Agent(model, [tool], system=prompt)"
   ]
  },
  {
   "cell_type": "code",
   "execution_count": 45,
   "id": "9617d54c-edcc-4c62-9cc2-9b2e385fbfd7",
   "metadata": {},
   "outputs": [],
   "source": [
    "# from IPython.display import Image\n",
    "\n",
    "# Image(abot.graph.get_graph().draw_png())"
   ]
  },
  {
   "cell_type": "code",
   "execution_count": 46,
   "id": "bb31e416-6044-4741-bd53-94a4c6304e26",
   "metadata": {},
   "outputs": [
    {
     "name": "stdout",
     "output_type": "stream",
     "text": [
      "Calling: {'name': 'tavily_search_results_json', 'args': {'query': 'weather in San Francisco'}, 'id': 'call_FssE4SWPsZlI26zV1dtBSuOV'}\n",
      "Back to the model!\n"
     ]
    }
   ],
   "source": [
    "messages = [HumanMessage(content=\"What is the weather in sf?\")]\n",
    "result = abot.graph.invoke({\"messages\": messages})"
   ]
  },
  {
   "cell_type": "code",
   "execution_count": 51,
   "id": "931d925d-2a47-4cc9-9be6-f8d578dd6746",
   "metadata": {},
   "outputs": [
    {
     "data": {
      "text/plain": [
       "{'messages': [HumanMessage(content='What is the weather in sf?'),\n",
       "  AIMessage(content='', additional_kwargs={'tool_calls': [{'id': 'call_FssE4SWPsZlI26zV1dtBSuOV', 'function': {'arguments': '{\"query\":\"weather in San Francisco\"}', 'name': 'tavily_search_results_json'}, 'type': 'function'}]}, response_metadata={'token_usage': {'completion_tokens': 21, 'prompt_tokens': 153, 'total_tokens': 174}, 'model_name': 'gpt-3.5-turbo', 'system_fingerprint': None, 'finish_reason': 'tool_calls', 'logprobs': None}, id='run-b0eed02e-679c-4415-9086-5a1d82dcf859-0', tool_calls=[{'name': 'tavily_search_results_json', 'args': {'query': 'weather in San Francisco'}, 'id': 'call_FssE4SWPsZlI26zV1dtBSuOV'}]),\n",
       "  ToolMessage(content='[{\\'url\\': \\'https://world-weather.info/forecast/usa/san_francisco/june-2024/\\', \\'content\\': \\'Extended weather forecast in San Francisco. Hourly Week 10 days 14 days 30 days Year. Detailed ⚡ San Francisco Weather Forecast for June 2024 - day/night 🌡️ temperatures, precipitations - World-Weather.info.\\'}, {\\'url\\': \\'https://www.weatherapi.com/\\', \\'content\\': \"{\\'location\\': {\\'name\\': \\'San Francisco\\', \\'region\\': \\'California\\', \\'country\\': \\'United States of America\\', \\'lat\\': 37.78, \\'lon\\': -122.42, \\'tz_id\\': \\'America/Los_Angeles\\', \\'localtime_epoch\\': 1719711313, \\'localtime\\': \\'2024-06-29 18:35\\'}, \\'current\\': {\\'last_updated_epoch\\': 1719711000, \\'last_updated\\': \\'2024-06-29 18:30\\', \\'temp_c\\': 20.3, \\'temp_f\\': 68.5, \\'is_day\\': 1, \\'condition\\': {\\'text\\': \\'Partly cloudy\\', \\'icon\\': \\'//cdn.weatherapi.com/weather/64x64/day/116.png\\', \\'code\\': 1003}, \\'wind_mph\\': 12.5, \\'wind_kph\\': 20.2, \\'wind_degree\\': 290, \\'wind_dir\\': \\'WNW\\', \\'pressure_mb\\': 1012.0, \\'pressure_in\\': 29.89, \\'precip_mm\\': 0.0, \\'precip_in\\': 0.0, \\'humidity\\': 61, \\'cloud\\': 50, \\'feelslike_c\\': 20.3, \\'feelslike_f\\': 68.5, \\'windchill_c\\': 16.5, \\'windchill_f\\': 61.7, \\'heatindex_c\\': 16.5, \\'heatindex_f\\': 61.7, \\'dewpoint_c\\': 10.4, \\'dewpoint_f\\': 50.7, \\'vis_km\\': 16.0, \\'vis_miles\\': 9.0, \\'uv\\': 5.0, \\'gust_mph\\': 15.8, \\'gust_kph\\': 25.4}}\"}, {\\'url\\': \\'https://www.timeanddate.com/weather/usa/san-francisco/historic\\', \\'content\\': \\'San Francisco Weather History for the Previous 24 Hours Show weather for: Previous 24 hours June 24, 2024 June 23, 2024 June 22, 2024 June 21, 2024 June 20, 2024 June 19, 2024 June 18, 2024 June 17, 2024 June 16, 2024 June 15, 2024 June 14, 2024 June 13, 2024 June 12, 2024 June 11, 2024 June 10, 2024 June 9, 2024\\'}, {\\'url\\': \\'https://www.accuweather.com/en/us/san-francisco/94103/june-weather/347629\\', \\'content\\': \\'Get the monthly weather forecast for San Francisco, CA, including daily high/low, historical averages, to help you plan ahead.\\'}]', name='tavily_search_results_json', tool_call_id='call_FssE4SWPsZlI26zV1dtBSuOV'),\n",
       "  AIMessage(content='The current weather in San Francisco is partly cloudy with a temperature of 68.5°F (20.3°C). The wind speed is 20.2 km/h coming from the west-northwest direction. The humidity is at 61%, and the visibility is 16.0 km.', response_metadata={'token_usage': {'completion_tokens': 61, 'prompt_tokens': 895, 'total_tokens': 956}, 'model_name': 'gpt-3.5-turbo', 'system_fingerprint': None, 'finish_reason': 'stop', 'logprobs': None}, id='run-8d6209b1-ec56-43ef-af05-4f707f0cc1fc-0')]}"
      ]
     },
     "execution_count": 51,
     "metadata": {},
     "output_type": "execute_result"
    }
   ],
   "source": [
    "result"
   ]
  },
  {
   "cell_type": "code",
   "execution_count": 52,
   "id": "03d7c025-8bfc-411a-8e7c-8f828fa5e1b1",
   "metadata": {},
   "outputs": [
    {
     "data": {
      "text/plain": [
       "'The current weather in San Francisco is partly cloudy with a temperature of 68.5°F (20.3°C). The wind speed is 20.2 km/h coming from the west-northwest direction. The humidity is at 61%, and the visibility is 16.0 km.'"
      ]
     },
     "execution_count": 52,
     "metadata": {},
     "output_type": "execute_result"
    }
   ],
   "source": [
    "result['messages'][-1].content"
   ]
  },
  {
   "cell_type": "code",
   "execution_count": 53,
   "id": "e9732864-4186-4ec7-956f-79ed49e738e9",
   "metadata": {},
   "outputs": [
    {
     "data": {
      "text/plain": [
       "[HumanMessage(content='What is the weather in sf?'),\n",
       " AIMessage(content='', additional_kwargs={'tool_calls': [{'id': 'call_FssE4SWPsZlI26zV1dtBSuOV', 'function': {'arguments': '{\"query\":\"weather in San Francisco\"}', 'name': 'tavily_search_results_json'}, 'type': 'function'}]}, response_metadata={'token_usage': {'completion_tokens': 21, 'prompt_tokens': 153, 'total_tokens': 174}, 'model_name': 'gpt-3.5-turbo', 'system_fingerprint': None, 'finish_reason': 'tool_calls', 'logprobs': None}, id='run-b0eed02e-679c-4415-9086-5a1d82dcf859-0', tool_calls=[{'name': 'tavily_search_results_json', 'args': {'query': 'weather in San Francisco'}, 'id': 'call_FssE4SWPsZlI26zV1dtBSuOV'}]),\n",
       " ToolMessage(content='[{\\'url\\': \\'https://world-weather.info/forecast/usa/san_francisco/june-2024/\\', \\'content\\': \\'Extended weather forecast in San Francisco. Hourly Week 10 days 14 days 30 days Year. Detailed ⚡ San Francisco Weather Forecast for June 2024 - day/night 🌡️ temperatures, precipitations - World-Weather.info.\\'}, {\\'url\\': \\'https://www.weatherapi.com/\\', \\'content\\': \"{\\'location\\': {\\'name\\': \\'San Francisco\\', \\'region\\': \\'California\\', \\'country\\': \\'United States of America\\', \\'lat\\': 37.78, \\'lon\\': -122.42, \\'tz_id\\': \\'America/Los_Angeles\\', \\'localtime_epoch\\': 1719711313, \\'localtime\\': \\'2024-06-29 18:35\\'}, \\'current\\': {\\'last_updated_epoch\\': 1719711000, \\'last_updated\\': \\'2024-06-29 18:30\\', \\'temp_c\\': 20.3, \\'temp_f\\': 68.5, \\'is_day\\': 1, \\'condition\\': {\\'text\\': \\'Partly cloudy\\', \\'icon\\': \\'//cdn.weatherapi.com/weather/64x64/day/116.png\\', \\'code\\': 1003}, \\'wind_mph\\': 12.5, \\'wind_kph\\': 20.2, \\'wind_degree\\': 290, \\'wind_dir\\': \\'WNW\\', \\'pressure_mb\\': 1012.0, \\'pressure_in\\': 29.89, \\'precip_mm\\': 0.0, \\'precip_in\\': 0.0, \\'humidity\\': 61, \\'cloud\\': 50, \\'feelslike_c\\': 20.3, \\'feelslike_f\\': 68.5, \\'windchill_c\\': 16.5, \\'windchill_f\\': 61.7, \\'heatindex_c\\': 16.5, \\'heatindex_f\\': 61.7, \\'dewpoint_c\\': 10.4, \\'dewpoint_f\\': 50.7, \\'vis_km\\': 16.0, \\'vis_miles\\': 9.0, \\'uv\\': 5.0, \\'gust_mph\\': 15.8, \\'gust_kph\\': 25.4}}\"}, {\\'url\\': \\'https://www.timeanddate.com/weather/usa/san-francisco/historic\\', \\'content\\': \\'San Francisco Weather History for the Previous 24 Hours Show weather for: Previous 24 hours June 24, 2024 June 23, 2024 June 22, 2024 June 21, 2024 June 20, 2024 June 19, 2024 June 18, 2024 June 17, 2024 June 16, 2024 June 15, 2024 June 14, 2024 June 13, 2024 June 12, 2024 June 11, 2024 June 10, 2024 June 9, 2024\\'}, {\\'url\\': \\'https://www.accuweather.com/en/us/san-francisco/94103/june-weather/347629\\', \\'content\\': \\'Get the monthly weather forecast for San Francisco, CA, including daily high/low, historical averages, to help you plan ahead.\\'}]', name='tavily_search_results_json', tool_call_id='call_FssE4SWPsZlI26zV1dtBSuOV'),\n",
       " AIMessage(content='The current weather in San Francisco is partly cloudy with a temperature of 68.5°F (20.3°C). The wind speed is 20.2 km/h coming from the west-northwest direction. The humidity is at 61%, and the visibility is 16.0 km.', response_metadata={'token_usage': {'completion_tokens': 61, 'prompt_tokens': 895, 'total_tokens': 956}, 'model_name': 'gpt-3.5-turbo', 'system_fingerprint': None, 'finish_reason': 'stop', 'logprobs': None}, id='run-8d6209b1-ec56-43ef-af05-4f707f0cc1fc-0')]"
      ]
     },
     "execution_count": 53,
     "metadata": {},
     "output_type": "execute_result"
    }
   ],
   "source": [
    "result['messages']"
   ]
  },
  {
   "cell_type": "code",
   "execution_count": 54,
   "id": "608b1239-671a-49ee-be28-35b9fa8e7def",
   "metadata": {},
   "outputs": [
    {
     "name": "stdout",
     "output_type": "stream",
     "text": [
      "Calling: {'name': 'tavily_search_results_json', 'args': {'query': 'weather in San Francisco'}, 'id': 'call_WsGHxlbDfeFuUemNSdPV7hYr'}\n",
      "Calling: {'name': 'tavily_search_results_json', 'args': {'query': 'weather in Los Angeles'}, 'id': 'call_1yykou3Ho9eYYzxtUQXeiYMa'}\n",
      "Back to the model!\n"
     ]
    }
   ],
   "source": [
    "messages = [HumanMessage(content=\"What is the weather in SF and LA?\")]\n",
    "result = abot.graph.invoke({\"messages\": messages})"
   ]
  },
  {
   "cell_type": "code",
   "execution_count": 55,
   "id": "dd82d6f1-fd15-4f84-b466-8203c3901055",
   "metadata": {},
   "outputs": [
    {
     "data": {
      "text/plain": [
       "'The current weather in San Francisco is partly cloudy with a temperature of 68.5°F. The wind speed is 20.2 kph coming from the west-northwest direction. The humidity is at 61% with a visibility of 9.0 miles.\\n\\nIn Los Angeles, the weather is sunny with a temperature of 69.1°F. The wind speed is 20.2 kph coming from the west direction. The humidity is at 68% with clear skies and a visibility of 9.0 miles.'"
      ]
     },
     "execution_count": 55,
     "metadata": {},
     "output_type": "execute_result"
    }
   ],
   "source": [
    "result['messages'][-1].content"
   ]
  },
  {
   "cell_type": "code",
   "execution_count": 57,
   "id": "f1209b97-da20-4804-8fdc-5c2502587b28",
   "metadata": {},
   "outputs": [
    {
     "name": "stdout",
     "output_type": "stream",
     "text": [
      "Calling: {'name': 'tavily_search_results_json', 'args': {'query': 'Super Bowl 2024 winner'}, 'id': 'call_yLZeEDdsAUjAi9F47nSPrVcs'}\n",
      "Calling: {'name': 'tavily_search_results_json', 'args': {'query': 'GDP of state where 2024 Super Bowl winning team is headquartered'}, 'id': 'call_JJpXmiQq8kc6QP5QSTBp80wI'}\n",
      "Back to the model!\n"
     ]
    }
   ],
   "source": [
    "\n",
    "query = \"Who won the super bowl in 2024? In what state is the winning team headquarters located? \\\n",
    "What is the GDP of that state? Answer each question.\" \n",
    "messages = [HumanMessage(content=query)]\n",
    "\n",
    "model = ChatOpenAI(model=\"gpt-4o\", openai_api_key=config[\"OPEN_AI_KEY\"])  # requires more advanced model\n",
    "abot = Agent(model, [tool], system=prompt)\n",
    "result = abot.graph.invoke({\"messages\": messages})"
   ]
  },
  {
   "cell_type": "code",
   "execution_count": 60,
   "id": "3160a6d6-bb0f-4748-82e2-de63ecc53a09",
   "metadata": {},
   "outputs": [
    {
     "name": "stdout",
     "output_type": "stream",
     "text": [
      "### Who won the Super Bowl in 2024?\n",
      "\n",
      "The Kansas City Chiefs won the Super Bowl in 2024. They defeated the San Francisco 49ers in an overtime victory with a score of 25-22.\n",
      "\n",
      "### In what state is the winning team headquarters located?\n",
      "\n",
      "The Kansas City Chiefs are headquartered in the state of Missouri.\n",
      "\n",
      "### What is the GDP of that state?\n",
      "\n",
      "According to the most recent data available from the Bureau of Economic Analysis, the Gross Domestic Product (GDP) of Missouri increased by an annual rate of 5.0 percent in the first quarter of 2024. For more specific and up-to-date figures, you may refer to the Bureau of Economic Analysis [GDP by State](https://www.bea.gov/data/gdp/gdp-state).\n"
     ]
    }
   ],
   "source": [
    "print(result['messages'][-1].content)"
   ]
  },
  {
   "cell_type": "code",
   "execution_count": null,
   "id": "1740b6f0-aef4-4310-b3ff-07567aec0709",
   "metadata": {},
   "outputs": [],
   "source": []
  }
 ],
 "metadata": {
  "kernelspec": {
   "display_name": "Python 3 (ipykernel)",
   "language": "python",
   "name": "python3"
  },
  "language_info": {
   "codemirror_mode": {
    "name": "ipython",
    "version": 3
   },
   "file_extension": ".py",
   "mimetype": "text/x-python",
   "name": "python",
   "nbconvert_exporter": "python",
   "pygments_lexer": "ipython3",
   "version": "3.9.7"
  }
 },
 "nbformat": 4,
 "nbformat_minor": 5
}
